{
 "cells": [
  {
   "cell_type": "markdown",
   "metadata": {},
   "source": [
    "# Imporing Libraries"
   ]
  },
  {
   "cell_type": "code",
   "execution_count": 113,
   "metadata": {
    "ExecuteTime": {
     "end_time": "2020-05-03T21:40:20.437129Z",
     "start_time": "2020-05-03T21:40:20.430694Z"
    }
   },
   "outputs": [
    {
     "name": "stderr",
     "output_type": "stream",
     "text": [
      "[nltk_data] Downloading package wordnet to /Users/kaushik-\n",
      "[nltk_data]     shakkari/nltk_data...\n",
      "[nltk_data]   Package wordnet is already up-to-date!\n"
     ]
    }
   ],
   "source": [
    "# Data Visualization\n",
    "import seaborn as sns\n",
    "import matplotlib.pyplot as plt\n",
    "\n",
    "# Data Processing\n",
    "import numpy as np\n",
    "import pandas as pd\n",
    "import pickle\n",
    "from gensim.models import Word2Vec\n",
    "\n",
    "# NLP \n",
    "import re\n",
    "import gensim\n",
    "import nltk\n",
    "import spacy\n",
    "from nltk.corpus import stopwords\n",
    "nltk.download('wordnet')\n",
    "\n",
    "# ML\n",
    "from sklearn.model_selection import train_test_split\n",
    "from sklearn.metrics import f1_score, accuracy_score, confusion_matrix\n",
    "\n",
    "# BERT\n",
    "import torch\n",
    "from pytorch_pretrained_bert import BertTokenizer, BertModel, BertForMaskedLM\n",
    "from scipy.spatial.distance import cosine\n",
    "\n",
    "# Others\n",
    "import os\n",
    "import warnings\n",
    "from collections import defaultdict\n",
    "\n"
   ]
  },
  {
   "cell_type": "markdown",
   "metadata": {},
   "source": [
    "# Processing and Preparing Data"
   ]
  },
  {
   "cell_type": "markdown",
   "metadata": {},
   "source": [
    "## Processing Given Data "
   ]
  },
  {
   "cell_type": "code",
   "execution_count": 114,
   "metadata": {
    "ExecuteTime": {
     "end_time": "2020-05-03T21:40:21.157508Z",
     "start_time": "2020-05-03T21:40:21.098274Z"
    }
   },
   "outputs": [],
   "source": [
    "#given dataset\n",
    "df_given = pd.read_csv('../data/given_counsel_chat_dataset.csv')"
   ]
  },
  {
   "cell_type": "code",
   "execution_count": 115,
   "metadata": {
    "ExecuteTime": {
     "end_time": "2020-05-03T21:40:21.201280Z",
     "start_time": "2020-05-03T21:40:21.184640Z"
    }
   },
   "outputs": [
    {
     "data": {
      "text/html": [
       "<div>\n",
       "<style scoped>\n",
       "    .dataframe tbody tr th:only-of-type {\n",
       "        vertical-align: middle;\n",
       "    }\n",
       "\n",
       "    .dataframe tbody tr th {\n",
       "        vertical-align: top;\n",
       "    }\n",
       "\n",
       "    .dataframe thead th {\n",
       "        text-align: right;\n",
       "    }\n",
       "</style>\n",
       "<table border=\"1\" class=\"dataframe\">\n",
       "  <thead>\n",
       "    <tr style=\"text-align: right;\">\n",
       "      <th></th>\n",
       "      <th>questionID</th>\n",
       "      <th>questionTitle</th>\n",
       "      <th>questionText</th>\n",
       "      <th>questionLink</th>\n",
       "      <th>topic</th>\n",
       "      <th>therapistInfo</th>\n",
       "      <th>therapistURL</th>\n",
       "      <th>answerText</th>\n",
       "      <th>upvotes</th>\n",
       "      <th>views</th>\n",
       "      <th>split</th>\n",
       "    </tr>\n",
       "  </thead>\n",
       "  <tbody>\n",
       "    <tr>\n",
       "      <th>1943</th>\n",
       "      <td>859</td>\n",
       "      <td>How do I approach my doctor about seeing a the...</td>\n",
       "      <td>I'm worried I should see a therapist due to pa...</td>\n",
       "      <td>https://counselchat.com/questions/how-do-i-app...</td>\n",
       "      <td>professional-ethics</td>\n",
       "      <td>Danielle AlvarezLicensed Professional Counselor</td>\n",
       "      <td>https://counselchat.com/therapists/danielle-al...</td>\n",
       "      <td>Thanks for your question. I'm glad you realize...</td>\n",
       "      <td>1</td>\n",
       "      <td>161</td>\n",
       "      <td>train</td>\n",
       "    </tr>\n",
       "    <tr>\n",
       "      <th>1590</th>\n",
       "      <td>679</td>\n",
       "      <td>How can I be with the boy who liked me?</td>\n",
       "      <td>There's this boy who asked me out awhile ago. ...</td>\n",
       "      <td>https://counselchat.com/questions/how-can-i-be...</td>\n",
       "      <td>relationships</td>\n",
       "      <td>Sherry Katz, LCSWCouples and Family Therapist,...</td>\n",
       "      <td>https://counselchat.com/therapists/sherry-katz...</td>\n",
       "      <td>Since you've decided to be with the boy who al...</td>\n",
       "      <td>0</td>\n",
       "      <td>2</td>\n",
       "      <td>train</td>\n",
       "    </tr>\n",
       "    <tr>\n",
       "      <th>1370</th>\n",
       "      <td>580</td>\n",
       "      <td>How do I stop grieving my mother’s death?</td>\n",
       "      <td>What can I do to stop grieving my mother’s dea...</td>\n",
       "      <td>https://counselchat.com/questions/how-do-i-sto...</td>\n",
       "      <td>grief-and-loss</td>\n",
       "      <td>Kristi King-Morgan, LMSWSocial Worker, Psychot...</td>\n",
       "      <td>https://counselchat.com/therapists/kristi-king...</td>\n",
       "      <td>I am sorry that you lost your mother. That is ...</td>\n",
       "      <td>1</td>\n",
       "      <td>312</td>\n",
       "      <td>test</td>\n",
       "    </tr>\n",
       "    <tr>\n",
       "      <th>507</th>\n",
       "      <td>180</td>\n",
       "      <td>How can I make the voices stop?</td>\n",
       "      <td>I don't remember when the voices in my head st...</td>\n",
       "      <td>https://counselchat.com/questions/how-can-i-ma...</td>\n",
       "      <td>anxiety</td>\n",
       "      <td>Vikas KeshriRecovery from mental illness is po...</td>\n",
       "      <td>https://counselchat.com/therapists/vikas-keshri</td>\n",
       "      <td>You are right. It is not normal to hear voices...</td>\n",
       "      <td>0</td>\n",
       "      <td>155</td>\n",
       "      <td>train</td>\n",
       "    </tr>\n",
       "    <tr>\n",
       "      <th>830</th>\n",
       "      <td>329</td>\n",
       "      <td>I don't trust my boyfriend</td>\n",
       "      <td>I found messages between my boyfriend and this...</td>\n",
       "      <td>https://counselchat.com/questions/i-don-t-trus...</td>\n",
       "      <td>self-esteem</td>\n",
       "      <td>Sherry Katz, LCSWCouples and Family Therapist,...</td>\n",
       "      <td>https://counselchat.com/therapists/sherry-katz...</td>\n",
       "      <td>I'm sorry for so much stress in your relations...</td>\n",
       "      <td>1</td>\n",
       "      <td>184</td>\n",
       "      <td>train</td>\n",
       "    </tr>\n",
       "  </tbody>\n",
       "</table>\n",
       "</div>"
      ],
      "text/plain": [
       "      questionID                                      questionTitle  \\\n",
       "1943         859  How do I approach my doctor about seeing a the...   \n",
       "1590         679            How can I be with the boy who liked me?   \n",
       "1370         580          How do I stop grieving my mother’s death?   \n",
       "507          180                    How can I make the voices stop?   \n",
       "830          329                         I don't trust my boyfriend   \n",
       "\n",
       "                                           questionText  \\\n",
       "1943  I'm worried I should see a therapist due to pa...   \n",
       "1590  There's this boy who asked me out awhile ago. ...   \n",
       "1370  What can I do to stop grieving my mother’s dea...   \n",
       "507   I don't remember when the voices in my head st...   \n",
       "830   I found messages between my boyfriend and this...   \n",
       "\n",
       "                                           questionLink                topic  \\\n",
       "1943  https://counselchat.com/questions/how-do-i-app...  professional-ethics   \n",
       "1590  https://counselchat.com/questions/how-can-i-be...        relationships   \n",
       "1370  https://counselchat.com/questions/how-do-i-sto...       grief-and-loss   \n",
       "507   https://counselchat.com/questions/how-can-i-ma...              anxiety   \n",
       "830   https://counselchat.com/questions/i-don-t-trus...          self-esteem   \n",
       "\n",
       "                                          therapistInfo  \\\n",
       "1943    Danielle AlvarezLicensed Professional Counselor   \n",
       "1590  Sherry Katz, LCSWCouples and Family Therapist,...   \n",
       "1370  Kristi King-Morgan, LMSWSocial Worker, Psychot...   \n",
       "507   Vikas KeshriRecovery from mental illness is po...   \n",
       "830   Sherry Katz, LCSWCouples and Family Therapist,...   \n",
       "\n",
       "                                           therapistURL  \\\n",
       "1943  https://counselchat.com/therapists/danielle-al...   \n",
       "1590  https://counselchat.com/therapists/sherry-katz...   \n",
       "1370  https://counselchat.com/therapists/kristi-king...   \n",
       "507     https://counselchat.com/therapists/vikas-keshri   \n",
       "830   https://counselchat.com/therapists/sherry-katz...   \n",
       "\n",
       "                                             answerText  upvotes  views  split  \n",
       "1943  Thanks for your question. I'm glad you realize...        1    161  train  \n",
       "1590  Since you've decided to be with the boy who al...        0      2  train  \n",
       "1370  I am sorry that you lost your mother. That is ...        1    312   test  \n",
       "507   You are right. It is not normal to hear voices...        0    155  train  \n",
       "830   I'm sorry for so much stress in your relations...        1    184  train  "
      ]
     },
     "execution_count": 115,
     "metadata": {},
     "output_type": "execute_result"
    }
   ],
   "source": [
    "df_given.sample(5)"
   ]
  },
  {
   "cell_type": "code",
   "execution_count": 116,
   "metadata": {
    "ExecuteTime": {
     "end_time": "2020-05-03T21:40:21.298203Z",
     "start_time": "2020-05-03T21:40:21.289994Z"
    }
   },
   "outputs": [],
   "source": [
    "df_given.dropna(inplace = True)"
   ]
  },
  {
   "cell_type": "code",
   "execution_count": 117,
   "metadata": {
    "ExecuteTime": {
     "end_time": "2020-05-03T21:40:21.366765Z",
     "start_time": "2020-05-03T21:40:21.361314Z"
    }
   },
   "outputs": [
    {
     "data": {
      "text/plain": [
       "(2129, 11)"
      ]
     },
     "execution_count": 117,
     "metadata": {},
     "output_type": "execute_result"
    }
   ],
   "source": [
    "df_given.shape"
   ]
  },
  {
   "cell_type": "code",
   "execution_count": 118,
   "metadata": {
    "ExecuteTime": {
     "end_time": "2020-05-03T21:40:21.443276Z",
     "start_time": "2020-05-03T21:40:21.436553Z"
    }
   },
   "outputs": [
    {
     "data": {
      "text/plain": [
       "31"
      ]
     },
     "execution_count": 118,
     "metadata": {},
     "output_type": "execute_result"
    }
   ],
   "source": [
    "df_given.topic.nunique()"
   ]
  },
  {
   "cell_type": "markdown",
   "metadata": {
    "ExecuteTime": {
     "end_time": "2020-05-03T19:02:24.891505Z",
     "start_time": "2020-05-03T19:02:24.872160Z"
    }
   },
   "source": [
    "## Processing Crawled Data"
   ]
  },
  {
   "cell_type": "code",
   "execution_count": 119,
   "metadata": {
    "ExecuteTime": {
     "end_time": "2020-05-03T21:40:25.215913Z",
     "start_time": "2020-05-03T21:40:21.608894Z"
    }
   },
   "outputs": [],
   "source": [
    "path = \"../data/CouncilChat-CrawledData/\"\n",
    "\n",
    "files = os.listdir(path)\n",
    "\n",
    "files_xls = [f for f in files if f[-4:] == 'xlsx']\n",
    "\n",
    "list_df = []\n",
    "\n",
    "temp = []\n",
    "\n",
    "for index, filename in enumerate(files_xls):\n",
    "    try: \n",
    "        list_df.append(pd.read_excel(path+filename))\n",
    "        temp.append(filename.split(\".\")[0])\n",
    "    except:\n",
    "        temp.append()\n",
    "\n",
    "df_crawled = pd.concat(list_df)"
   ]
  },
  {
   "cell_type": "code",
   "execution_count": 120,
   "metadata": {
    "ExecuteTime": {
     "end_time": "2020-05-03T21:40:25.245165Z",
     "start_time": "2020-05-03T21:40:25.219327Z"
    }
   },
   "outputs": [],
   "source": [
    "df_crawled.dropna(inplace = True)"
   ]
  },
  {
   "cell_type": "code",
   "execution_count": 121,
   "metadata": {
    "ExecuteTime": {
     "end_time": "2020-05-03T21:40:25.267439Z",
     "start_time": "2020-05-03T21:40:25.249158Z"
    }
   },
   "outputs": [
    {
     "data": {
      "text/html": [
       "<div>\n",
       "<style scoped>\n",
       "    .dataframe tbody tr th:only-of-type {\n",
       "        vertical-align: middle;\n",
       "    }\n",
       "\n",
       "    .dataframe tbody tr th {\n",
       "        vertical-align: top;\n",
       "    }\n",
       "\n",
       "    .dataframe thead th {\n",
       "        text-align: right;\n",
       "    }\n",
       "</style>\n",
       "<table border=\"1\" class=\"dataframe\">\n",
       "  <thead>\n",
       "    <tr style=\"text-align: right;\">\n",
       "      <th></th>\n",
       "      <th>Unnamed: 0</th>\n",
       "      <th>questionID</th>\n",
       "      <th>questionTitle</th>\n",
       "      <th>questionText</th>\n",
       "      <th>questionLink</th>\n",
       "      <th>topic</th>\n",
       "      <th>therapistName</th>\n",
       "      <th>therapistTitle</th>\n",
       "      <th>therapistURL</th>\n",
       "      <th>answerText</th>\n",
       "      <th>upvotes</th>\n",
       "      <th>views</th>\n",
       "    </tr>\n",
       "  </thead>\n",
       "  <tbody>\n",
       "    <tr>\n",
       "      <th>0</th>\n",
       "      <td>0</td>\n",
       "      <td>1</td>\n",
       "      <td>I just lost my grandpa</td>\n",
       "      <td>I just lost my grandpa and i'm having a rough ...</td>\n",
       "      <td>https://counselchat.com/questions/i-just-lost-...</td>\n",
       "      <td>grief-and-loss</td>\n",
       "      <td>Ian Palombo</td>\n",
       "      <td>#ThoughtMediator &amp; #LifeUntangler</td>\n",
       "      <td>https://counselchat.com/therapists/ian-palombo</td>\n",
       "      <td>Feeling profound sadness after the death of a ...</td>\n",
       "      <td>0</td>\n",
       "      <td>92</td>\n",
       "    </tr>\n",
       "    <tr>\n",
       "      <th>1</th>\n",
       "      <td>1</td>\n",
       "      <td>1</td>\n",
       "      <td>I just lost my grandpa</td>\n",
       "      <td>I just lost my grandpa and i'm having a rough ...</td>\n",
       "      <td>https://counselchat.com/questions/i-just-lost-...</td>\n",
       "      <td>grief-and-loss</td>\n",
       "      <td>Dr. Melissa Valentina</td>\n",
       "      <td>Honor Yourself and Live Your Truth</td>\n",
       "      <td>https://counselchat.com/therapists/dr-melissa-...</td>\n",
       "      <td>If you connect with your therapist and can say...</td>\n",
       "      <td>0</td>\n",
       "      <td>16</td>\n",
       "    </tr>\n",
       "    <tr>\n",
       "      <th>2</th>\n",
       "      <td>2</td>\n",
       "      <td>1</td>\n",
       "      <td>I just lost my grandpa</td>\n",
       "      <td>I just lost my grandpa and i'm having a rough ...</td>\n",
       "      <td>https://counselchat.com/questions/i-just-lost-...</td>\n",
       "      <td>grief-and-loss</td>\n",
       "      <td>Dr. Timothy Paul</td>\n",
       "      <td>'man'; Online - \"Natural Health Consultant and...</td>\n",
       "      <td>https://counselchat.com/therapists/dr-timothy-...</td>\n",
       "      <td>Yknow, to see a man youve loved and care for p...</td>\n",
       "      <td>0</td>\n",
       "      <td>30</td>\n",
       "    </tr>\n",
       "    <tr>\n",
       "      <th>3</th>\n",
       "      <td>3</td>\n",
       "      <td>1</td>\n",
       "      <td>I just lost my grandpa</td>\n",
       "      <td>I just lost my grandpa and i'm having a rough ...</td>\n",
       "      <td>https://counselchat.com/questions/i-just-lost-...</td>\n",
       "      <td>grief-and-loss</td>\n",
       "      <td>Christina McGrath Fair</td>\n",
       "      <td>\"Enlightenment is when a wave realizes it is t...</td>\n",
       "      <td>https://counselchat.com/therapists/christina-m...</td>\n",
       "      <td>I am sorry for your loss. I understand the dif...</td>\n",
       "      <td>0</td>\n",
       "      <td>157</td>\n",
       "    </tr>\n",
       "    <tr>\n",
       "      <th>4</th>\n",
       "      <td>4</td>\n",
       "      <td>1</td>\n",
       "      <td>I just lost my grandpa</td>\n",
       "      <td>I just lost my grandpa and i'm having a rough ...</td>\n",
       "      <td>https://counselchat.com/questions/i-just-lost-...</td>\n",
       "      <td>grief-and-loss</td>\n",
       "      <td>Pamela Suraci</td>\n",
       "      <td>Build on your strengths, grow in your challeng...</td>\n",
       "      <td>https://counselchat.com/therapists/pamela-suraci</td>\n",
       "      <td>Losing someone you love, someone who has been ...</td>\n",
       "      <td>0</td>\n",
       "      <td>231</td>\n",
       "    </tr>\n",
       "  </tbody>\n",
       "</table>\n",
       "</div>"
      ],
      "text/plain": [
       "   Unnamed: 0  questionID           questionTitle  \\\n",
       "0           0           1  I just lost my grandpa   \n",
       "1           1           1  I just lost my grandpa   \n",
       "2           2           1  I just lost my grandpa   \n",
       "3           3           1  I just lost my grandpa   \n",
       "4           4           1  I just lost my grandpa   \n",
       "\n",
       "                                        questionText  \\\n",
       "0  I just lost my grandpa and i'm having a rough ...   \n",
       "1  I just lost my grandpa and i'm having a rough ...   \n",
       "2  I just lost my grandpa and i'm having a rough ...   \n",
       "3  I just lost my grandpa and i'm having a rough ...   \n",
       "4  I just lost my grandpa and i'm having a rough ...   \n",
       "\n",
       "                                        questionLink           topic  \\\n",
       "0  https://counselchat.com/questions/i-just-lost-...  grief-and-loss   \n",
       "1  https://counselchat.com/questions/i-just-lost-...  grief-and-loss   \n",
       "2  https://counselchat.com/questions/i-just-lost-...  grief-and-loss   \n",
       "3  https://counselchat.com/questions/i-just-lost-...  grief-and-loss   \n",
       "4  https://counselchat.com/questions/i-just-lost-...  grief-and-loss   \n",
       "\n",
       "            therapistName                                     therapistTitle  \\\n",
       "0             Ian Palombo                  #ThoughtMediator & #LifeUntangler   \n",
       "1   Dr. Melissa Valentina                 Honor Yourself and Live Your Truth   \n",
       "2        Dr. Timothy Paul  'man'; Online - \"Natural Health Consultant and...   \n",
       "3  Christina McGrath Fair  \"Enlightenment is when a wave realizes it is t...   \n",
       "4           Pamela Suraci  Build on your strengths, grow in your challeng...   \n",
       "\n",
       "                                        therapistURL  \\\n",
       "0     https://counselchat.com/therapists/ian-palombo   \n",
       "1  https://counselchat.com/therapists/dr-melissa-...   \n",
       "2  https://counselchat.com/therapists/dr-timothy-...   \n",
       "3  https://counselchat.com/therapists/christina-m...   \n",
       "4   https://counselchat.com/therapists/pamela-suraci   \n",
       "\n",
       "                                          answerText  upvotes  views  \n",
       "0  Feeling profound sadness after the death of a ...        0     92  \n",
       "1  If you connect with your therapist and can say...        0     16  \n",
       "2  Yknow, to see a man youve loved and care for p...        0     30  \n",
       "3  I am sorry for your loss. I understand the dif...        0    157  \n",
       "4  Losing someone you love, someone who has been ...        0    231  "
      ]
     },
     "execution_count": 121,
     "metadata": {},
     "output_type": "execute_result"
    }
   ],
   "source": [
    "df_crawled.head()"
   ]
  },
  {
   "cell_type": "code",
   "execution_count": 122,
   "metadata": {
    "ExecuteTime": {
     "end_time": "2020-05-03T21:40:25.278540Z",
     "start_time": "2020-05-03T21:40:25.272271Z"
    }
   },
   "outputs": [],
   "source": [
    "df_crawled.drop(\"Unnamed: 0\", axis = 1, inplace = True)"
   ]
  },
  {
   "cell_type": "code",
   "execution_count": 123,
   "metadata": {
    "ExecuteTime": {
     "end_time": "2020-05-03T21:40:25.287214Z",
     "start_time": "2020-05-03T21:40:25.281657Z"
    }
   },
   "outputs": [
    {
     "data": {
      "text/plain": [
       "(12139, 11)"
      ]
     },
     "execution_count": 123,
     "metadata": {},
     "output_type": "execute_result"
    }
   ],
   "source": [
    "df_crawled.shape"
   ]
  },
  {
   "cell_type": "markdown",
   "metadata": {},
   "source": [
    "## Combining Two Dataframes "
   ]
  },
  {
   "cell_type": "code",
   "execution_count": 124,
   "metadata": {
    "ExecuteTime": {
     "end_time": "2020-05-03T21:40:25.306195Z",
     "start_time": "2020-05-03T21:40:25.290473Z"
    }
   },
   "outputs": [],
   "source": [
    "df = pd.concat([df_given[[\"questionTitle\",\"questionText\",\"questionLink\",\"topic\",\"answerText\",\"upvotes\",\"views\"]],df_crawled[[\"questionTitle\",\"questionText\",\"questionLink\",\"topic\",\"answerText\",\"upvotes\",\"views\"]]])"
   ]
  },
  {
   "cell_type": "code",
   "execution_count": 125,
   "metadata": {
    "ExecuteTime": {
     "end_time": "2020-05-03T21:40:25.322788Z",
     "start_time": "2020-05-03T21:40:25.309552Z"
    }
   },
   "outputs": [],
   "source": [
    "df = df.reset_index()\n",
    "df = df.drop(\"index\", axis = 1)"
   ]
  },
  {
   "cell_type": "code",
   "execution_count": 126,
   "metadata": {
    "ExecuteTime": {
     "end_time": "2020-05-03T21:40:25.332385Z",
     "start_time": "2020-05-03T21:40:25.327772Z"
    }
   },
   "outputs": [
    {
     "data": {
      "text/plain": [
       "(14268, 7)"
      ]
     },
     "execution_count": 126,
     "metadata": {},
     "output_type": "execute_result"
    }
   ],
   "source": [
    "df.shape"
   ]
  },
  {
   "cell_type": "code",
   "execution_count": 127,
   "metadata": {
    "ExecuteTime": {
     "end_time": "2020-05-03T21:40:25.347787Z",
     "start_time": "2020-05-03T21:40:25.336965Z"
    }
   },
   "outputs": [
    {
     "data": {
      "text/plain": [
       "831"
      ]
     },
     "execution_count": 127,
     "metadata": {},
     "output_type": "execute_result"
    }
   ],
   "source": [
    "df.questionTitle.nunique()"
   ]
  },
  {
   "cell_type": "code",
   "execution_count": 128,
   "metadata": {
    "ExecuteTime": {
     "end_time": "2020-05-03T21:40:25.366030Z",
     "start_time": "2020-05-03T21:40:25.351489Z"
    }
   },
   "outputs": [
    {
     "data": {
      "text/html": [
       "<div>\n",
       "<style scoped>\n",
       "    .dataframe tbody tr th:only-of-type {\n",
       "        vertical-align: middle;\n",
       "    }\n",
       "\n",
       "    .dataframe tbody tr th {\n",
       "        vertical-align: top;\n",
       "    }\n",
       "\n",
       "    .dataframe thead th {\n",
       "        text-align: right;\n",
       "    }\n",
       "</style>\n",
       "<table border=\"1\" class=\"dataframe\">\n",
       "  <thead>\n",
       "    <tr style=\"text-align: right;\">\n",
       "      <th></th>\n",
       "      <th>questionTitle</th>\n",
       "      <th>questionText</th>\n",
       "      <th>questionLink</th>\n",
       "      <th>topic</th>\n",
       "      <th>answerText</th>\n",
       "      <th>upvotes</th>\n",
       "      <th>views</th>\n",
       "    </tr>\n",
       "  </thead>\n",
       "  <tbody>\n",
       "    <tr>\n",
       "      <th>0</th>\n",
       "      <td>Can I change my feeling of being worthless to ...</td>\n",
       "      <td>I'm going through some things with my feelings...</td>\n",
       "      <td>https://counselchat.com/questions/can-i-change...</td>\n",
       "      <td>depression</td>\n",
       "      <td>If everyone thinks you're worthless, then mayb...</td>\n",
       "      <td>1</td>\n",
       "      <td>2899</td>\n",
       "    </tr>\n",
       "    <tr>\n",
       "      <th>1</th>\n",
       "      <td>Can I change my feeling of being worthless to ...</td>\n",
       "      <td>I'm going through some things with my feelings...</td>\n",
       "      <td>https://counselchat.com/questions/can-i-change...</td>\n",
       "      <td>depression</td>\n",
       "      <td>Hello, and thank you for your question and see...</td>\n",
       "      <td>1</td>\n",
       "      <td>3514</td>\n",
       "    </tr>\n",
       "    <tr>\n",
       "      <th>2</th>\n",
       "      <td>Can I change my feeling of being worthless to ...</td>\n",
       "      <td>I'm going through some things with my feelings...</td>\n",
       "      <td>https://counselchat.com/questions/can-i-change...</td>\n",
       "      <td>depression</td>\n",
       "      <td>First thing I'd suggest is getting the sleep y...</td>\n",
       "      <td>0</td>\n",
       "      <td>5</td>\n",
       "    </tr>\n",
       "    <tr>\n",
       "      <th>3</th>\n",
       "      <td>Can I change my feeling of being worthless to ...</td>\n",
       "      <td>I'm going through some things with my feelings...</td>\n",
       "      <td>https://counselchat.com/questions/can-i-change...</td>\n",
       "      <td>depression</td>\n",
       "      <td>Therapy is essential for those that are feelin...</td>\n",
       "      <td>0</td>\n",
       "      <td>31</td>\n",
       "    </tr>\n",
       "    <tr>\n",
       "      <th>4</th>\n",
       "      <td>Can I change my feeling of being worthless to ...</td>\n",
       "      <td>I'm going through some things with my feelings...</td>\n",
       "      <td>https://counselchat.com/questions/can-i-change...</td>\n",
       "      <td>depression</td>\n",
       "      <td>I first want to let you know that you are not ...</td>\n",
       "      <td>0</td>\n",
       "      <td>620</td>\n",
       "    </tr>\n",
       "  </tbody>\n",
       "</table>\n",
       "</div>"
      ],
      "text/plain": [
       "                                       questionTitle  \\\n",
       "0  Can I change my feeling of being worthless to ...   \n",
       "1  Can I change my feeling of being worthless to ...   \n",
       "2  Can I change my feeling of being worthless to ...   \n",
       "3  Can I change my feeling of being worthless to ...   \n",
       "4  Can I change my feeling of being worthless to ...   \n",
       "\n",
       "                                        questionText  \\\n",
       "0  I'm going through some things with my feelings...   \n",
       "1  I'm going through some things with my feelings...   \n",
       "2  I'm going through some things with my feelings...   \n",
       "3  I'm going through some things with my feelings...   \n",
       "4  I'm going through some things with my feelings...   \n",
       "\n",
       "                                        questionLink       topic  \\\n",
       "0  https://counselchat.com/questions/can-i-change...  depression   \n",
       "1  https://counselchat.com/questions/can-i-change...  depression   \n",
       "2  https://counselchat.com/questions/can-i-change...  depression   \n",
       "3  https://counselchat.com/questions/can-i-change...  depression   \n",
       "4  https://counselchat.com/questions/can-i-change...  depression   \n",
       "\n",
       "                                          answerText  upvotes  views  \n",
       "0  If everyone thinks you're worthless, then mayb...        1   2899  \n",
       "1  Hello, and thank you for your question and see...        1   3514  \n",
       "2  First thing I'd suggest is getting the sleep y...        0      5  \n",
       "3  Therapy is essential for those that are feelin...        0     31  \n",
       "4  I first want to let you know that you are not ...        0    620  "
      ]
     },
     "execution_count": 128,
     "metadata": {},
     "output_type": "execute_result"
    }
   ],
   "source": [
    "df.head()"
   ]
  },
  {
   "cell_type": "markdown",
   "metadata": {},
   "source": [
    "## Generating Root Topics, Multilabels for questions"
   ]
  },
  {
   "cell_type": "code",
   "execution_count": 129,
   "metadata": {
    "ExecuteTime": {
     "end_time": "2020-05-03T21:41:01.296791Z",
     "start_time": "2020-05-03T21:40:25.369499Z"
    }
   },
   "outputs": [],
   "source": [
    "di = defaultdict(set)\n",
    "\n",
    "for i in range(df.shape[0]):\n",
    "    if str(df.loc[i,\"topic\"]) in [\"relationships\",\"intimacy\",\"family-conflict\",\"parenting\",\"relationship-dissolution\",\"marriage\",\"domestic-violence\"]:\n",
    "        df.loc[i,\"root_topic\"] = \"family_conflicts\"\n",
    "    elif df.loc[i,\"topic\"] in [\"depression\",\"anxiety\",\"stress\",\"anger-management\",\"trauma\"]:\n",
    "        df.loc[i,\"root_topic\"] = \"emotional_conflicts\"\n",
    "    else:\n",
    "        df.loc[i,\"root_topic\"] = \"others\"\n",
    "    \n",
    "    di[df.loc[i,\"questionTitle\"]].add(df.loc[i,\"root_topic\"])\n"
   ]
  },
  {
   "cell_type": "code",
   "execution_count": 130,
   "metadata": {
    "ExecuteTime": {
     "end_time": "2020-05-03T21:41:01.320249Z",
     "start_time": "2020-05-03T21:41:01.299473Z"
    }
   },
   "outputs": [],
   "source": [
    "df.sort_values(by=['upvotes','views'], ascending=False, inplace = True)"
   ]
  },
  {
   "cell_type": "code",
   "execution_count": 131,
   "metadata": {
    "ExecuteTime": {
     "end_time": "2020-05-03T21:41:01.342436Z",
     "start_time": "2020-05-03T21:41:01.324852Z"
    }
   },
   "outputs": [],
   "source": [
    "df.drop_duplicates(subset=['questionTitle','topic'], keep=\"first\",inplace = True)\n",
    "df = df.reset_index()\n",
    "df = df.drop(\"index\", axis = 1)"
   ]
  },
  {
   "cell_type": "code",
   "execution_count": 132,
   "metadata": {
    "ExecuteTime": {
     "end_time": "2020-05-03T21:41:01.350621Z",
     "start_time": "2020-05-03T21:41:01.345727Z"
    }
   },
   "outputs": [
    {
     "data": {
      "text/plain": [
       "(1449, 8)"
      ]
     },
     "execution_count": 132,
     "metadata": {},
     "output_type": "execute_result"
    }
   ],
   "source": [
    "df.shape"
   ]
  },
  {
   "cell_type": "code",
   "execution_count": 133,
   "metadata": {
    "ExecuteTime": {
     "end_time": "2020-05-03T21:41:01.953504Z",
     "start_time": "2020-05-03T21:41:01.353613Z"
    },
    "scrolled": true
   },
   "outputs": [
    {
     "data": {
      "text/plain": [
       "<matplotlib.axes._subplots.AxesSubplot at 0x1a330451d0>"
      ]
     },
     "execution_count": 133,
     "metadata": {},
     "output_type": "execute_result"
    },
    {
     "data": {
      "image/png": "[encoded data removed]",
      "text/plain": [
       "<Figure size 432x288 with 1 Axes>"
      ]
     },
     "metadata": {
      "needs_background": "light"
     },
     "output_type": "display_data"
    }
   ],
   "source": [
    "df.topic.value_counts().apply(lambda x:x).plot(kind='bar')"
   ]
  },
  {
   "cell_type": "code",
   "execution_count": 134,
   "metadata": {
    "ExecuteTime": {
     "end_time": "2020-05-03T21:41:01.967283Z",
     "start_time": "2020-05-03T21:41:01.956080Z"
    }
   },
   "outputs": [],
   "source": [
    "df.drop_duplicates(subset=['questionTitle'], keep=\"first\",inplace = True)\n",
    "df = df.reset_index()\n",
    "df = df.drop(\"index\", axis = 1)"
   ]
  },
  {
   "cell_type": "code",
   "execution_count": 135,
   "metadata": {
    "ExecuteTime": {
     "end_time": "2020-05-03T21:41:01.975453Z",
     "start_time": "2020-05-03T21:41:01.970055Z"
    }
   },
   "outputs": [
    {
     "data": {
      "text/plain": [
       "(831, 8)"
      ]
     },
     "execution_count": 135,
     "metadata": {},
     "output_type": "execute_result"
    }
   ],
   "source": [
    "df.shape"
   ]
  },
  {
   "cell_type": "code",
   "execution_count": 136,
   "metadata": {
    "ExecuteTime": {
     "end_time": "2020-05-03T21:41:02.001118Z",
     "start_time": "2020-05-03T21:41:01.978205Z"
    }
   },
   "outputs": [],
   "source": [
    "labels = []\n",
    "for i in range(df.shape[0]):\n",
    "    topics = list(di[df.loc[i,\"questionTitle\"]])\n",
    "    label = [0,0,0]\n",
    "    for topic in topics:\n",
    "        if topic == 'family_conflicts':\n",
    "            label[0] = 1\n",
    "        if topic == 'emotional_conflicts':\n",
    "            label[1] = 1\n",
    "        if topic == 'others':\n",
    "            label[2] = 1\n",
    "    labels.append(label)\n",
    "\n",
    "df[i,\"root_multi_label\"] = pd.Series(labels, dtype = object)"
   ]
  },
  {
   "cell_type": "code",
   "execution_count": 138,
   "metadata": {
    "ExecuteTime": {
     "end_time": "2020-05-03T21:41:02.096395Z",
     "start_time": "2020-05-03T21:41:02.076286Z"
    }
   },
   "outputs": [
    {
     "data": {
      "text/html": [
       "<div>\n",
       "<style scoped>\n",
       "    .dataframe tbody tr th:only-of-type {\n",
       "        vertical-align: middle;\n",
       "    }\n",
       "\n",
       "    .dataframe tbody tr th {\n",
       "        vertical-align: top;\n",
       "    }\n",
       "\n",
       "    .dataframe thead th {\n",
       "        text-align: right;\n",
       "    }\n",
       "</style>\n",
       "<table border=\"1\" class=\"dataframe\">\n",
       "  <thead>\n",
       "    <tr style=\"text-align: right;\">\n",
       "      <th></th>\n",
       "      <th>questionTitle</th>\n",
       "      <th>questionText</th>\n",
       "      <th>questionLink</th>\n",
       "      <th>topic</th>\n",
       "      <th>answerText</th>\n",
       "      <th>upvotes</th>\n",
       "      <th>views</th>\n",
       "      <th>root_topic</th>\n",
       "      <th>(830, root_multi_label)</th>\n",
       "    </tr>\n",
       "  </thead>\n",
       "  <tbody>\n",
       "    <tr>\n",
       "      <th>0</th>\n",
       "      <td>How can I keep a long distance relationship go...</td>\n",
       "      <td>We weren't long distance until he joined the m...</td>\n",
       "      <td>https://counselchat.com/questions/how-can-i-ke...</td>\n",
       "      <td>relationships</td>\n",
       "      <td>Hello. You are asking a very good question abo...</td>\n",
       "      <td>9</td>\n",
       "      <td>481</td>\n",
       "      <td>family_conflicts</td>\n",
       "      <td>[1, 0, 1]</td>\n",
       "    </tr>\n",
       "    <tr>\n",
       "      <th>1</th>\n",
       "      <td>How can I ask my boyfriend about who he's text...</td>\n",
       "      <td>We've been in a long distance relationship for...</td>\n",
       "      <td>https://counselchat.com/questions/how-can-i-as...</td>\n",
       "      <td>relationships</td>\n",
       "      <td>I agree with Sherry that in a close intimate r...</td>\n",
       "      <td>9</td>\n",
       "      <td>472</td>\n",
       "      <td>family_conflicts</td>\n",
       "      <td>[1, 0, 0]</td>\n",
       "    </tr>\n",
       "    <tr>\n",
       "      <th>2</th>\n",
       "      <td>Why do I feel like I'm always wrong in everyth...</td>\n",
       "      <td>My wife is always accusing me of cheating and ...</td>\n",
       "      <td>https://counselchat.com/questions/why-do-i-fee...</td>\n",
       "      <td>workplace-relationships</td>\n",
       "      <td>Hello. That must be very frustrating for you t...</td>\n",
       "      <td>9</td>\n",
       "      <td>268</td>\n",
       "      <td>others</td>\n",
       "      <td>[1, 0, 1]</td>\n",
       "    </tr>\n",
       "    <tr>\n",
       "      <th>3</th>\n",
       "      <td>Why do I feel sad all the time?</td>\n",
       "      <td>I just feel sad all the time and I don't like ...</td>\n",
       "      <td>https://counselchat.com/questions/why-do-i-fee...</td>\n",
       "      <td>family-conflict</td>\n",
       "      <td>Hello,While one can be sad from time to time, ...</td>\n",
       "      <td>9</td>\n",
       "      <td>264</td>\n",
       "      <td>family_conflicts</td>\n",
       "      <td>[1, 1, 0]</td>\n",
       "    </tr>\n",
       "    <tr>\n",
       "      <th>4</th>\n",
       "      <td>The Underlying Causes of Being Possessive</td>\n",
       "      <td>I am extremely possessive in my relationships ...</td>\n",
       "      <td>https://counselchat.com/questions/the-underlyi...</td>\n",
       "      <td>social-relationships</td>\n",
       "      <td>Hi there. Its great you are able to realize th...</td>\n",
       "      <td>7</td>\n",
       "      <td>224</td>\n",
       "      <td>others</td>\n",
       "      <td>[0, 0, 1]</td>\n",
       "    </tr>\n",
       "  </tbody>\n",
       "</table>\n",
       "</div>"
      ],
      "text/plain": [
       "                                       questionTitle  \\\n",
       "0  How can I keep a long distance relationship go...   \n",
       "1  How can I ask my boyfriend about who he's text...   \n",
       "2  Why do I feel like I'm always wrong in everyth...   \n",
       "3                    Why do I feel sad all the time?   \n",
       "4          The Underlying Causes of Being Possessive   \n",
       "\n",
       "                                        questionText  \\\n",
       "0  We weren't long distance until he joined the m...   \n",
       "1  We've been in a long distance relationship for...   \n",
       "2  My wife is always accusing me of cheating and ...   \n",
       "3  I just feel sad all the time and I don't like ...   \n",
       "4  I am extremely possessive in my relationships ...   \n",
       "\n",
       "                                        questionLink                    topic  \\\n",
       "0  https://counselchat.com/questions/how-can-i-ke...            relationships   \n",
       "1  https://counselchat.com/questions/how-can-i-as...            relationships   \n",
       "2  https://counselchat.com/questions/why-do-i-fee...  workplace-relationships   \n",
       "3  https://counselchat.com/questions/why-do-i-fee...          family-conflict   \n",
       "4  https://counselchat.com/questions/the-underlyi...     social-relationships   \n",
       "\n",
       "                                          answerText  upvotes  views  \\\n",
       "0  Hello. You are asking a very good question abo...        9    481   \n",
       "1  I agree with Sherry that in a close intimate r...        9    472   \n",
       "2  Hello. That must be very frustrating for you t...        9    268   \n",
       "3  Hello,While one can be sad from time to time, ...        9    264   \n",
       "4  Hi there. Its great you are able to realize th...        7    224   \n",
       "\n",
       "         root_topic (830, root_multi_label)  \n",
       "0  family_conflicts               [1, 0, 1]  \n",
       "1  family_conflicts               [1, 0, 0]  \n",
       "2            others               [1, 0, 1]  \n",
       "3  family_conflicts               [1, 1, 0]  \n",
       "4            others               [0, 0, 1]  "
      ]
     },
     "execution_count": 138,
     "metadata": {},
     "output_type": "execute_result"
    }
   ],
   "source": [
    "df.head()"
   ]
  },
  {
   "cell_type": "markdown",
   "metadata": {},
   "source": [
    "# Generating good Reflections"
   ]
  }
 ],
 "metadata": {
  "kernelspec": {
   "display_name": "Python 3",
   "language": "python",
   "name": "python3"
  },
  "language_info": {
   "codemirror_mode": {
    "name": "ipython",
    "version": 3
   },
   "file_extension": ".py",
   "mimetype": "text/x-python",
   "name": "python",
   "nbconvert_exporter": "python",
   "pygments_lexer": "ipython3",
   "version": "3.7.3"
  },
  "toc": {
   "base_numbering": 1,
   "nav_menu": {},
   "number_sections": true,
   "sideBar": true,
   "skip_h1_title": false,
   "title_cell": "Table of Contents",
   "title_sidebar": "Contents",
   "toc_cell": false,
   "toc_position": {},
   "toc_section_display": true,
   "toc_window_display": false
  }
 },
 "nbformat": 4,
 "nbformat_minor": 2
}
