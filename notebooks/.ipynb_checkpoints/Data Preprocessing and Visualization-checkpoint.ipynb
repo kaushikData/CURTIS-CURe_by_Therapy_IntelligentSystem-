{
 "cells": [
  {
   "cell_type": "markdown",
   "metadata": {},
   "source": [
    "# Imporing Libraries"
   ]
  },
  {
   "cell_type": "code",
   "execution_count": 1,
   "metadata": {
    "ExecuteTime": {
     "end_time": "2020-05-03T20:54:00.675148Z",
     "start_time": "2020-05-03T20:53:56.120845Z"
    }
   },
   "outputs": [
    {
     "name": "stderr",
     "output_type": "stream",
     "text": [
      "[nltk_data] Downloading package wordnet to /Users/kaushik-\n",
      "[nltk_data]     shakkari/nltk_data...\n",
      "[nltk_data]   Package wordnet is already up-to-date!\n"
     ]
    }
   ],
   "source": [
    "# Data Visualization\n",
    "import seaborn as sns\n",
    "import matplotlib.pyplot as plt\n",
    "\n",
    "# Data Processing\n",
    "import numpy as np\n",
    "import pandas as pd\n",
    "import pickle\n",
    "from gensim.models import Word2Vec\n",
    "\n",
    "# NLP \n",
    "import re\n",
    "import gensim\n",
    "import nltk\n",
    "import spacy\n",
    "from nltk.corpus import stopwords\n",
    "nltk.download('wordnet')\n",
    "\n",
    "# ML\n",
    "from sklearn.model_selection import train_test_split\n",
    "from sklearn.metrics import f1_score, accuracy_score, confusion_matrix\n",
    "\n",
    "# BERT\n",
    "import torch\n",
    "from pytorch_pretrained_bert import BertTokenizer, BertModel, BertForMaskedLM\n",
    "from scipy.spatial.distance import cosine\n",
    "\n",
    "# Others\n",
    "import os\n",
    "import warnings\n",
    "\n"
   ]
  },
  {
   "cell_type": "markdown",
   "metadata": {},
   "source": [
    "# Processing and Preparing Data"
   ]
  },
  {
   "cell_type": "markdown",
   "metadata": {},
   "source": [
    "## Processing Given Data "
   ]
  },
  {
   "cell_type": "code",
   "execution_count": 2,
   "metadata": {
    "ExecuteTime": {
     "end_time": "2020-05-03T20:54:00.831830Z",
     "start_time": "2020-05-03T20:54:00.678695Z"
    }
   },
   "outputs": [],
   "source": [
    "#given dataset\n",
    "df_given = pd.read_csv('../data/given_counsel_chat_dataset.csv')"
   ]
  },
  {
   "cell_type": "code",
   "execution_count": 3,
   "metadata": {
    "ExecuteTime": {
     "end_time": "2020-05-03T20:54:01.458092Z",
     "start_time": "2020-05-03T20:54:01.435398Z"
    }
   },
   "outputs": [
    {
     "data": {
      "text/html": [
       "<div>\n",
       "<style scoped>\n",
       "    .dataframe tbody tr th:only-of-type {\n",
       "        vertical-align: middle;\n",
       "    }\n",
       "\n",
       "    .dataframe tbody tr th {\n",
       "        vertical-align: top;\n",
       "    }\n",
       "\n",
       "    .dataframe thead th {\n",
       "        text-align: right;\n",
       "    }\n",
       "</style>\n",
       "<table border=\"1\" class=\"dataframe\">\n",
       "  <thead>\n",
       "    <tr style=\"text-align: right;\">\n",
       "      <th></th>\n",
       "      <th>questionID</th>\n",
       "      <th>questionTitle</th>\n",
       "      <th>questionText</th>\n",
       "      <th>questionLink</th>\n",
       "      <th>topic</th>\n",
       "      <th>therapistInfo</th>\n",
       "      <th>therapistURL</th>\n",
       "      <th>answerText</th>\n",
       "      <th>upvotes</th>\n",
       "      <th>views</th>\n",
       "      <th>split</th>\n",
       "    </tr>\n",
       "  </thead>\n",
       "  <tbody>\n",
       "    <tr>\n",
       "      <th>1428</th>\n",
       "      <td>595</td>\n",
       "      <td>How do I get my dad to understand that I don't...</td>\n",
       "      <td>I have known her for years. She was dating my ...</td>\n",
       "      <td>https://counselchat.com/questions/how-do-i-get...</td>\n",
       "      <td>family-conflict</td>\n",
       "      <td>Jennifer GerlachYour Story Matters</td>\n",
       "      <td>https://counselchat.com/therapists/jennifer-ge...</td>\n",
       "      <td>That's intense. This person moving from a frie...</td>\n",
       "      <td>0</td>\n",
       "      <td>14</td>\n",
       "      <td>train</td>\n",
       "    </tr>\n",
       "    <tr>\n",
       "      <th>677</th>\n",
       "      <td>246</td>\n",
       "      <td>How do I kick my stepdaughter out of our house...</td>\n",
       "      <td>She's in her early 20s, and she has a toddler.</td>\n",
       "      <td>https://counselchat.com/questions/how-do-i-kic...</td>\n",
       "      <td>parenting</td>\n",
       "      <td>Valerie Saisi, NCC, LPCParenting, Child, and F...</td>\n",
       "      <td>https://counselchat.com/therapists/valerie-sai...</td>\n",
       "      <td>This is something you will have to discuss wit...</td>\n",
       "      <td>0</td>\n",
       "      <td>82</td>\n",
       "      <td>train</td>\n",
       "    </tr>\n",
       "    <tr>\n",
       "      <th>371</th>\n",
       "      <td>145</td>\n",
       "      <td>What are the best ways to reduce anxiety?</td>\n",
       "      <td>I have anxieties about everyday stressors, i.e...</td>\n",
       "      <td>https://counselchat.com/questions/what-are-the...</td>\n",
       "      <td>anxiety</td>\n",
       "      <td>Nicole StoneAnxiety, relationship crisis, and ...</td>\n",
       "      <td>https://counselchat.com/therapists/nicole-stone</td>\n",
       "      <td>Something to remember about anxiety is that it...</td>\n",
       "      <td>1</td>\n",
       "      <td>231</td>\n",
       "      <td>train</td>\n",
       "    </tr>\n",
       "    <tr>\n",
       "      <th>1752</th>\n",
       "      <td>764</td>\n",
       "      <td>I feel like I could never be with anyone becau...</td>\n",
       "      <td>What do I do if I have been feeling like I cou...</td>\n",
       "      <td>https://counselchat.com/questions/i-feel-like-...</td>\n",
       "      <td>relationships</td>\n",
       "      <td>Earl LewisRelationship Expert</td>\n",
       "      <td>https://counselchat.com/therapists/earl-lewis</td>\n",
       "      <td>What would make you feel no one wants to be wi...</td>\n",
       "      <td>0</td>\n",
       "      <td>206</td>\n",
       "      <td>val</td>\n",
       "    </tr>\n",
       "    <tr>\n",
       "      <th>957</th>\n",
       "      <td>382</td>\n",
       "      <td>I want to be a boy but I can't because of my r...</td>\n",
       "      <td>I was born a girl, but I want to be a boy. Bec...</td>\n",
       "      <td>https://counselchat.com/questions/i-want-to-be...</td>\n",
       "      <td>spirituality</td>\n",
       "      <td>Christina McGrath Fair\"Enlightenment is when a...</td>\n",
       "      <td>https://counselchat.com/therapists/christina-m...</td>\n",
       "      <td>It is really important for you to be comfortab...</td>\n",
       "      <td>0</td>\n",
       "      <td>52</td>\n",
       "      <td>train</td>\n",
       "    </tr>\n",
       "  </tbody>\n",
       "</table>\n",
       "</div>"
      ],
      "text/plain": [
       "      questionID                                      questionTitle  \\\n",
       "1428         595  How do I get my dad to understand that I don't...   \n",
       "677          246  How do I kick my stepdaughter out of our house...   \n",
       "371          145          What are the best ways to reduce anxiety?   \n",
       "1752         764  I feel like I could never be with anyone becau...   \n",
       "957          382  I want to be a boy but I can't because of my r...   \n",
       "\n",
       "                                           questionText  \\\n",
       "1428  I have known her for years. She was dating my ...   \n",
       "677      She's in her early 20s, and she has a toddler.   \n",
       "371   I have anxieties about everyday stressors, i.e...   \n",
       "1752  What do I do if I have been feeling like I cou...   \n",
       "957   I was born a girl, but I want to be a boy. Bec...   \n",
       "\n",
       "                                           questionLink            topic  \\\n",
       "1428  https://counselchat.com/questions/how-do-i-get...  family-conflict   \n",
       "677   https://counselchat.com/questions/how-do-i-kic...        parenting   \n",
       "371   https://counselchat.com/questions/what-are-the...          anxiety   \n",
       "1752  https://counselchat.com/questions/i-feel-like-...    relationships   \n",
       "957   https://counselchat.com/questions/i-want-to-be...     spirituality   \n",
       "\n",
       "                                          therapistInfo  \\\n",
       "1428                 Jennifer GerlachYour Story Matters   \n",
       "677   Valerie Saisi, NCC, LPCParenting, Child, and F...   \n",
       "371   Nicole StoneAnxiety, relationship crisis, and ...   \n",
       "1752                      Earl LewisRelationship Expert   \n",
       "957   Christina McGrath Fair\"Enlightenment is when a...   \n",
       "\n",
       "                                           therapistURL  \\\n",
       "1428  https://counselchat.com/therapists/jennifer-ge...   \n",
       "677   https://counselchat.com/therapists/valerie-sai...   \n",
       "371     https://counselchat.com/therapists/nicole-stone   \n",
       "1752      https://counselchat.com/therapists/earl-lewis   \n",
       "957   https://counselchat.com/therapists/christina-m...   \n",
       "\n",
       "                                             answerText  upvotes  views  split  \n",
       "1428  That's intense. This person moving from a frie...        0     14  train  \n",
       "677   This is something you will have to discuss wit...        0     82  train  \n",
       "371   Something to remember about anxiety is that it...        1    231  train  \n",
       "1752  What would make you feel no one wants to be wi...        0    206    val  \n",
       "957   It is really important for you to be comfortab...        0     52  train  "
      ]
     },
     "execution_count": 3,
     "metadata": {},
     "output_type": "execute_result"
    }
   ],
   "source": [
    "df_given.sample(5)"
   ]
  },
  {
   "cell_type": "code",
   "execution_count": 4,
   "metadata": {
    "ExecuteTime": {
     "end_time": "2020-05-03T20:54:03.295550Z",
     "start_time": "2020-05-03T20:54:03.282072Z"
    }
   },
   "outputs": [],
   "source": [
    "df_given.dropna(inplace = True)"
   ]
  },
  {
   "cell_type": "code",
   "execution_count": 5,
   "metadata": {
    "ExecuteTime": {
     "end_time": "2020-05-03T20:54:04.103009Z",
     "start_time": "2020-05-03T20:54:04.098041Z"
    }
   },
   "outputs": [
    {
     "data": {
      "text/plain": [
       "(2129, 11)"
      ]
     },
     "execution_count": 5,
     "metadata": {},
     "output_type": "execute_result"
    }
   ],
   "source": [
    "df_given.shape"
   ]
  },
  {
   "cell_type": "code",
   "execution_count": 6,
   "metadata": {
    "ExecuteTime": {
     "end_time": "2020-05-03T20:54:04.810563Z",
     "start_time": "2020-05-03T20:54:04.804216Z"
    }
   },
   "outputs": [
    {
     "data": {
      "text/plain": [
       "31"
      ]
     },
     "execution_count": 6,
     "metadata": {},
     "output_type": "execute_result"
    }
   ],
   "source": [
    "df_given.topic.nunique()"
   ]
  },
  {
   "cell_type": "markdown",
   "metadata": {
    "ExecuteTime": {
     "end_time": "2020-05-03T19:02:24.891505Z",
     "start_time": "2020-05-03T19:02:24.872160Z"
    }
   },
   "source": [
    "## Processing Crawled Data"
   ]
  },
  {
   "cell_type": "code",
   "execution_count": 7,
   "metadata": {
    "ExecuteTime": {
     "end_time": "2020-05-03T20:54:13.358127Z",
     "start_time": "2020-05-03T20:54:09.635068Z"
    }
   },
   "outputs": [],
   "source": [
    "path = \"../data/CouncilChat-CrawledData/\"\n",
    "\n",
    "files = os.listdir(path)\n",
    "\n",
    "files_xls = [f for f in files if f[-4:] == 'xlsx']\n",
    "\n",
    "list_df = []\n",
    "\n",
    "temp = []\n",
    "\n",
    "for index, filename in enumerate(files_xls):\n",
    "    try: \n",
    "        list_df.append(pd.read_excel(path+filename))\n",
    "        temp.append(filename.split(\".\")[0])\n",
    "    except:\n",
    "        temp.append()\n",
    "\n",
    "df_crawled = pd.concat(list_df)"
   ]
  },
  {
   "cell_type": "code",
   "execution_count": 8,
   "metadata": {
    "ExecuteTime": {
     "end_time": "2020-05-03T20:54:13.385254Z",
     "start_time": "2020-05-03T20:54:13.361309Z"
    }
   },
   "outputs": [],
   "source": [
    "df_crawled.dropna(inplace = True)"
   ]
  },
  {
   "cell_type": "code",
   "execution_count": 9,
   "metadata": {
    "ExecuteTime": {
     "end_time": "2020-05-03T20:54:13.406028Z",
     "start_time": "2020-05-03T20:54:13.388867Z"
    }
   },
   "outputs": [
    {
     "data": {
      "text/html": [
       "<div>\n",
       "<style scoped>\n",
       "    .dataframe tbody tr th:only-of-type {\n",
       "        vertical-align: middle;\n",
       "    }\n",
       "\n",
       "    .dataframe tbody tr th {\n",
       "        vertical-align: top;\n",
       "    }\n",
       "\n",
       "    .dataframe thead th {\n",
       "        text-align: right;\n",
       "    }\n",
       "</style>\n",
       "<table border=\"1\" class=\"dataframe\">\n",
       "  <thead>\n",
       "    <tr style=\"text-align: right;\">\n",
       "      <th></th>\n",
       "      <th>Unnamed: 0</th>\n",
       "      <th>questionID</th>\n",
       "      <th>questionTitle</th>\n",
       "      <th>questionText</th>\n",
       "      <th>questionLink</th>\n",
       "      <th>topic</th>\n",
       "      <th>therapistName</th>\n",
       "      <th>therapistTitle</th>\n",
       "      <th>therapistURL</th>\n",
       "      <th>answerText</th>\n",
       "      <th>upvotes</th>\n",
       "      <th>views</th>\n",
       "    </tr>\n",
       "  </thead>\n",
       "  <tbody>\n",
       "    <tr>\n",
       "      <th>0</th>\n",
       "      <td>0</td>\n",
       "      <td>1</td>\n",
       "      <td>I just lost my grandpa</td>\n",
       "      <td>I just lost my grandpa and i'm having a rough ...</td>\n",
       "      <td>https://counselchat.com/questions/i-just-lost-...</td>\n",
       "      <td>grief-and-loss</td>\n",
       "      <td>Ian Palombo</td>\n",
       "      <td>#ThoughtMediator &amp; #LifeUntangler</td>\n",
       "      <td>https://counselchat.com/therapists/ian-palombo</td>\n",
       "      <td>Feeling profound sadness after the death of a ...</td>\n",
       "      <td>0</td>\n",
       "      <td>92</td>\n",
       "    </tr>\n",
       "    <tr>\n",
       "      <th>1</th>\n",
       "      <td>1</td>\n",
       "      <td>1</td>\n",
       "      <td>I just lost my grandpa</td>\n",
       "      <td>I just lost my grandpa and i'm having a rough ...</td>\n",
       "      <td>https://counselchat.com/questions/i-just-lost-...</td>\n",
       "      <td>grief-and-loss</td>\n",
       "      <td>Dr. Melissa Valentina</td>\n",
       "      <td>Honor Yourself and Live Your Truth</td>\n",
       "      <td>https://counselchat.com/therapists/dr-melissa-...</td>\n",
       "      <td>If you connect with your therapist and can say...</td>\n",
       "      <td>0</td>\n",
       "      <td>16</td>\n",
       "    </tr>\n",
       "    <tr>\n",
       "      <th>2</th>\n",
       "      <td>2</td>\n",
       "      <td>1</td>\n",
       "      <td>I just lost my grandpa</td>\n",
       "      <td>I just lost my grandpa and i'm having a rough ...</td>\n",
       "      <td>https://counselchat.com/questions/i-just-lost-...</td>\n",
       "      <td>grief-and-loss</td>\n",
       "      <td>Dr. Timothy Paul</td>\n",
       "      <td>'man'; Online - \"Natural Health Consultant and...</td>\n",
       "      <td>https://counselchat.com/therapists/dr-timothy-...</td>\n",
       "      <td>Yknow, to see a man youve loved and care for p...</td>\n",
       "      <td>0</td>\n",
       "      <td>30</td>\n",
       "    </tr>\n",
       "    <tr>\n",
       "      <th>3</th>\n",
       "      <td>3</td>\n",
       "      <td>1</td>\n",
       "      <td>I just lost my grandpa</td>\n",
       "      <td>I just lost my grandpa and i'm having a rough ...</td>\n",
       "      <td>https://counselchat.com/questions/i-just-lost-...</td>\n",
       "      <td>grief-and-loss</td>\n",
       "      <td>Christina McGrath Fair</td>\n",
       "      <td>\"Enlightenment is when a wave realizes it is t...</td>\n",
       "      <td>https://counselchat.com/therapists/christina-m...</td>\n",
       "      <td>I am sorry for your loss. I understand the dif...</td>\n",
       "      <td>0</td>\n",
       "      <td>157</td>\n",
       "    </tr>\n",
       "    <tr>\n",
       "      <th>4</th>\n",
       "      <td>4</td>\n",
       "      <td>1</td>\n",
       "      <td>I just lost my grandpa</td>\n",
       "      <td>I just lost my grandpa and i'm having a rough ...</td>\n",
       "      <td>https://counselchat.com/questions/i-just-lost-...</td>\n",
       "      <td>grief-and-loss</td>\n",
       "      <td>Pamela Suraci</td>\n",
       "      <td>Build on your strengths, grow in your challeng...</td>\n",
       "      <td>https://counselchat.com/therapists/pamela-suraci</td>\n",
       "      <td>Losing someone you love, someone who has been ...</td>\n",
       "      <td>0</td>\n",
       "      <td>231</td>\n",
       "    </tr>\n",
       "  </tbody>\n",
       "</table>\n",
       "</div>"
      ],
      "text/plain": [
       "   Unnamed: 0  questionID           questionTitle  \\\n",
       "0           0           1  I just lost my grandpa   \n",
       "1           1           1  I just lost my grandpa   \n",
       "2           2           1  I just lost my grandpa   \n",
       "3           3           1  I just lost my grandpa   \n",
       "4           4           1  I just lost my grandpa   \n",
       "\n",
       "                                        questionText  \\\n",
       "0  I just lost my grandpa and i'm having a rough ...   \n",
       "1  I just lost my grandpa and i'm having a rough ...   \n",
       "2  I just lost my grandpa and i'm having a rough ...   \n",
       "3  I just lost my grandpa and i'm having a rough ...   \n",
       "4  I just lost my grandpa and i'm having a rough ...   \n",
       "\n",
       "                                        questionLink           topic  \\\n",
       "0  https://counselchat.com/questions/i-just-lost-...  grief-and-loss   \n",
       "1  https://counselchat.com/questions/i-just-lost-...  grief-and-loss   \n",
       "2  https://counselchat.com/questions/i-just-lost-...  grief-and-loss   \n",
       "3  https://counselchat.com/questions/i-just-lost-...  grief-and-loss   \n",
       "4  https://counselchat.com/questions/i-just-lost-...  grief-and-loss   \n",
       "\n",
       "            therapistName                                     therapistTitle  \\\n",
       "0             Ian Palombo                  #ThoughtMediator & #LifeUntangler   \n",
       "1   Dr. Melissa Valentina                 Honor Yourself and Live Your Truth   \n",
       "2        Dr. Timothy Paul  'man'; Online - \"Natural Health Consultant and...   \n",
       "3  Christina McGrath Fair  \"Enlightenment is when a wave realizes it is t...   \n",
       "4           Pamela Suraci  Build on your strengths, grow in your challeng...   \n",
       "\n",
       "                                        therapistURL  \\\n",
       "0     https://counselchat.com/therapists/ian-palombo   \n",
       "1  https://counselchat.com/therapists/dr-melissa-...   \n",
       "2  https://counselchat.com/therapists/dr-timothy-...   \n",
       "3  https://counselchat.com/therapists/christina-m...   \n",
       "4   https://counselchat.com/therapists/pamela-suraci   \n",
       "\n",
       "                                          answerText  upvotes  views  \n",
       "0  Feeling profound sadness after the death of a ...        0     92  \n",
       "1  If you connect with your therapist and can say...        0     16  \n",
       "2  Yknow, to see a man youve loved and care for p...        0     30  \n",
       "3  I am sorry for your loss. I understand the dif...        0    157  \n",
       "4  Losing someone you love, someone who has been ...        0    231  "
      ]
     },
     "execution_count": 9,
     "metadata": {},
     "output_type": "execute_result"
    }
   ],
   "source": [
    "df_crawled.head()"
   ]
  },
  {
   "cell_type": "code",
   "execution_count": 10,
   "metadata": {
    "ExecuteTime": {
     "end_time": "2020-05-03T20:54:13.417091Z",
     "start_time": "2020-05-03T20:54:13.410381Z"
    }
   },
   "outputs": [],
   "source": [
    "df_crawled.drop(\"Unnamed: 0\", axis = 1, inplace = True)"
   ]
  },
  {
   "cell_type": "code",
   "execution_count": 11,
   "metadata": {
    "ExecuteTime": {
     "end_time": "2020-05-03T20:54:13.424471Z",
     "start_time": "2020-05-03T20:54:13.419822Z"
    }
   },
   "outputs": [
    {
     "data": {
      "text/plain": [
       "(12139, 11)"
      ]
     },
     "execution_count": 11,
     "metadata": {},
     "output_type": "execute_result"
    }
   ],
   "source": [
    "df_crawled.shape"
   ]
  },
  {
   "cell_type": "markdown",
   "metadata": {},
   "source": [
    "## Combining Two Dataframes "
   ]
  },
  {
   "cell_type": "code",
   "execution_count": 16,
   "metadata": {
    "ExecuteTime": {
     "end_time": "2020-05-03T20:55:46.310161Z",
     "start_time": "2020-05-03T20:55:46.294109Z"
    }
   },
   "outputs": [],
   "source": [
    "df = pd.concat([df_given[[\"questionTitle\",\"questionText\",\"questionLink\",\"topic\",\"answerText\",\"upvotes\",\"views\"]],df_crawled[[\"questionTitle\",\"questionText\",\"questionLink\",\"topic\",\"answerText\",\"upvotes\",\"views\"]]])"
   ]
  },
  {
   "cell_type": "code",
   "execution_count": 17,
   "metadata": {
    "ExecuteTime": {
     "end_time": "2020-05-03T20:55:46.349327Z",
     "start_time": "2020-05-03T20:55:46.343720Z"
    }
   },
   "outputs": [
    {
     "data": {
      "text/plain": [
       "(14268, 7)"
      ]
     },
     "execution_count": 17,
     "metadata": {},
     "output_type": "execute_result"
    }
   ],
   "source": [
    "df.shape"
   ]
  },
  {
   "cell_type": "code",
   "execution_count": 18,
   "metadata": {
    "ExecuteTime": {
     "end_time": "2020-05-03T20:55:46.657737Z",
     "start_time": "2020-05-03T20:55:46.648209Z"
    }
   },
   "outputs": [
    {
     "data": {
      "text/plain": [
       "831"
      ]
     },
     "execution_count": 18,
     "metadata": {},
     "output_type": "execute_result"
    }
   ],
   "source": [
    "df.questionTitle.nunique()"
   ]
  },
  {
   "cell_type": "markdown",
   "metadata": {},
   "source": [
    "## Generating Root Topics "
   ]
  },
  {
   "cell_type": "code",
   "execution_count": null,
   "metadata": {
    "ExecuteTime": {
     "end_time": "2020-05-03T20:54:33.364875Z",
     "start_time": "2020-05-03T20:54:32.875669Z"
    }
   },
   "outputs": [],
   "source": [
    "for i in range(df.shape[0]):\n",
    "    if df.loc[i,\"topic\"] in [\"relationships\",\"intimacy\",\"family-conflict\",\"parenting\",\"relationship-dissolution\",\"marriage\",\"domestic-violence\"]:\n",
    "        df.loc[i,\"root_topic\"] = \"family_conflicts\"\n",
    "    elif df.loc[i,\"topic\"] in [\"depression\",\"anxiety\",\"stress\",\"anger-management\",\"trauma\"]:\n",
    "        df.loc[i,\"root_topic\"] = \"emotional_conflicts\"\n",
    "    else:\n",
    "        df.loc[i,\"root_topic\"] = \"others\""
   ]
  },
  {
   "cell_type": "code",
   "execution_count": null,
   "metadata": {},
   "outputs": [],
   "source": []
  },
  {
   "cell_type": "code",
   "execution_count": null,
   "metadata": {},
   "outputs": [],
   "source": []
  },
  {
   "cell_type": "code",
   "execution_count": null,
   "metadata": {},
   "outputs": [],
   "source": []
  },
  {
   "cell_type": "code",
   "execution_count": 96,
   "metadata": {
    "ExecuteTime": {
     "end_time": "2020-05-03T20:53:13.496963Z",
     "start_time": "2020-05-03T20:53:13.482975Z"
    }
   },
   "outputs": [],
   "source": [
    "df.sort_values(by=['upvotes','views'], ascending=False, inplace = True)"
   ]
  },
  {
   "cell_type": "code",
   "execution_count": 97,
   "metadata": {
    "ExecuteTime": {
     "end_time": "2020-05-03T20:53:14.799558Z",
     "start_time": "2020-05-03T20:53:14.781945Z"
    }
   },
   "outputs": [],
   "source": [
    "df.drop_duplicates(subset=['questionTitle','topic'], keep=\"first\",inplace = True)\n",
    "df = df.reset_index()\n",
    "df = df.drop(\"index\", axis = 1)"
   ]
  },
  {
   "cell_type": "code",
   "execution_count": 98,
   "metadata": {
    "ExecuteTime": {
     "end_time": "2020-05-03T20:53:14.931252Z",
     "start_time": "2020-05-03T20:53:14.924703Z"
    }
   },
   "outputs": [
    {
     "data": {
      "text/plain": [
       "(1449, 7)"
      ]
     },
     "execution_count": 98,
     "metadata": {},
     "output_type": "execute_result"
    }
   ],
   "source": [
    "df.shape"
   ]
  },
  {
   "cell_type": "code",
   "execution_count": 99,
   "metadata": {
    "ExecuteTime": {
     "end_time": "2020-05-03T20:53:15.631642Z",
     "start_time": "2020-05-03T20:53:15.057397Z"
    },
    "scrolled": true
   },
   "outputs": [
    {
     "data": {
      "text/plain": [
       "<matplotlib.axes._subplots.AxesSubplot at 0x1a25a219b0>"
      ]
     },
     "execution_count": 99,
     "metadata": {},
     "output_type": "execute_result"
    },
    {
     "data": {
      "image/png": "[encoded data removed]",
      "text/plain": [
       "<Figure size 432x288 with 1 Axes>"
      ]
     },
     "metadata": {
      "needs_background": "light"
     },
     "output_type": "display_data"
    }
   ],
   "source": [
    "df.topic.value_counts().apply(lambda x:x).plot(kind='bar')"
   ]
  },
  {
   "cell_type": "code",
   "execution_count": null,
   "metadata": {},
   "outputs": [],
   "source": []
  },
  {
   "cell_type": "code",
   "execution_count": 79,
   "metadata": {
    "ExecuteTime": {
     "end_time": "2020-05-03T20:49:19.926468Z",
     "start_time": "2020-05-03T20:49:18.741786Z"
    }
   },
   "outputs": [],
   "source": [
    "for i in range(df.shape[0]):\n",
    "    if df.loc[i,\"topic\"] in [\"relationships\",\"intimacy\",\"family-conflict\",\"parenting\",\"relationship-dissolution\",\"marriage\",\"domestic-violence\"]:\n",
    "        df.loc[i,\"root_topic\"] = \"family_conflicts\"\n",
    "    elif df.loc[i,\"topic\"] in [\"depression\",\"anxiety\",\"stress\",\"anger-management\",\"trauma\"]:\n",
    "        df.loc[i,\"root_topic\"] = \"emotional_conflicts\"\n",
    "    else:\n",
    "        df.loc[i,\"root_topic\"] = \"others\""
   ]
  },
  {
   "cell_type": "code",
   "execution_count": 80,
   "metadata": {
    "ExecuteTime": {
     "end_time": "2020-05-03T20:49:32.772965Z",
     "start_time": "2020-05-03T20:49:32.759769Z"
    }
   },
   "outputs": [
    {
     "data": {
      "text/html": [
       "<div>\n",
       "<style scoped>\n",
       "    .dataframe tbody tr th:only-of-type {\n",
       "        vertical-align: middle;\n",
       "    }\n",
       "\n",
       "    .dataframe tbody tr th {\n",
       "        vertical-align: top;\n",
       "    }\n",
       "\n",
       "    .dataframe thead th {\n",
       "        text-align: right;\n",
       "    }\n",
       "</style>\n",
       "<table border=\"1\" class=\"dataframe\">\n",
       "  <thead>\n",
       "    <tr style=\"text-align: right;\">\n",
       "      <th></th>\n",
       "      <th>questionTitle</th>\n",
       "      <th>questionText</th>\n",
       "      <th>questionLink</th>\n",
       "      <th>topic</th>\n",
       "      <th>answerText</th>\n",
       "      <th>upvotes</th>\n",
       "      <th>views</th>\n",
       "      <th>root_topic</th>\n",
       "    </tr>\n",
       "  </thead>\n",
       "  <tbody>\n",
       "    <tr>\n",
       "      <th>0</th>\n",
       "      <td>How can I keep a long distance relationship go...</td>\n",
       "      <td>We weren't long distance until he joined the m...</td>\n",
       "      <td>https://counselchat.com/questions/how-can-i-ke...</td>\n",
       "      <td>relationships</td>\n",
       "      <td>Hello. You are asking a very good question abo...</td>\n",
       "      <td>9</td>\n",
       "      <td>481</td>\n",
       "      <td>family_conflicts</td>\n",
       "    </tr>\n",
       "    <tr>\n",
       "      <th>1</th>\n",
       "      <td>How can I keep a long distance relationship go...</td>\n",
       "      <td>We weren't long distance until he joined the m...</td>\n",
       "      <td>https://counselchat.com/questions/how-can-i-ke...</td>\n",
       "      <td>military-issues</td>\n",
       "      <td>Hello. You are asking a very good question abo...</td>\n",
       "      <td>9</td>\n",
       "      <td>481</td>\n",
       "      <td>others</td>\n",
       "    </tr>\n",
       "    <tr>\n",
       "      <th>2</th>\n",
       "      <td>How can I ask my boyfriend about who he's text...</td>\n",
       "      <td>We've been in a long distance relationship for...</td>\n",
       "      <td>https://counselchat.com/questions/how-can-i-as...</td>\n",
       "      <td>relationships</td>\n",
       "      <td>I agree with Sherry that in a close intimate r...</td>\n",
       "      <td>9</td>\n",
       "      <td>472</td>\n",
       "      <td>family_conflicts</td>\n",
       "    </tr>\n",
       "    <tr>\n",
       "      <th>3</th>\n",
       "      <td>Why do I feel like I'm always wrong in everyth...</td>\n",
       "      <td>My wife is always accusing me of cheating and ...</td>\n",
       "      <td>https://counselchat.com/questions/why-do-i-fee...</td>\n",
       "      <td>workplace-relationships</td>\n",
       "      <td>Hello. That must be very frustrating for you t...</td>\n",
       "      <td>9</td>\n",
       "      <td>268</td>\n",
       "      <td>others</td>\n",
       "    </tr>\n",
       "    <tr>\n",
       "      <th>4</th>\n",
       "      <td>Why do I feel sad all the time?</td>\n",
       "      <td>I just feel sad all the time and I don't like ...</td>\n",
       "      <td>https://counselchat.com/questions/why-do-i-fee...</td>\n",
       "      <td>family-conflict</td>\n",
       "      <td>Hello,While one can be sad from time to time, ...</td>\n",
       "      <td>9</td>\n",
       "      <td>264</td>\n",
       "      <td>family_conflicts</td>\n",
       "    </tr>\n",
       "  </tbody>\n",
       "</table>\n",
       "</div>"
      ],
      "text/plain": [
       "                                       questionTitle  \\\n",
       "0  How can I keep a long distance relationship go...   \n",
       "1  How can I keep a long distance relationship go...   \n",
       "2  How can I ask my boyfriend about who he's text...   \n",
       "3  Why do I feel like I'm always wrong in everyth...   \n",
       "4                    Why do I feel sad all the time?   \n",
       "\n",
       "                                        questionText  \\\n",
       "0  We weren't long distance until he joined the m...   \n",
       "1  We weren't long distance until he joined the m...   \n",
       "2  We've been in a long distance relationship for...   \n",
       "3  My wife is always accusing me of cheating and ...   \n",
       "4  I just feel sad all the time and I don't like ...   \n",
       "\n",
       "                                        questionLink                    topic  \\\n",
       "0  https://counselchat.com/questions/how-can-i-ke...            relationships   \n",
       "1  https://counselchat.com/questions/how-can-i-ke...          military-issues   \n",
       "2  https://counselchat.com/questions/how-can-i-as...            relationships   \n",
       "3  https://counselchat.com/questions/why-do-i-fee...  workplace-relationships   \n",
       "4  https://counselchat.com/questions/why-do-i-fee...          family-conflict   \n",
       "\n",
       "                                          answerText  upvotes  views  \\\n",
       "0  Hello. You are asking a very good question abo...        9    481   \n",
       "1  Hello. You are asking a very good question abo...        9    481   \n",
       "2  I agree with Sherry that in a close intimate r...        9    472   \n",
       "3  Hello. That must be very frustrating for you t...        9    268   \n",
       "4  Hello,While one can be sad from time to time, ...        9    264   \n",
       "\n",
       "         root_topic  \n",
       "0  family_conflicts  \n",
       "1            others  \n",
       "2  family_conflicts  \n",
       "3            others  \n",
       "4  family_conflicts  "
      ]
     },
     "execution_count": 80,
     "metadata": {},
     "output_type": "execute_result"
    }
   ],
   "source": [
    "df.head()"
   ]
  },
  {
   "cell_type": "code",
   "execution_count": 81,
   "metadata": {
    "ExecuteTime": {
     "end_time": "2020-05-03T20:49:36.998370Z",
     "start_time": "2020-05-03T20:49:36.993844Z"
    }
   },
   "outputs": [
    {
     "data": {
      "text/plain": [
       "(1449, 8)"
      ]
     },
     "execution_count": 81,
     "metadata": {},
     "output_type": "execute_result"
    }
   ],
   "source": [
    "df.shape"
   ]
  },
  {
   "cell_type": "code",
   "execution_count": 191,
   "metadata": {
    "ExecuteTime": {
     "end_time": "2020-05-03T17:36:40.463157Z",
     "start_time": "2020-05-03T17:36:40.458667Z"
    }
   },
   "outputs": [
    {
     "data": {
      "text/plain": [
       "31"
      ]
     },
     "execution_count": 191,
     "metadata": {},
     "output_type": "execute_result"
    }
   ],
   "source": [
    "len(list(df.topic.unique()))"
   ]
  },
  {
   "cell_type": "code",
   "execution_count": 194,
   "metadata": {
    "ExecuteTime": {
     "end_time": "2020-05-03T17:37:17.849388Z",
     "start_time": "2020-05-03T17:37:17.790618Z"
    }
   },
   "outputs": [],
   "source": [
    "df_original = pd.read_csv('/Users/kaushik-shakkari/Downloads/counsel_chat_dataset.csv')"
   ]
  },
  {
   "cell_type": "code",
   "execution_count": 193,
   "metadata": {
    "ExecuteTime": {
     "end_time": "2020-05-03T17:36:42.408381Z",
     "start_time": "2020-05-03T17:36:42.402716Z"
    }
   },
   "outputs": [
    {
     "data": {
      "text/plain": [
       "['grief-and-loss',\n",
       " 'diagnosis',\n",
       " 'relationship-dissolution',\n",
       " 'social-relationships',\n",
       " 'career-counseling',\n",
       " 'anxiety',\n",
       " 'children-adolescents',\n",
       " 'sleep-improvement',\n",
       " 'relationships',\n",
       " 'family-conflict',\n",
       " 'behavioral-change',\n",
       " 'stress',\n",
       " 'professional-ethics',\n",
       " 'substance-abuse',\n",
       " 'depression',\n",
       " 'human-sexuality',\n",
       " 'counseling-fundamentals',\n",
       " 'self-esteem',\n",
       " 'domestic-violence',\n",
       " 'parenting',\n",
       " 'trauma',\n",
       " 'intimacy',\n",
       " 'anger-management',\n",
       " 'self-harm',\n",
       " 'workplace-relationships',\n",
       " 'eating-disorders',\n",
       " 'legal-regulatory',\n",
       " 'spirituality',\n",
       " 'lgbtq',\n",
       " 'addiction',\n",
       " 'marriage',\n",
       " 'alzheimer-s',\n",
       " 'military-issues']"
      ]
     },
     "execution_count": 193,
     "metadata": {},
     "output_type": "execute_result"
    }
   ],
   "source": [
    "temp"
   ]
  },
  {
   "cell_type": "code",
   "execution_count": 130,
   "metadata": {
    "ExecuteTime": {
     "end_time": "2020-05-03T17:11:53.797440Z",
     "start_time": "2020-05-03T17:11:53.429419Z"
    }
   },
   "outputs": [],
   "source": [
    "df_temp = pd.read_excel(path+\"depression.xlsx\")"
   ]
  },
  {
   "cell_type": "code",
   "execution_count": 131,
   "metadata": {
    "ExecuteTime": {
     "end_time": "2020-05-03T17:11:54.576508Z",
     "start_time": "2020-05-03T17:11:54.572041Z"
    }
   },
   "outputs": [
    {
     "data": {
      "text/plain": [
       "(1655, 12)"
      ]
     },
     "execution_count": 131,
     "metadata": {},
     "output_type": "execute_result"
    }
   ],
   "source": [
    "df_temp.shape"
   ]
  },
  {
   "cell_type": "code",
   "execution_count": 156,
   "metadata": {
    "ExecuteTime": {
     "end_time": "2020-05-03T17:34:47.153082Z",
     "start_time": "2020-05-03T17:34:47.146979Z"
    }
   },
   "outputs": [
    {
     "data": {
      "text/plain": [
       "1"
      ]
     },
     "execution_count": 156,
     "metadata": {},
     "output_type": "execute_result"
    }
   ],
   "source": [
    "df_temp.topic.nunique()"
   ]
  },
  {
   "cell_type": "code",
   "execution_count": null,
   "metadata": {},
   "outputs": [],
   "source": [
    "df_temp = pd.read_excel(path+\"depression.xlsx\")"
   ]
  },
  {
   "cell_type": "code",
   "execution_count": 195,
   "metadata": {
    "ExecuteTime": {
     "end_time": "2020-05-03T17:37:38.935756Z",
     "start_time": "2020-05-03T17:37:38.927610Z"
    }
   },
   "outputs": [],
   "source": [
    "df_temp = df.drop_duplicates(subset='questionTitle', keep=\"first\")\n",
    "df = df.reset_index()\n",
    "df = df.drop(\"index\", axis = 1)"
   ]
  },
  {
   "cell_type": "code",
   "execution_count": null,
   "metadata": {},
   "outputs": [],
   "source": []
  }
 ],
 "metadata": {
  "kernelspec": {
   "display_name": "Python 3",
   "language": "python",
   "name": "python3"
  },
  "language_info": {
   "codemirror_mode": {
    "name": "ipython",
    "version": 3
   },
   "file_extension": ".py",
   "mimetype": "text/x-python",
   "name": "python",
   "nbconvert_exporter": "python",
   "pygments_lexer": "ipython3",
   "version": "3.7.3"
  },
  "toc": {
   "base_numbering": 1,
   "nav_menu": {},
   "number_sections": true,
   "sideBar": true,
   "skip_h1_title": false,
   "title_cell": "Table of Contents",
   "title_sidebar": "Contents",
   "toc_cell": false,
   "toc_position": {},
   "toc_section_display": true,
   "toc_window_display": false
  }
 },
 "nbformat": 4,
 "nbformat_minor": 2
}
