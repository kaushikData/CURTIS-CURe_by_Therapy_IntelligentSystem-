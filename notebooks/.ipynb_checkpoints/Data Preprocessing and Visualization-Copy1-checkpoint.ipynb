{
 "cells": [
  {
   "cell_type": "markdown",
   "metadata": {},
   "source": [
    "# Imporing Libraries"
   ]
  },
  {
   "cell_type": "code",
   "execution_count": 311,
   "metadata": {
    "ExecuteTime": {
     "end_time": "2020-05-15T07:20:59.596179Z",
     "start_time": "2020-05-15T07:20:59.593267Z"
    }
   },
   "outputs": [],
   "source": [
    "# Data Visualization\n",
    "import matplotlib.pyplot as plt\n",
    "\n",
    "# Data Processing\n",
    "import pandas as pd\n",
    "\n",
    "# NLP \n",
    "import re\n",
    "\n",
    "# Others\n",
    "import os\n",
    "from collections import defaultdict"
   ]
  },
  {
   "cell_type": "markdown",
   "metadata": {},
   "source": [
    "# Processing and Preparing Data"
   ]
  },
  {
   "cell_type": "code",
   "execution_count": 312,
   "metadata": {
    "ExecuteTime": {
     "end_time": "2020-05-15T07:21:00.396991Z",
     "start_time": "2020-05-15T07:21:00.393862Z"
    }
   },
   "outputs": [],
   "source": [
    "def string_processing(answer):\n",
    "    pattern = '(?<! )(?=[!\\\"#$%&\\'()\\*\\+,-\\.:;=?@\\[\\]\\\\^_`\\|\\{\\}~])|(?<=[!\\\"#$%&\\'()\\*\\+,-\\.:;=?@\\[\\]\\\\^_`\\|\\{\\}~])(?! )'\n",
    "    answer = re.sub(pattern, r' ',  answer)\n",
    "    return answer"
   ]
  },
  {
   "cell_type": "markdown",
   "metadata": {
    "ExecuteTime": {
     "end_time": "2020-05-03T19:02:24.891505Z",
     "start_time": "2020-05-03T19:02:24.872160Z"
    }
   },
   "source": [
    "## Processing Crawled Data from CounselChat.com"
   ]
  },
  {
   "cell_type": "code",
   "execution_count": 313,
   "metadata": {
    "ExecuteTime": {
     "end_time": "2020-05-15T07:21:03.257531Z",
     "start_time": "2020-05-15T07:21:01.211836Z"
    }
   },
   "outputs": [],
   "source": [
    "path = \"../data/CouncilChat-CrawledData/\"\n",
    "files = os.listdir(path)\n",
    "files_xls = [f for f in files if f[-4:] == 'xlsx']\n",
    "list_df = []\n",
    "temp = []\n",
    "\n",
    "for index, filename in enumerate(files_xls):\n",
    "    try: \n",
    "        list_df.append(pd.read_excel(path+filename))\n",
    "        temp.append(filename.split(\".\")[0])\n",
    "    except:\n",
    "        temp.append()\n",
    "\n",
    "df_crawled = pd.concat(list_df)"
   ]
  },
  {
   "cell_type": "code",
   "execution_count": 314,
   "metadata": {
    "ExecuteTime": {
     "end_time": "2020-05-15T07:21:03.273885Z",
     "start_time": "2020-05-15T07:21:03.259448Z"
    }
   },
   "outputs": [],
   "source": [
    "df_crawled.dropna(inplace = True)"
   ]
  },
  {
   "cell_type": "code",
   "execution_count": 315,
   "metadata": {
    "ExecuteTime": {
     "end_time": "2020-05-15T07:21:03.894711Z",
     "start_time": "2020-05-15T07:21:03.881053Z"
    }
   },
   "outputs": [
    {
     "data": {
      "text/html": [
       "<div>\n",
       "<style scoped>\n",
       "    .dataframe tbody tr th:only-of-type {\n",
       "        vertical-align: middle;\n",
       "    }\n",
       "\n",
       "    .dataframe tbody tr th {\n",
       "        vertical-align: top;\n",
       "    }\n",
       "\n",
       "    .dataframe thead th {\n",
       "        text-align: right;\n",
       "    }\n",
       "</style>\n",
       "<table border=\"1\" class=\"dataframe\">\n",
       "  <thead>\n",
       "    <tr style=\"text-align: right;\">\n",
       "      <th></th>\n",
       "      <th>Unnamed: 0</th>\n",
       "      <th>questionID</th>\n",
       "      <th>questionTitle</th>\n",
       "      <th>questionText</th>\n",
       "      <th>questionLink</th>\n",
       "      <th>topic</th>\n",
       "      <th>therapistName</th>\n",
       "      <th>therapistTitle</th>\n",
       "      <th>therapistURL</th>\n",
       "      <th>answerText</th>\n",
       "      <th>upvotes</th>\n",
       "      <th>views</th>\n",
       "    </tr>\n",
       "  </thead>\n",
       "  <tbody>\n",
       "    <tr>\n",
       "      <th>0</th>\n",
       "      <td>0</td>\n",
       "      <td>1</td>\n",
       "      <td>I just lost my grandpa</td>\n",
       "      <td>I just lost my grandpa and i'm having a rough time with it.  I need some help to deal with the loss, but I don’t think I can pay for counseling. Where Can I get help?</td>\n",
       "      <td>https://counselchat.com/questions/i-just-lost-my-grandpa-2</td>\n",
       "      <td>grief-and-loss</td>\n",
       "      <td>Ian Palombo</td>\n",
       "      <td>#ThoughtMediator &amp; #LifeUntangler</td>\n",
       "      <td>https://counselchat.com/therapists/ian-palombo</td>\n",
       "      <td>Feeling profound sadness after the death of a loved one? Experiencing excessive guilt about something left unsaid or undone? Are you gripped with fear? Caught in a cycle of anxiety, helplessness, or panic? Having trouble resuming a normal life with grief and pain as your constant companions? Grief counseling could help you understand whats happened and provide professional help and support through it.Learn to cope with their grieving experience.Grief is a natural human response to loss. That doesn’t mean the loss of a loved one isn’t an intense and at times desolate experience. While painful experiences are normal during this time, your emotions may feel trapped on a non-stop roller coaster. You may experience downs and deeper downs interspersed with periods of brief respite.You can learn to express and come to terms with the broad range of emotions involved in the grieving process, from those that you may expect — sadness, loneliness, exhaustion - to those that come as a surprise, such as relief, anger, and a sense of confusion. We offer a variety of therapeutic approaches to best support you and work with you as an equal collaborator to empower and engage your healing.Loss is a very personal journey, with some finding it more difficult than others. While grieving for the same person can often foster compassion and connection among family and friends, it’s also common for the grieving to struggle with anger, conflict, a lack of understanding, or an inability to fully share your feelings with others. Grief and bereavement counseling can provide you a much-needed safe space to work through your struggles with a caring, nonjudgmental professional.Do any of these describe you? A counselor may offer the support, guidance, and expert care you need. In grief and bereavement counseling we work with you toward lessening the pain so you can function well in your post-loss life. We listen with empathy, discuss ways to deal with unhelpful and unhealthy thoughts and behaviors, and teach you techniques to manage distress and enable you to move forward.</td>\n",
       "      <td>0</td>\n",
       "      <td>92</td>\n",
       "    </tr>\n",
       "    <tr>\n",
       "      <th>1</th>\n",
       "      <td>1</td>\n",
       "      <td>1</td>\n",
       "      <td>I just lost my grandpa</td>\n",
       "      <td>I just lost my grandpa and i'm having a rough time with it.  I need some help to deal with the loss, but I don’t think I can pay for counseling. Where Can I get help?</td>\n",
       "      <td>https://counselchat.com/questions/i-just-lost-my-grandpa-2</td>\n",
       "      <td>grief-and-loss</td>\n",
       "      <td>Dr. Melissa Valentina</td>\n",
       "      <td>Honor Yourself and Live Your Truth</td>\n",
       "      <td>https://counselchat.com/therapists/dr-melissa-valentina</td>\n",
       "      <td>If you connect with your therapist and can say whatever you want to say and not be judged. If you feel like things, situations, your outlook are shifting for you.</td>\n",
       "      <td>0</td>\n",
       "      <td>16</td>\n",
       "    </tr>\n",
       "    <tr>\n",
       "      <th>2</th>\n",
       "      <td>2</td>\n",
       "      <td>1</td>\n",
       "      <td>I just lost my grandpa</td>\n",
       "      <td>I just lost my grandpa and i'm having a rough time with it.  I need some help to deal with the loss, but I don’t think I can pay for counseling. Where Can I get help?</td>\n",
       "      <td>https://counselchat.com/questions/i-just-lost-my-grandpa-2</td>\n",
       "      <td>grief-and-loss</td>\n",
       "      <td>Dr. Timothy Paul</td>\n",
       "      <td>'man'; Online - \"Natural Health Consultant and Coach\"</td>\n",
       "      <td>https://counselchat.com/therapists/dr-timothy-paul</td>\n",
       "      <td>Yknow, to see a man youve loved and care for pass on must make ya want to cry and weep a bunch, dont it?And, may I say to you that... (as Ive long since said)... if you need to mourn, take about a week or so and mourn like your life depended on it. I mean, get to weeping, gnashing, moaning, crying, solemnness, and reflection.And then, after about a week or so, reflect on the man as if he were a well-beloved traveler... sent off on a wondrous journey that will consume and encapsulate his entire awareness... and...Rather than expression vibrations of fatigue, sadness, and anger, send him the finest recollections and images you have of him, and regard him fondly...For, I think you will realize that the dead are not gone forever, but are actually extraordinarily active... and when he sees what you express out from within yourself, he experiences it himself (probably more than you know); so, why not send the very best you have out to him :)</td>\n",
       "      <td>0</td>\n",
       "      <td>30</td>\n",
       "    </tr>\n",
       "    <tr>\n",
       "      <th>3</th>\n",
       "      <td>3</td>\n",
       "      <td>1</td>\n",
       "      <td>I just lost my grandpa</td>\n",
       "      <td>I just lost my grandpa and i'm having a rough time with it.  I need some help to deal with the loss, but I don’t think I can pay for counseling. Where Can I get help?</td>\n",
       "      <td>https://counselchat.com/questions/i-just-lost-my-grandpa-2</td>\n",
       "      <td>grief-and-loss</td>\n",
       "      <td>Christina McGrath Fair</td>\n",
       "      <td>\"Enlightenment is when a wave realizes it is the ocean.\" -Thich Nhat Hanh</td>\n",
       "      <td>https://counselchat.com/therapists/christina-mcgrath-fair</td>\n",
       "      <td>I am sorry for your loss. I understand the difficulty of needing help and not having financial resources. In some areas, you can dial 211 and find resources in the area that may be free of cost or low cost. In addition, often hospitals and community centers, churches, etc. have support groups. These are often free and many include grief and loss issues. Finally, there are some therapists who work on sliding scales and even sometimes offer pro bono sessions for clients. Hopefully some of these leads work out for you so that you can get the support that you need.</td>\n",
       "      <td>0</td>\n",
       "      <td>157</td>\n",
       "    </tr>\n",
       "    <tr>\n",
       "      <th>4</th>\n",
       "      <td>4</td>\n",
       "      <td>1</td>\n",
       "      <td>I just lost my grandpa</td>\n",
       "      <td>I just lost my grandpa and i'm having a rough time with it.  I need some help to deal with the loss, but I don’t think I can pay for counseling. Where Can I get help?</td>\n",
       "      <td>https://counselchat.com/questions/i-just-lost-my-grandpa-2</td>\n",
       "      <td>grief-and-loss</td>\n",
       "      <td>Pamela Suraci</td>\n",
       "      <td>Build on your strengths, grow in your challenge areas and improve your life!</td>\n",
       "      <td>https://counselchat.com/therapists/pamela-suraci</td>\n",
       "      <td>Losing someone you love, someone who has been there from your very first days, is really hard. Look for a local hospice support organization in your community - grief groups and counseling are often available through these centers. Dont just tough it out and wait for your sadness to fade. Your grandfather would not want that for you. Take extra good care of yourself and get some support</td>\n",
       "      <td>0</td>\n",
       "      <td>231</td>\n",
       "    </tr>\n",
       "  </tbody>\n",
       "</table>\n",
       "</div>"
      ],
      "text/plain": [
       "   Unnamed: 0  questionID           questionTitle  \\\n",
       "0  0           1           I just lost my grandpa   \n",
       "1  1           1           I just lost my grandpa   \n",
       "2  2           1           I just lost my grandpa   \n",
       "3  3           1           I just lost my grandpa   \n",
       "4  4           1           I just lost my grandpa   \n",
       "\n",
       "                                                                                                                                                             questionText  \\\n",
       "0  I just lost my grandpa and i'm having a rough time with it.  I need some help to deal with the loss, but I don’t think I can pay for counseling. Where Can I get help?   \n",
       "1  I just lost my grandpa and i'm having a rough time with it.  I need some help to deal with the loss, but I don’t think I can pay for counseling. Where Can I get help?   \n",
       "2  I just lost my grandpa and i'm having a rough time with it.  I need some help to deal with the loss, but I don’t think I can pay for counseling. Where Can I get help?   \n",
       "3  I just lost my grandpa and i'm having a rough time with it.  I need some help to deal with the loss, but I don’t think I can pay for counseling. Where Can I get help?   \n",
       "4  I just lost my grandpa and i'm having a rough time with it.  I need some help to deal with the loss, but I don’t think I can pay for counseling. Where Can I get help?   \n",
       "\n",
       "                                                 questionLink           topic  \\\n",
       "0  https://counselchat.com/questions/i-just-lost-my-grandpa-2  grief-and-loss   \n",
       "1  https://counselchat.com/questions/i-just-lost-my-grandpa-2  grief-and-loss   \n",
       "2  https://counselchat.com/questions/i-just-lost-my-grandpa-2  grief-and-loss   \n",
       "3  https://counselchat.com/questions/i-just-lost-my-grandpa-2  grief-and-loss   \n",
       "4  https://counselchat.com/questions/i-just-lost-my-grandpa-2  grief-and-loss   \n",
       "\n",
       "            therapistName  \\\n",
       "0  Ian Palombo              \n",
       "1  Dr. Melissa Valentina    \n",
       "2  Dr. Timothy Paul         \n",
       "3  Christina McGrath Fair   \n",
       "4  Pamela Suraci            \n",
       "\n",
       "                                                                 therapistTitle  \\\n",
       "0  #ThoughtMediator & #LifeUntangler                                              \n",
       "1  Honor Yourself and Live Your Truth                                             \n",
       "2  'man'; Online - \"Natural Health Consultant and Coach\"                          \n",
       "3  \"Enlightenment is when a wave realizes it is the ocean.\" -Thich Nhat Hanh      \n",
       "4  Build on your strengths, grow in your challenge areas and improve your life!   \n",
       "\n",
       "                                                therapistURL  \\\n",
       "0  https://counselchat.com/therapists/ian-palombo              \n",
       "1  https://counselchat.com/therapists/dr-melissa-valentina     \n",
       "2  https://counselchat.com/therapists/dr-timothy-paul          \n",
       "3  https://counselchat.com/therapists/christina-mcgrath-fair   \n",
       "4  https://counselchat.com/therapists/pamela-suraci            \n",
       "\n",
       "                                                                                                                                                                                                                                                                                                                                                                                                                                                                                                                                                                                                                                                                                                                                                                                                                                                                                                                                                                                                                                                                                                                                                                                                                                                                                                                                                                                                                                                                                                                                                                                                                                                                                                                                                                                                                                                                                                                                                                                                                                                                                                                                                    answerText  \\\n",
       "0  Feeling profound sadness after the death of a loved one? Experiencing excessive guilt about something left unsaid or undone? Are you gripped with fear? Caught in a cycle of anxiety, helplessness, or panic? Having trouble resuming a normal life with grief and pain as your constant companions? Grief counseling could help you understand whats happened and provide professional help and support through it.Learn to cope with their grieving experience.Grief is a natural human response to loss. That doesn’t mean the loss of a loved one isn’t an intense and at times desolate experience. While painful experiences are normal during this time, your emotions may feel trapped on a non-stop roller coaster. You may experience downs and deeper downs interspersed with periods of brief respite.You can learn to express and come to terms with the broad range of emotions involved in the grieving process, from those that you may expect — sadness, loneliness, exhaustion - to those that come as a surprise, such as relief, anger, and a sense of confusion. We offer a variety of therapeutic approaches to best support you and work with you as an equal collaborator to empower and engage your healing.Loss is a very personal journey, with some finding it more difficult than others. While grieving for the same person can often foster compassion and connection among family and friends, it’s also common for the grieving to struggle with anger, conflict, a lack of understanding, or an inability to fully share your feelings with others. Grief and bereavement counseling can provide you a much-needed safe space to work through your struggles with a caring, nonjudgmental professional.Do any of these describe you? A counselor may offer the support, guidance, and expert care you need. In grief and bereavement counseling we work with you toward lessening the pain so you can function well in your post-loss life. We listen with empathy, discuss ways to deal with unhelpful and unhealthy thoughts and behaviors, and teach you techniques to manage distress and enable you to move forward.   \n",
       "1  If you connect with your therapist and can say whatever you want to say and not be judged. If you feel like things, situations, your outlook are shifting for you.                                                                                                                                                                                                                                                                                                                                                                                                                                                                                                                                                                                                                                                                                                                                                                                                                                                                                                                                                                                                                                                                                                                                                                                                                                                                                                                                                                                                                                                                                                                                                                                                                                                                                                                                                                                                                                                                                                                                                                                            \n",
       "2  Yknow, to see a man youve loved and care for pass on must make ya want to cry and weep a bunch, dont it?And, may I say to you that... (as Ive long since said)... if you need to mourn, take about a week or so and mourn like your life depended on it. I mean, get to weeping, gnashing, moaning, crying, solemnness, and reflection.And then, after about a week or so, reflect on the man as if he were a well-beloved traveler... sent off on a wondrous journey that will consume and encapsulate his entire awareness... and...Rather than expression vibrations of fatigue, sadness, and anger, send him the finest recollections and images you have of him, and regard him fondly...For, I think you will realize that the dead are not gone forever, but are actually extraordinarily active... and when he sees what you express out from within yourself, he experiences it himself (probably more than you know); so, why not send the very best you have out to him :)                                                                                                                                                                                                                                                                                                                                                                                                                                                                                                                                                                                                                                                                                                                                                                                                                                                                                                                                                                                                                                                                                                                                                                         \n",
       "3  I am sorry for your loss. I understand the difficulty of needing help and not having financial resources. In some areas, you can dial 211 and find resources in the area that may be free of cost or low cost. In addition, often hospitals and community centers, churches, etc. have support groups. These are often free and many include grief and loss issues. Finally, there are some therapists who work on sliding scales and even sometimes offer pro bono sessions for clients. Hopefully some of these leads work out for you so that you can get the support that you need.                                                                                                                                                                                                                                                                                                                                                                                                                                                                                                                                                                                                                                                                                                                                                                                                                                                                                                                                                                                                                                                                                                                                                                                                                                                                                                                                                                                                                                                                                                                                                                       \n",
       "4  Losing someone you love, someone who has been there from your very first days, is really hard. Look for a local hospice support organization in your community - grief groups and counseling are often available through these centers. Dont just tough it out and wait for your sadness to fade. Your grandfather would not want that for you. Take extra good care of yourself and get some support                                                                                                                                                                                                                                                                                                                                                                                                                                                                                                                                                                                                                                                                                                                                                                                                                                                                                                                                                                                                                                                                                                                                                                                                                                                                                                                                                                                                                                                                                                                                                                                                                                                                                                                                                         \n",
       "\n",
       "   upvotes  views  \n",
       "0  0        92     \n",
       "1  0        16     \n",
       "2  0        30     \n",
       "3  0        157    \n",
       "4  0        231    "
      ]
     },
     "execution_count": 315,
     "metadata": {},
     "output_type": "execute_result"
    }
   ],
   "source": [
    "df_crawled.head()"
   ]
  },
  {
   "cell_type": "code",
   "execution_count": 316,
   "metadata": {
    "ExecuteTime": {
     "end_time": "2020-05-15T07:21:04.754112Z",
     "start_time": "2020-05-15T07:21:04.749702Z"
    }
   },
   "outputs": [],
   "source": [
    "df_crawled.drop(\"Unnamed: 0\", axis = 1, inplace = True)"
   ]
  },
  {
   "cell_type": "code",
   "execution_count": 317,
   "metadata": {
    "ExecuteTime": {
     "end_time": "2020-05-15T07:21:09.407341Z",
     "start_time": "2020-05-15T07:21:09.404046Z"
    }
   },
   "outputs": [
    {
     "data": {
      "text/plain": [
       "(12139, 11)"
      ]
     },
     "execution_count": 317,
     "metadata": {},
     "output_type": "execute_result"
    }
   ],
   "source": [
    "df_crawled.shape"
   ]
  },
  {
   "cell_type": "code",
   "execution_count": 318,
   "metadata": {
    "ExecuteTime": {
     "end_time": "2020-05-15T07:21:09.986055Z",
     "start_time": "2020-05-15T07:21:09.982771Z"
    }
   },
   "outputs": [
    {
     "data": {
      "text/plain": [
       "(12139, 11)"
      ]
     },
     "execution_count": 318,
     "metadata": {},
     "output_type": "execute_result"
    }
   ],
   "source": [
    "df_crawled.shape"
   ]
  },
  {
   "cell_type": "code",
   "execution_count": 319,
   "metadata": {
    "ExecuteTime": {
     "end_time": "2020-05-15T07:21:10.509315Z",
     "start_time": "2020-05-15T07:21:10.504939Z"
    }
   },
   "outputs": [
    {
     "data": {
      "text/plain": [
       "33"
      ]
     },
     "execution_count": 319,
     "metadata": {},
     "output_type": "execute_result"
    }
   ],
   "source": [
    "df_crawled.topic.nunique()"
   ]
  },
  {
   "cell_type": "markdown",
   "metadata": {},
   "source": [
    "## Processing historical/old data from CounselChat"
   ]
  },
  {
   "cell_type": "code",
   "execution_count": 320,
   "metadata": {
    "ExecuteTime": {
     "end_time": "2020-05-15T07:21:11.861719Z",
     "start_time": "2020-05-15T07:21:11.819243Z"
    }
   },
   "outputs": [],
   "source": [
    "df_old = pd.read_csv('../data/given_counsel_chat_dataset.csv')"
   ]
  },
  {
   "cell_type": "code",
   "execution_count": 321,
   "metadata": {
    "ExecuteTime": {
     "end_time": "2020-05-15T07:21:12.457475Z",
     "start_time": "2020-05-15T07:21:12.443248Z"
    }
   },
   "outputs": [
    {
     "data": {
      "text/html": [
       "<div>\n",
       "<style scoped>\n",
       "    .dataframe tbody tr th:only-of-type {\n",
       "        vertical-align: middle;\n",
       "    }\n",
       "\n",
       "    .dataframe tbody tr th {\n",
       "        vertical-align: top;\n",
       "    }\n",
       "\n",
       "    .dataframe thead th {\n",
       "        text-align: right;\n",
       "    }\n",
       "</style>\n",
       "<table border=\"1\" class=\"dataframe\">\n",
       "  <thead>\n",
       "    <tr style=\"text-align: right;\">\n",
       "      <th></th>\n",
       "      <th>questionID</th>\n",
       "      <th>questionTitle</th>\n",
       "      <th>questionText</th>\n",
       "      <th>questionLink</th>\n",
       "      <th>topic</th>\n",
       "      <th>therapistInfo</th>\n",
       "      <th>therapistURL</th>\n",
       "      <th>answerText</th>\n",
       "      <th>upvotes</th>\n",
       "      <th>views</th>\n",
       "      <th>split</th>\n",
       "    </tr>\n",
       "  </thead>\n",
       "  <tbody>\n",
       "    <tr>\n",
       "      <th>1317</th>\n",
       "      <td>548</td>\n",
       "      <td>What does it mean when my wife says she loves me but isn't \"in love\" with me?</td>\n",
       "      <td>NaN</td>\n",
       "      <td>https://counselchat.com/questions/what-does-it-mean-when-my-wife-says-she-loves-me-but-isn-t-in-love-with-me</td>\n",
       "      <td>intimacy</td>\n",
       "      <td>Sherry Katz, LCSWCouples and Family Therapist, LCSW</td>\n",
       "      <td>https://counselchat.com/therapists/sherry-katz-lcsw</td>\n",
       "      <td>Usually someone means by this that the person cares about you, feels warm and friendly, has an interest in helping you, believes you have positive qualities such as kindness, and are generally a likable person toward whom the person feels affection.Romantic love and intimate involve a deeply felt dynamic that is unique to the particular couple.  The dynamic results from the shared identity of being part of that particular couple.  Loving another person is a one way dynamic of one person toward another person.In love is appreciating and freely wanting to continue, contributing to the couple's shared dynamic.Good luck in understanding more about your happiness and satisfaction in the current relationship!</td>\n",
       "      <td>1</td>\n",
       "      <td>136</td>\n",
       "      <td>train</td>\n",
       "    </tr>\n",
       "    <tr>\n",
       "      <th>1562</th>\n",
       "      <td>663</td>\n",
       "      <td>My husband seems to be changing, and I feel angry and hurt</td>\n",
       "      <td>My husband took a job out of state for the next year and seems to be a different person. Before, he worked and slept, and on off days, he'd stay home because he didn't want to do anything else. Now he's going out with friends several nights a week while I'm still home working a 50 hours a week job and taking care of two kids by myself. He's suddenly saying he misses me and wants me to be his adored wife, but the whole time, I'm remembering how I've been emotionally starving for the last five years.</td>\n",
       "      <td>https://counselchat.com/questions/my-husband-seems-to-be-changing-and-i-feel-angry-and-hurt</td>\n",
       "      <td>marriage</td>\n",
       "      <td>Kathryn ClappKathryn Clapp LMHC, LLC</td>\n",
       "      <td>https://counselchat.com/therapists/kathryn-clapp</td>\n",
       "      <td>It seems that you have been very disconnected from each other which naturally  could contribute to symptoms of saddness and even depression. Obviously something has shifted which you do not understand. Therefore,  perhaps you should consider attending Couples therapy to help work through your concerns and feelings?  It would also be beneficial to assess if in fact any depression or other underlying issue is going on. Communication is so important in any relationship and the manner in which we express ourselves to our partner can either invite curiosity and emotional connection, or shut down connection. IMAGO dialoguing is a helpful tool for couples for communication as it teaches  validating and empathic listening to better heal disconnection.</td>\n",
       "      <td>4</td>\n",
       "      <td>135</td>\n",
       "      <td>train</td>\n",
       "    </tr>\n",
       "    <tr>\n",
       "      <th>2263</th>\n",
       "      <td>19</td>\n",
       "      <td>Is it normal to cry during therapy?</td>\n",
       "      <td>I start counseling/therapy in a few days (I'm freaking out) but my main fear is that I'll cry and embarrass myself, is it something to worry about?</td>\n",
       "      <td>https://counselchat.com/questions/is-it-normal-to-cry-during-therapy</td>\n",
       "      <td>counseling-fundamentals</td>\n",
       "      <td>Lola Georgwww.GeorgAssociates.com</td>\n",
       "      <td>https://counselchat.com/therapists/lola-georg</td>\n",
       "      <td>Please do not worry about crying. People cry, laugh, rage, rant, and talk during counseling sessions. Part of the therapy process is to look at your feelings, and to feel what you are actually feeling (instead of what you think you should feel). So if you need to cry, that's ok. If you feel embarrassed because you cried, or if you feel anxious that you might cry, well those feelings are ok as well. Your counselor can help you manage your feelings so that you can attain your goals, and your counseling session is the perfect place for that.</td>\n",
       "      <td>0</td>\n",
       "      <td>465</td>\n",
       "      <td>test</td>\n",
       "    </tr>\n",
       "    <tr>\n",
       "      <th>1754</th>\n",
       "      <td>766</td>\n",
       "      <td>I cheated on my husband with one of his good friends a few years ago</td>\n",
       "      <td>We kissed and he grabbed my boobs and we exchanged some texts and a few calls. It went on for about 8 months. Just when we were all together and our spouses were out of the room. Once I met him for lunch to tell him that we needed to stop. We ended up kissing after lunch and then I sent him a few more texts that day telling him I was serious and that was the end of it. His wife (my good friend) saw us kiss once and told my husband. I told him a couple of things then and we got over it. A year later she told him a couple of other things. Same story. It's been about 3 years since. They are now divorced and my husband and I have been happy. A few weeks ago the wife called me and said that her now ex told her more stuff we did. I decided to just tell my husband everything. We are trying to work things out. But he is having a really hard time believing that he knows all of it. How can I help him believe me?</td>\n",
       "      <td>https://counselchat.com/questions/i-cheated-on-my-husband-with-one-of-his-good-friends-a-few-years-ago</td>\n",
       "      <td>relationships</td>\n",
       "      <td>Rebecca WongRelationship Therapist &amp; Connectfulness Consultant</td>\n",
       "      <td>https://counselchat.com/therapists/rebecca-wong</td>\n",
       "      <td>The issue at hand here is that you're betrayal broke his trust. In order to repair your relationship you will both need to confront the infidelity. And both of you will need to honor yourselves by communicating your feelings and ensuring that those feelings are heard and validated. It would be really helpful to do this work with a Gottman or Emotionally Focused Couples Therapist. Gottman's The Science of Trust and What Makes Love Last would both be helpful reference books to guide you along.</td>\n",
       "      <td>0</td>\n",
       "      <td>143</td>\n",
       "      <td>train</td>\n",
       "    </tr>\n",
       "    <tr>\n",
       "      <th>1198</th>\n",
       "      <td>482</td>\n",
       "      <td>How do I handle getting the silent treatment from my boyfriend?</td>\n",
       "      <td>When my boyfriend gets in a snit, he gives me the silent treatment for days. When I ask what is wrong, I get nothing: no reply, no phone call. If he does reply, it is something very sarcastic and hurtful. He never admits he is wrong and never apologizes.</td>\n",
       "      <td>https://counselchat.com/questions/how-do-i-handle-getting-the-silent-treatment-from-my-boyfriend</td>\n",
       "      <td>intimacy</td>\n",
       "      <td>David KleinHumanistic, LGBT-Affirmative Psychotherapy for Individuals &amp; Couples</td>\n",
       "      <td>https://counselchat.com/therapists/david-klein</td>\n",
       "      <td>As you say, if he does reply it is hurtful. But, if he doesn't reply, it sounds like it's just as hurtful (though more in my opinion in terms of the longer-range effects on the relationship). The behavior he is exhibiting would easily pass for \"passive-aggression,\" as it is manipulative and controlling through passive withdrawal behaviors. And I can assure you that you are not alone in struggling with how to deal with it. So many do, and that's why it gets done so often, because it can. For example, if you push for connection, he stonewalls even more. You probably become more distressed.Frankly, if you and your boyfriend were sitting on my couch in therapy, I'd likely say that the behavior needs to stop in order for the relationship to continue, because of how severe it sounds (an hour of withdrawal because someone can't deal is reasonable, as everyone can shut down from time to time, but this feels extreme and is extremely hurtful to you.) I might even say to him that the behavior needs to stop if he ever wants to be in a healthy, loving, connected relationship. Because the amount that you describe him disconnecting severely hurts trust and security. One of the first \"change events\" in Emotionally-Focused Couples Therapy is for the person doing the withdrawing to be able to use words and communication to help the partner understand what they are experiencing, so the burden does fall more on him at the beginning. It becomes the partner's job to tolerate though whatever his experience is.There is no one \"tried and true\" solution to working with passive-aggression, but I would most advise limit-setting (like I would do in our session). In one way, shape, or form, in order for the behavior to stop, there has to be consequences to it. The more you tolerate it and allow him to come back to you when he's done with his silent tantrum, the more you encourage the behavior because he is getting what he wants.</td>\n",
       "      <td>0</td>\n",
       "      <td>66</td>\n",
       "      <td>train</td>\n",
       "    </tr>\n",
       "  </tbody>\n",
       "</table>\n",
       "</div>"
      ],
      "text/plain": [
       "      questionID  \\\n",
       "1317  548          \n",
       "1562  663          \n",
       "2263  19           \n",
       "1754  766          \n",
       "1198  482          \n",
       "\n",
       "                                                                      questionTitle  \\\n",
       "1317  What does it mean when my wife says she loves me but isn't \"in love\" with me?   \n",
       "1562  My husband seems to be changing, and I feel angry and hurt                      \n",
       "2263  Is it normal to cry during therapy?                                             \n",
       "1754  I cheated on my husband with one of his good friends a few years ago            \n",
       "1198  How do I handle getting the silent treatment from my boyfriend?                 \n",
       "\n",
       "                                                                                                                                                                                                                                                                                                                                                                                                                                                                                                                                                                                                                                                                                                                                                                                                                                                                                                                                             questionText  \\\n",
       "1317  NaN                                                                                                                                                                                                                                                                                                                                                                                                                                                                                                                                                                                                                                                                                                                                                                                                                                                                                                                                                   \n",
       "1562  My husband took a job out of state for the next year and seems to be a different person. Before, he worked and slept, and on off days, he'd stay home because he didn't want to do anything else. Now he's going out with friends several nights a week while I'm still home working a 50 hours a week job and taking care of two kids by myself. He's suddenly saying he misses me and wants me to be his adored wife, but the whole time, I'm remembering how I've been emotionally starving for the last five years.                                                                                                                                                                                                                                                                                                                                                                                                                               \n",
       "2263  I start counseling/therapy in a few days (I'm freaking out) but my main fear is that I'll cry and embarrass myself, is it something to worry about?                                                                                                                                                                                                                                                                                                                                                                                                                                                                                                                                                                                                                                                                                                                                                                                                   \n",
       "1754  We kissed and he grabbed my boobs and we exchanged some texts and a few calls. It went on for about 8 months. Just when we were all together and our spouses were out of the room. Once I met him for lunch to tell him that we needed to stop. We ended up kissing after lunch and then I sent him a few more texts that day telling him I was serious and that was the end of it. His wife (my good friend) saw us kiss once and told my husband. I told him a couple of things then and we got over it. A year later she told him a couple of other things. Same story. It's been about 3 years since. They are now divorced and my husband and I have been happy. A few weeks ago the wife called me and said that her now ex told her more stuff we did. I decided to just tell my husband everything. We are trying to work things out. But he is having a really hard time believing that he knows all of it. How can I help him believe me?   \n",
       "1198  When my boyfriend gets in a snit, he gives me the silent treatment for days. When I ask what is wrong, I get nothing: no reply, no phone call. If he does reply, it is something very sarcastic and hurtful. He never admits he is wrong and never apologizes.                                                                                                                                                                                                                                                                                                                                                                                                                                                                                                                                                                                                                                                                                        \n",
       "\n",
       "                                                                                                      questionLink  \\\n",
       "1317  https://counselchat.com/questions/what-does-it-mean-when-my-wife-says-she-loves-me-but-isn-t-in-love-with-me   \n",
       "1562  https://counselchat.com/questions/my-husband-seems-to-be-changing-and-i-feel-angry-and-hurt                    \n",
       "2263  https://counselchat.com/questions/is-it-normal-to-cry-during-therapy                                           \n",
       "1754  https://counselchat.com/questions/i-cheated-on-my-husband-with-one-of-his-good-friends-a-few-years-ago         \n",
       "1198  https://counselchat.com/questions/how-do-i-handle-getting-the-silent-treatment-from-my-boyfriend               \n",
       "\n",
       "                        topic  \\\n",
       "1317  intimacy                  \n",
       "1562  marriage                  \n",
       "2263  counseling-fundamentals   \n",
       "1754  relationships             \n",
       "1198  intimacy                  \n",
       "\n",
       "                                                                        therapistInfo  \\\n",
       "1317  Sherry Katz, LCSWCouples and Family Therapist, LCSW                               \n",
       "1562  Kathryn ClappKathryn Clapp LMHC, LLC                                              \n",
       "2263  Lola Georgwww.GeorgAssociates.com                                                 \n",
       "1754  Rebecca WongRelationship Therapist & Connectfulness Consultant                    \n",
       "1198  David KleinHumanistic, LGBT-Affirmative Psychotherapy for Individuals & Couples   \n",
       "\n",
       "                                             therapistURL  \\\n",
       "1317  https://counselchat.com/therapists/sherry-katz-lcsw   \n",
       "1562  https://counselchat.com/therapists/kathryn-clapp      \n",
       "2263  https://counselchat.com/therapists/lola-georg         \n",
       "1754  https://counselchat.com/therapists/rebecca-wong       \n",
       "1198  https://counselchat.com/therapists/david-klein        \n",
       "\n",
       "                                                                                                                                                                                                                                                                                                                                                                                                                                                                                                                                                                                                                                                                                                                                                                                                                                                                                                                                                                                                                                                                                                                                                                                                                                                                                                                                                                                                                                                                                                                                                                                                                                                                                                                                                                                                                                                                                                                                                                                                        answerText  \\\n",
       "1317  Usually someone means by this that the person cares about you, feels warm and friendly, has an interest in helping you, believes you have positive qualities such as kindness, and are generally a likable person toward whom the person feels affection.Romantic love and intimate involve a deeply felt dynamic that is unique to the particular couple.  The dynamic results from the shared identity of being part of that particular couple.  Loving another person is a one way dynamic of one person toward another person.In love is appreciating and freely wanting to continue, contributing to the couple's shared dynamic.Good luck in understanding more about your happiness and satisfaction in the current relationship!                                                                                                                                                                                                                                                                                                                                                                                                                                                                                                                                                                                                                                                                                                                                                                                                                                                                                                                                                                                                                                                                                                                                                                                                                                                                       \n",
       "1562  It seems that you have been very disconnected from each other which naturally  could contribute to symptoms of saddness and even depression. Obviously something has shifted which you do not understand. Therefore,  perhaps you should consider attending Couples therapy to help work through your concerns and feelings?  It would also be beneficial to assess if in fact any depression or other underlying issue is going on. Communication is so important in any relationship and the manner in which we express ourselves to our partner can either invite curiosity and emotional connection, or shut down connection. IMAGO dialoguing is a helpful tool for couples for communication as it teaches  validating and empathic listening to better heal disconnection.                                                                                                                                                                                                                                                                                                                                                                                                                                                                                                                                                                                                                                                                                                                                                                                                                                                                                                                                                                                                                                                                                                                                                                                                                              \n",
       "2263  Please do not worry about crying. People cry, laugh, rage, rant, and talk during counseling sessions. Part of the therapy process is to look at your feelings, and to feel what you are actually feeling (instead of what you think you should feel). So if you need to cry, that's ok. If you feel embarrassed because you cried, or if you feel anxious that you might cry, well those feelings are ok as well. Your counselor can help you manage your feelings so that you can attain your goals, and your counseling session is the perfect place for that.                                                                                                                                                                                                                                                                                                                                                                                                                                                                                                                                                                                                                                                                                                                                                                                                                                                                                                                                                                                                                                                                                                                                                                                                                                                                                                                                                                                                                                               \n",
       "1754  The issue at hand here is that you're betrayal broke his trust. In order to repair your relationship you will both need to confront the infidelity. And both of you will need to honor yourselves by communicating your feelings and ensuring that those feelings are heard and validated. It would be really helpful to do this work with a Gottman or Emotionally Focused Couples Therapist. Gottman's The Science of Trust and What Makes Love Last would both be helpful reference books to guide you along.                                                                                                                                                                                                                                                                                                                                                                                                                                                                                                                                                                                                                                                                                                                                                                                                                                                                                                                                                                                                                                                                                                                                                                                                                                                                                                                                                                                                                                                                                               \n",
       "1198  As you say, if he does reply it is hurtful. But, if he doesn't reply, it sounds like it's just as hurtful (though more in my opinion in terms of the longer-range effects on the relationship). The behavior he is exhibiting would easily pass for \"passive-aggression,\" as it is manipulative and controlling through passive withdrawal behaviors. And I can assure you that you are not alone in struggling with how to deal with it. So many do, and that's why it gets done so often, because it can. For example, if you push for connection, he stonewalls even more. You probably become more distressed.Frankly, if you and your boyfriend were sitting on my couch in therapy, I'd likely say that the behavior needs to stop in order for the relationship to continue, because of how severe it sounds (an hour of withdrawal because someone can't deal is reasonable, as everyone can shut down from time to time, but this feels extreme and is extremely hurtful to you.) I might even say to him that the behavior needs to stop if he ever wants to be in a healthy, loving, connected relationship. Because the amount that you describe him disconnecting severely hurts trust and security. One of the first \"change events\" in Emotionally-Focused Couples Therapy is for the person doing the withdrawing to be able to use words and communication to help the partner understand what they are experiencing, so the burden does fall more on him at the beginning. It becomes the partner's job to tolerate though whatever his experience is.There is no one \"tried and true\" solution to working with passive-aggression, but I would most advise limit-setting (like I would do in our session). In one way, shape, or form, in order for the behavior to stop, there has to be consequences to it. The more you tolerate it and allow him to come back to you when he's done with his silent tantrum, the more you encourage the behavior because he is getting what he wants.   \n",
       "\n",
       "      upvotes  views  split  \n",
       "1317  1        136    train  \n",
       "1562  4        135    train  \n",
       "2263  0        465    test   \n",
       "1754  0        143    train  \n",
       "1198  0        66     train  "
      ]
     },
     "execution_count": 321,
     "metadata": {},
     "output_type": "execute_result"
    }
   ],
   "source": [
    "df_old.sample(5)"
   ]
  },
  {
   "cell_type": "code",
   "execution_count": 322,
   "metadata": {
    "ExecuteTime": {
     "end_time": "2020-05-15T07:21:13.145167Z",
     "start_time": "2020-05-15T07:21:13.138704Z"
    }
   },
   "outputs": [],
   "source": [
    "df_old.dropna(inplace = True)"
   ]
  },
  {
   "cell_type": "markdown",
   "metadata": {},
   "source": [
    "## Preprocessing Kaggle Data"
   ]
  },
  {
   "cell_type": "code",
   "execution_count": 323,
   "metadata": {
    "ExecuteTime": {
     "end_time": "2020-05-15T07:21:14.510265Z",
     "start_time": "2020-05-15T07:21:14.378367Z"
    }
   },
   "outputs": [],
   "source": [
    "df_kaggle = pd.read_csv('/Users/kaushik-shakkari/Downloads/Psych_data.csv')"
   ]
  },
  {
   "cell_type": "code",
   "execution_count": 324,
   "metadata": {
    "ExecuteTime": {
     "end_time": "2020-05-15T07:21:14.847613Z",
     "start_time": "2020-05-15T07:21:14.842209Z"
    }
   },
   "outputs": [],
   "source": [
    "df_kaggle.Answer = df_kaggle.Answer.astype(str)\n",
    "df_kaggle.Question = df_kaggle.Question.astype(str)"
   ]
  },
  {
   "cell_type": "code",
   "execution_count": 325,
   "metadata": {
    "ExecuteTime": {
     "end_time": "2020-05-15T07:21:15.130247Z",
     "start_time": "2020-05-15T07:21:15.126262Z"
    }
   },
   "outputs": [],
   "source": [
    "if 'Unnamed: 0' in df_kaggle.columns:\n",
    "    df_kaggle.drop(['Unnamed: 0'], inplace = True, axis = 1)"
   ]
  },
  {
   "cell_type": "code",
   "execution_count": 326,
   "metadata": {
    "ExecuteTime": {
     "end_time": "2020-05-15T07:21:15.366685Z",
     "start_time": "2020-05-15T07:21:15.356244Z"
    }
   },
   "outputs": [
    {
     "data": {
      "text/plain": [
       "False    3788\n",
       "True     1530\n",
       "Name: Question, dtype: int64"
      ]
     },
     "execution_count": 326,
     "metadata": {},
     "output_type": "execute_result"
    }
   ],
   "source": [
    "(df_kaggle.Question.str.find(\"?\") != -1).value_counts()"
   ]
  },
  {
   "cell_type": "code",
   "execution_count": 327,
   "metadata": {
    "ExecuteTime": {
     "end_time": "2020-05-15T07:21:15.570238Z",
     "start_time": "2020-05-15T07:21:15.561139Z"
    }
   },
   "outputs": [],
   "source": [
    "question_df = df_kaggle[df_kaggle.Question.str.find(\"?\") != -1]"
   ]
  },
  {
   "cell_type": "code",
   "execution_count": 328,
   "metadata": {
    "ExecuteTime": {
     "end_time": "2020-05-15T07:21:15.819986Z",
     "start_time": "2020-05-15T07:21:15.814957Z"
    }
   },
   "outputs": [],
   "source": [
    "question_df = question_df.reset_index()\n",
    "question_df.drop(['index'], axis = 1, inplace = True)"
   ]
  },
  {
   "cell_type": "code",
   "execution_count": 329,
   "metadata": {
    "ExecuteTime": {
     "end_time": "2020-05-15T07:21:16.305708Z",
     "start_time": "2020-05-15T07:21:16.294480Z"
    },
    "scrolled": true
   },
   "outputs": [
    {
     "data": {
      "text/html": [
       "<div>\n",
       "<style scoped>\n",
       "    .dataframe tbody tr th:only-of-type {\n",
       "        vertical-align: middle;\n",
       "    }\n",
       "\n",
       "    .dataframe tbody tr th {\n",
       "        vertical-align: top;\n",
       "    }\n",
       "\n",
       "    .dataframe thead th {\n",
       "        text-align: right;\n",
       "    }\n",
       "</style>\n",
       "<table border=\"1\" class=\"dataframe\">\n",
       "  <thead>\n",
       "    <tr style=\"text-align: right;\">\n",
       "      <th></th>\n",
       "      <th>Answer</th>\n",
       "      <th>Question</th>\n",
       "      <th>Therapist</th>\n",
       "      <th>time</th>\n",
       "    </tr>\n",
       "  </thead>\n",
       "  <tbody>\n",
       "    <tr>\n",
       "      <th>0</th>\n",
       "      <td>It’s impossible to give a diagnosis over the internet. The most common questions that I receive here at Psych Central are from people with anxiety disorders who fear that they may be developing schizophrenia. Anecdotally, it seems to be a very common fear, especially among people with anxiety.It makes sense that people with severe anxiety would believe that they might have schizophrenia. People with anxiety disorders often fear the worst-case scenario. In their minds, schizophrenia is the worst-case scenario. Among the lay public, it is the most frightening of all mental health disorders.Panic attacks are frightening. Panic attacks cause an extreme state of heightened distress. As you mentioned, it makes you feel like you’re on the “edges of insanity.” That’s how all people feel when they are experiencing panic attacks. Panic attacks are a sign of an anxiety disorder, not a psychotic disorder. Even though it may feel that way, it is not that way.The idea that you have yet to consult a mental health professional is likely contributing to this problem. I understand that you’re frightened of treatment but you have nothing to fear. Mental health professionals want to help you. Good, effective treatment is available.Anxiety disorders are the most common mental health disorders in the world. Highly effective treatments exist that can help you immediately, relieving your distressing symptoms. When you think about it, it’s nonsensical to suffer with a highly treatable condition. The sooner that you seek treatment, the sooner you will feel better.Nothing that you have written in your letter would indicate schizophrenia. You mentioned hypnagogic hallucinations before falling asleep. Those are a normal part of falling asleep but we often only remember them when we are having trouble falling asleep. If we have them, then immediately wake up, we remember them. If we have them and then fall asleep, we don’t remember them at all.If I could interview you, I would want to know why you are experiencing so much stress. What is causing you to feel this way? Stress has a cause. You are obviously worried about something. Did something recently change in your life? What are you worried about? It’s important to know what is causing these problems.Even if it’s difficult, make it a priority to consult a mental health professional. Once you have the initial meeting, you will likely quickly begin to feel better. You will see that it is not a frightening experience. Treatment can begin as soon as the first session. That means that you will likely leave your first session with less anxiety and a solid treatment plan for the future. You will be on your way to recovery.One of the best ways to reduce anxiety is to focus on reality. Staying grounded in reality is an important element in reducing panic and fear. Obviously, that is easier said than done which is why it’s important to consult a mental health professional. They will know how to help you. They have received explicit training to help with these types of problems. You should not wait another day. Make an appointment immediately. I wish you the best of luck. Please take care.</td>\n",
       "      <td>I don’t even really know where to start. For the past 7 months I’ve been under extreme mounts of stress followed by a few panic attacks, that have left me so emotionally unstable that I feel that I’m teetering on edges of insanity. I’m in constant fear that I might be experience psychosis. I’ve been having hypnagogic hallucinations right before falling asleep that have left me in so much distress. Sometimes I’ll hear a loud sound or different voices that are loud. I’d like to not that I’ve experienced this for most of my life. But since having these panic attacks and just hours on the internet and reading about mental illness it has left me scared that it maybe something more. I’m extremely scared I might be in the beginning stages of schizophrenia. I’ve become hyperaware, I literally am always making sure that I’m not hearing things or seeing things. I just feel so lost and sad all the time I just want to feel whole again. Sorry if this seems a little jumpy I’m just in tears as I type this. I’ve never been diagnosed with anxiety or any anxiety disorder and I fear it may be more than that anyway. I’ve become so afraid of my mind because if I have a weird thought I am constantly ruminating on it and it drives me up the wall. Couple of days ago I literally typed in the same question about schizophrenia 30 different times. I need help but I’m so afraid that the Doctor may confirm my fears. I just don’t know what to do. Is the hyperawareness of sounds, weird thoughts and hypnagogic hallucinations a sign that I’m becoming schizophrenic? I also have a cousin who is schizophrenic and I have an older father so I know I’m at higher risk. I’m in shambles over this. Anything would help. I don’t really know if any of this even makes but please help.</td>\n",
       "      <td>7</td>\n",
       "      <td>2019-09-14</td>\n",
       "    </tr>\n",
       "    <tr>\n",
       "      <th>1</th>\n",
       "      <td>Congratulations on bringing your new baby into the world. Since you are in your 30s and you are concerned with attachment issues, I’m guessing that this was an all the more special event in your life.First, please take a look at the research on attachment outcomes for babies who are in daycare. They generally do as well or better than babies who are not. Babies in childcare do know who their mothers are. By six months, babies are secure in their attachment to their moms, especially when the moms do as you are doing while they are on leave — spending a lot of time and having a lot of contact with their children.What you can do to ease both of you into your eventual return to work is to gradually start spending some time apart. You may already be doing this. Put your baby down in a baby carrier or a comfortable made-for-baby cushion for short times during the day. Give him some experience with you putting him down and then coming back. Allow your friends to hold him and play with him at times so he gets used to interacting with other people besides you. Since you are breast feeding, start doing some pumping (and stock piling milk in the freezer) and introduce a bottle for a feeding or two when he is six months old to get him used to it. Talk to your pediatrician or a lactation specialist about how best to do this.It will be hard at first to leave him. You are part of an attachment couple after all. But do remind yourself that providing for him financially as well as emotionally is part of what will keep him safe and secure. If your work is part of what makes happy, he will also have a happier mom. To keep the emotional attachment going, all you need to do is establish a relaxed and attentive routine as you get ready in the morning, play with him between when you get home and bedtime, and enjoy your weekends together.I wish you well.</td>\n",
       "      <td>From a woman in the UK: Hi, I have a 4 month old baby boy and i have to go back to work when he’s 7 months. I understand that will be a key age for forming secure attachment and i won’t be around for some of every day. i can work from home but not all the time. I’m worried about disruption to our relationship and his attachment. We are breastfeeding, cosleeping and i wear him in a carrier often. He is settled and doing well with this arrangement but of course we will have some distance when I’m back at work. Is there anything i can do to make things easier for my baby? Thank you</td>\n",
       "      <td>2</td>\n",
       "      <td>2019-09-16</td>\n",
       "    </tr>\n",
       "    <tr>\n",
       "      <th>2</th>\n",
       "      <td>Just by writing to us you have begun to make the right kind of changes. Whenever there are so many difficulties the psyche will often shut down from the pain. It is an attempt to protect itself — but whatever protects also inhibits. The nature of reactions from trauma center around the brain trying to remind and warn or avoid and forget what has happened. The limitations you are feeling sound like they are a direct result of all the loss and trauma you’ve experienced. While it isn’t something I could diagnose from your email there are conditions that can arise from this kind of ordeal that can have a debilitating effect. One of these can cause numbness and feelings of being detached, isolated or disconnected from other people or yourself. This symptom collection can be triggered by any number of events, but is known to occur as a result of sexual violence, profound loss or death, injury — or witnessing of these things. When something that can overwhelm us happens that includes these type of experiences it is classified as Post Traumatic Stress Disorder (PTSD.) In days gone by it was thought that only the kind of things very few people see would cause the disorder. Now, it is widely accepted that very common experiences, like a break-up with a boyfriend, can be enough to trigger similar symptoms. Here is more information about this.The descriptions below are not meant for you to diagnose yourself, but to understand more about what PTSD is, and how it can influence a person’s life. Here are some common symptoms of PTSD:It would be best to go to a mental health professional to get an accurate diagnosis. to help determine if you might benefit from seeking out professional help here is a brief online quiz. This can assure the treatment is properly matched with your symptoms.Finally, there are several approaches that have been successful with PTSD which fall into 3 general categories: Psychotherapy, medication, and self-help. The various forms of psychotherapy are:Often prescribed medications are selective serotonin reuptake inhibitors (SSRIs), including fluoxetine (Prozac), paroxetine (Paxil) and sertraline (Zoloft), and the selective serotonin and norepinephrine reuptake inhibitor (SNRI) venlafaxine (Effexor).Self-help recommendations supported by research are: exercise. acupuncture. Yoga, workbooks and social support. For an excellent discussion on these and other treatment option please read Margarita Tartakovsky’s article here.The important thing is that you are asking for help. This is an excellent start. I would go to a mental health professional to get an accurate diagnosis and while you are waiting to begin formal treatment you may want to take part in some of the self-help approaches.Wishing you patience and peace,</td>\n",
       "      <td>Hello! I would like to know some exercises or something I can practice to get myself out of this numb state of emotions. Last year was really hard for me (break up of a 4yr relationship, rape, loss of 2 good friends) and I was in constant pain and then I think it just switched somehow in me some kind of defense mechanism I think when I just stopped feeling at all. It was helpful and helped me a lot to sort out a lot of things. Now when it’s relatively a long time over and im supposed to get better I just cant. The bad thing is that i cannot express love or open myself to any bpdy because I just can’t feel what they feel… I imagine it as some kind of a barrier in me. Do you have any advice on how to get rid of it? It really bothers me because I’m a young person and I love life and my friends and I wanna fall in love sometimes etc. Thank you for listening :) (From Slovakia)</td>\n",
       "      <td>0</td>\n",
       "      <td>2019-09-6</td>\n",
       "    </tr>\n",
       "    <tr>\n",
       "      <th>3</th>\n",
       "      <td>Incest involves sexual relationships between people who are related by blood. According to the laws in your state (and the laws in virtually every other state and most countries), incest is illegal. You’re committing a criminal act. It is a serious crime that is punishable by law.Your state forbids marriage and sexual relationships between people who are closely related by blood. When the two of you were younger, and depending upon your age difference, your older brother could have been charged with the crime of unlawful intercourse with a minor. Had he been found guilty, he would have been deemed a sex offender, possibly sent to prison and potentially put on a sex offender registry that would have significantly limited his freedom.In order to be successfully prosecuted for incest in the state in which you live, three elements would need to be present: 1) that you had sexual intercourse with a close blood relative; 2) that you knew about the blood relation at the time of the sexual act; and 3) the sex was consensual. Based on everything you’ve written in your letter, it’s possible that you could be prosecuted for your behavior.In terms of punishment, it could range from spending 16 months to two or three years in prison depending upon your prior criminal record, whether both parties were consenting adults, the degree of the blood relationship, and other mitigating factors. Because incest is considered a sex offense, if found guilty, you would have to register as a sex offender for the rest of your life.The reason incest is outlawed is because of the serious birth defects that could result from inbreeding. In studies of children of incest, nearly half were born with severe birth defects, suffered early death or experienced mild mental impairments. That children are at a high risk of experiencing those types of problems is one reason why incestuous relationships are so morally indefensible.You said that you can’t stop engaging in this sexual behavior but it’s important to recognize that you are making a choice. No one is forcing you to have sex with your brother. You are consenting to this behavior. You are an equal participant. You are choosing to continue to engage in a sexual relationship with your brother for personal reasons. The idea that you have no choice in this matter is simply untrue. You have a choice.The good news is that you have control over your behavior. You can choose to not engage in this illegal act. Should you get caught, not only would you be facing potential incarceration, but you also risk being labeled a sex offender and being placed on a sex offender registry for the rest of your life. That outcome would be immensely detrimental to your life.To admit that you want to stop but can’t indicates that this problem may not be something you can resolve on your own. I highly recommend that you consult a therapist. A therapist will not judge you or turn you in to the authorities. You will not shock them. They will simply help you to resolve this problem. It is better to deal with this issue now, rather than continuing to risk getting into legal trouble or producing a child that has a nearly 50 percent chance of living a compromised life. Good luck and please take care.</td>\n",
       "      <td>Me and my older brother have always been close and he’s always been my hero. As for me, myself, I started the journey of getting couyselinf since I was when apparently, I would masterbate in school (in class, in the bathroom, and once even on the monkey bars). I also got in trouble once for peeing in front of my dad. So im sure this plays a part I why my mood has been so negative recently. And no, I was never molested. My parents are loving but always absent. this also plays a part in what is going on in my life. Given I was very sexual at a young age, I told my brother while crying frantically that I wanted to be his wife. 2 times I was the cause of him vbreakinbg woth someone he loved (guilt), and I wad responsible for insisting to let me see what sex feels like. I lost my virginity to him I n a triumphany victory because I though after we made love that he would be all mine, what a sick thought in reflection, although the most intense sex ive ever had. We are highly sexual with each other still. I even cater to his extreme foot fetish and bdsm although afterwards every time I feel so dirty and putrid. what a paradox, pain mixed with pleasure, so confusing. its to the point now where other guys don’t turn me on anymore. I only want to have sex with him and to make it worse, I get jealous when he even mentions other girls. How do I stop doing this?</td>\n",
       "      <td>7</td>\n",
       "      <td>2019-09-19</td>\n",
       "    </tr>\n",
       "    <tr>\n",
       "      <th>4</th>\n",
       "      <td>Thank you for writing. In my opinion, this is more than a good idea – it’s a great idea! You are 20. You’ve been dealing with this since you were only 13! You aren’t likely to be able to work on your own problems if you are constantly braced for what will happen next at home.You were able to find love and marry. It’s time you and your husband started your own adult lives. Getting away from the patterns that are long established in your mother’s home will free the two of you to learn how to be with each other in a healthy environment in a healthy way. If you chose your partner well, I think you may be surprised at how much your love will flourish.I assume that you are both working and that you can afford the apartment. If you can, I suggest that whatever it costs, you can’t afford not to move. I urge you to trust your own good judgment and get out of there. If you find that you can’t figure out how to make it happen, do consider seeing a therapist for a few sessions (both you and your husband) to get some support and some new ideas.You may well find that once you are out of the situation, your anxiety and depression will be considerably reduced.I wish you well.</td>\n",
       "      <td>From a young woman in the U.S.: I have had enough of the constant drama in my house, should I move out? I wish I had a larger word limit, lots of history behind this. To keep it short, I live with my mother and her alcoholic boyfriend, which has made the last 7 years of my life that much harder and I need out.</td>\n",
       "      <td>2</td>\n",
       "      <td>2019-09-11</td>\n",
       "    </tr>\n",
       "  </tbody>\n",
       "</table>\n",
       "</div>"
      ],
      "text/plain": [
       "                                                                                                                                                                                                                                                                                                                                                                                                                                                                                                                                                                                                                                                                                                                                                                                                                                                                                                                                                                                                                                                                                                                                                                                                                                                                                                                                                                                                                                                                                                                                                                                                                                                                                                                                                                                                                                                                                                                                                                                                                                                                                                                                                                                                                                                                                                                                                                                                                                                                                                                                                                                                                                                                                                                                                                                                                                                                                                                                                                                                                                                                                                                                                                                                                                                                                                                                                                       Answer  \\\n",
       "0  It’s impossible to give a diagnosis over the internet. The most common questions that I receive here at Psych Central are from people with anxiety disorders who fear that they may be developing schizophrenia. Anecdotally, it seems to be a very common fear, especially among people with anxiety.It makes sense that people with severe anxiety would believe that they might have schizophrenia. People with anxiety disorders often fear the worst-case scenario. In their minds, schizophrenia is the worst-case scenario. Among the lay public, it is the most frightening of all mental health disorders.Panic attacks are frightening. Panic attacks cause an extreme state of heightened distress. As you mentioned, it makes you feel like you’re on the “edges of insanity.” That’s how all people feel when they are experiencing panic attacks. Panic attacks are a sign of an anxiety disorder, not a psychotic disorder. Even though it may feel that way, it is not that way.The idea that you have yet to consult a mental health professional is likely contributing to this problem. I understand that you’re frightened of treatment but you have nothing to fear. Mental health professionals want to help you. Good, effective treatment is available.Anxiety disorders are the most common mental health disorders in the world. Highly effective treatments exist that can help you immediately, relieving your distressing symptoms. When you think about it, it’s nonsensical to suffer with a highly treatable condition. The sooner that you seek treatment, the sooner you will feel better.Nothing that you have written in your letter would indicate schizophrenia. You mentioned hypnagogic hallucinations before falling asleep. Those are a normal part of falling asleep but we often only remember them when we are having trouble falling asleep. If we have them, then immediately wake up, we remember them. If we have them and then fall asleep, we don’t remember them at all.If I could interview you, I would want to know why you are experiencing so much stress. What is causing you to feel this way? Stress has a cause. You are obviously worried about something. Did something recently change in your life? What are you worried about? It’s important to know what is causing these problems.Even if it’s difficult, make it a priority to consult a mental health professional. Once you have the initial meeting, you will likely quickly begin to feel better. You will see that it is not a frightening experience. Treatment can begin as soon as the first session. That means that you will likely leave your first session with less anxiety and a solid treatment plan for the future. You will be on your way to recovery.One of the best ways to reduce anxiety is to focus on reality. Staying grounded in reality is an important element in reducing panic and fear. Obviously, that is easier said than done which is why it’s important to consult a mental health professional. They will know how to help you. They have received explicit training to help with these types of problems. You should not wait another day. Make an appointment immediately. I wish you the best of luck. Please take care.                                                                                       \n",
       "1  Congratulations on bringing your new baby into the world. Since you are in your 30s and you are concerned with attachment issues, I’m guessing that this was an all the more special event in your life.First, please take a look at the research on attachment outcomes for babies who are in daycare. They generally do as well or better than babies who are not. Babies in childcare do know who their mothers are. By six months, babies are secure in their attachment to their moms, especially when the moms do as you are doing while they are on leave — spending a lot of time and having a lot of contact with their children.What you can do to ease both of you into your eventual return to work is to gradually start spending some time apart. You may already be doing this. Put your baby down in a baby carrier or a comfortable made-for-baby cushion for short times during the day. Give him some experience with you putting him down and then coming back. Allow your friends to hold him and play with him at times so he gets used to interacting with other people besides you. Since you are breast feeding, start doing some pumping (and stock piling milk in the freezer) and introduce a bottle for a feeding or two when he is six months old to get him used to it. Talk to your pediatrician or a lactation specialist about how best to do this.It will be hard at first to leave him. You are part of an attachment couple after all. But do remind yourself that providing for him financially as well as emotionally is part of what will keep him safe and secure. If your work is part of what makes happy, he will also have a happier mom. To keep the emotional attachment going, all you need to do is establish a relaxed and attentive routine as you get ready in the morning, play with him between when you get home and bedtime, and enjoy your weekends together.I wish you well.                                                                                                                                                                                                                                                                                                                                                                                                                                                                                                                                                                                                                                                                                                                                                                                                                                                                                                                                                                                                                                                                                                                                                                                                                                                                                                                                                                                                                                       \n",
       "2  Just by writing to us you have begun to make the right kind of changes. Whenever there are so many difficulties the psyche will often shut down from the pain. It is an attempt to protect itself — but whatever protects also inhibits. The nature of reactions from trauma center around the brain trying to remind and warn or avoid and forget what has happened. The limitations you are feeling sound like they are a direct result of all the loss and trauma you’ve experienced. While it isn’t something I could diagnose from your email there are conditions that can arise from this kind of ordeal that can have a debilitating effect. One of these can cause numbness and feelings of being detached, isolated or disconnected from other people or yourself. This symptom collection can be triggered by any number of events, but is known to occur as a result of sexual violence, profound loss or death, injury — or witnessing of these things. When something that can overwhelm us happens that includes these type of experiences it is classified as Post Traumatic Stress Disorder (PTSD.) In days gone by it was thought that only the kind of things very few people see would cause the disorder. Now, it is widely accepted that very common experiences, like a break-up with a boyfriend, can be enough to trigger similar symptoms. Here is more information about this.The descriptions below are not meant for you to diagnose yourself, but to understand more about what PTSD is, and how it can influence a person’s life. Here are some common symptoms of PTSD:It would be best to go to a mental health professional to get an accurate diagnosis. to help determine if you might benefit from seeking out professional help here is a brief online quiz. This can assure the treatment is properly matched with your symptoms.Finally, there are several approaches that have been successful with PTSD which fall into 3 general categories: Psychotherapy, medication, and self-help. The various forms of psychotherapy are:Often prescribed medications are selective serotonin reuptake inhibitors (SSRIs), including fluoxetine (Prozac), paroxetine (Paxil) and sertraline (Zoloft), and the selective serotonin and norepinephrine reuptake inhibitor (SNRI) venlafaxine (Effexor).Self-help recommendations supported by research are: exercise. acupuncture. Yoga, workbooks and social support. For an excellent discussion on these and other treatment option please read Margarita Tartakovsky’s article here.The important thing is that you are asking for help. This is an excellent start. I would go to a mental health professional to get an accurate diagnosis and while you are waiting to begin formal treatment you may want to take part in some of the self-help approaches.Wishing you patience and peace,                                                                                                                                                                                                                                                                                                                                                                                                                                                                                             \n",
       "3  Incest involves sexual relationships between people who are related by blood. According to the laws in your state (and the laws in virtually every other state and most countries), incest is illegal. You’re committing a criminal act. It is a serious crime that is punishable by law.Your state forbids marriage and sexual relationships between people who are closely related by blood. When the two of you were younger, and depending upon your age difference, your older brother could have been charged with the crime of unlawful intercourse with a minor. Had he been found guilty, he would have been deemed a sex offender, possibly sent to prison and potentially put on a sex offender registry that would have significantly limited his freedom.In order to be successfully prosecuted for incest in the state in which you live, three elements would need to be present: 1) that you had sexual intercourse with a close blood relative; 2) that you knew about the blood relation at the time of the sexual act; and 3) the sex was consensual. Based on everything you’ve written in your letter, it’s possible that you could be prosecuted for your behavior.In terms of punishment, it could range from spending 16 months to two or three years in prison depending upon your prior criminal record, whether both parties were consenting adults, the degree of the blood relationship, and other mitigating factors. Because incest is considered a sex offense, if found guilty, you would have to register as a sex offender for the rest of your life.The reason incest is outlawed is because of the serious birth defects that could result from inbreeding. In studies of children of incest, nearly half were born with severe birth defects, suffered early death or experienced mild mental impairments. That children are at a high risk of experiencing those types of problems is one reason why incestuous relationships are so morally indefensible.You said that you can’t stop engaging in this sexual behavior but it’s important to recognize that you are making a choice. No one is forcing you to have sex with your brother. You are consenting to this behavior. You are an equal participant. You are choosing to continue to engage in a sexual relationship with your brother for personal reasons. The idea that you have no choice in this matter is simply untrue. You have a choice.The good news is that you have control over your behavior. You can choose to not engage in this illegal act. Should you get caught, not only would you be facing potential incarceration, but you also risk being labeled a sex offender and being placed on a sex offender registry for the rest of your life. That outcome would be immensely detrimental to your life.To admit that you want to stop but can’t indicates that this problem may not be something you can resolve on your own. I highly recommend that you consult a therapist. A therapist will not judge you or turn you in to the authorities. You will not shock them. They will simply help you to resolve this problem. It is better to deal with this issue now, rather than continuing to risk getting into legal trouble or producing a child that has a nearly 50 percent chance of living a compromised life. Good luck and please take care.   \n",
       "4  Thank you for writing. In my opinion, this is more than a good idea – it’s a great idea! You are 20. You’ve been dealing with this since you were only 13! You aren’t likely to be able to work on your own problems if you are constantly braced for what will happen next at home.You were able to find love and marry. It’s time you and your husband started your own adult lives. Getting away from the patterns that are long established in your mother’s home will free the two of you to learn how to be with each other in a healthy environment in a healthy way. If you chose your partner well, I think you may be surprised at how much your love will flourish.I assume that you are both working and that you can afford the apartment. If you can, I suggest that whatever it costs, you can’t afford not to move. I urge you to trust your own good judgment and get out of there. If you find that you can’t figure out how to make it happen, do consider seeing a therapist for a few sessions (both you and your husband) to get some support and some new ideas.You may well find that once you are out of the situation, your anxiety and depression will be considerably reduced.I wish you well.                                                                                                                                                                                                                                                                                                                                                                                                                                                                                                                                                                                                                                                                                                                                                                                                                                                                                                                                                                                                                                                                                                                                                                                                                                                                                                                                                                                                                                                                                                                                                                                                                                                                                                                                                                                                                                                                                                                                                                                                                                                                                                                                                   \n",
       "\n",
       "                                                                                                                                                                                                                                                                                                                                                                                                                                                                                                                                                                                                                                                                                                                                                                                                                                                                                                                                                                                                                                                                                                                                                                                                                                                                                                                                                                                                                                                                                                                                                                                                                                                                                                                                                                                                                                  Question  \\\n",
       "0  I don’t even really know where to start. For the past 7 months I’ve been under extreme mounts of stress followed by a few panic attacks, that have left me so emotionally unstable that I feel that I’m teetering on edges of insanity. I’m in constant fear that I might be experience psychosis. I’ve been having hypnagogic hallucinations right before falling asleep that have left me in so much distress. Sometimes I’ll hear a loud sound or different voices that are loud. I’d like to not that I’ve experienced this for most of my life. But since having these panic attacks and just hours on the internet and reading about mental illness it has left me scared that it maybe something more. I’m extremely scared I might be in the beginning stages of schizophrenia. I’ve become hyperaware, I literally am always making sure that I’m not hearing things or seeing things. I just feel so lost and sad all the time I just want to feel whole again. Sorry if this seems a little jumpy I’m just in tears as I type this. I’ve never been diagnosed with anxiety or any anxiety disorder and I fear it may be more than that anyway. I’ve become so afraid of my mind because if I have a weird thought I am constantly ruminating on it and it drives me up the wall. Couple of days ago I literally typed in the same question about schizophrenia 30 different times. I need help but I’m so afraid that the Doctor may confirm my fears. I just don’t know what to do. Is the hyperawareness of sounds, weird thoughts and hypnagogic hallucinations a sign that I’m becoming schizophrenic? I also have a cousin who is schizophrenic and I have an older father so I know I’m at higher risk. I’m in shambles over this. Anything would help. I don’t really know if any of this even makes but please help.   \n",
       "1  From a woman in the UK: Hi, I have a 4 month old baby boy and i have to go back to work when he’s 7 months. I understand that will be a key age for forming secure attachment and i won’t be around for some of every day. i can work from home but not all the time. I’m worried about disruption to our relationship and his attachment. We are breastfeeding, cosleeping and i wear him in a carrier often. He is settled and doing well with this arrangement but of course we will have some distance when I’m back at work. Is there anything i can do to make things easier for my baby? Thank you                                                                                                                                                                                                                                                                                                                                                                                                                                                                                                                                                                                                                                                                                                                                                                                                                                                                                                                                                                                                                                                                                                                                                                                                                                 \n",
       "2  Hello! I would like to know some exercises or something I can practice to get myself out of this numb state of emotions. Last year was really hard for me (break up of a 4yr relationship, rape, loss of 2 good friends) and I was in constant pain and then I think it just switched somehow in me some kind of defense mechanism I think when I just stopped feeling at all. It was helpful and helped me a lot to sort out a lot of things. Now when it’s relatively a long time over and im supposed to get better I just cant. The bad thing is that i cannot express love or open myself to any bpdy because I just can’t feel what they feel… I imagine it as some kind of a barrier in me. Do you have any advice on how to get rid of it? It really bothers me because I’m a young person and I love life and my friends and I wanna fall in love sometimes etc. Thank you for listening :) (From Slovakia)                                                                                                                                                                                                                                                                                                                                                                                                                                                                                                                                                                                                                                                                                                                                                                                                                                                                                                                      \n",
       "3  Me and my older brother have always been close and he’s always been my hero. As for me, myself, I started the journey of getting couyselinf since I was when apparently, I would masterbate in school (in class, in the bathroom, and once even on the monkey bars). I also got in trouble once for peeing in front of my dad. So im sure this plays a part I why my mood has been so negative recently. And no, I was never molested. My parents are loving but always absent. this also plays a part in what is going on in my life. Given I was very sexual at a young age, I told my brother while crying frantically that I wanted to be his wife. 2 times I was the cause of him vbreakinbg woth someone he loved (guilt), and I wad responsible for insisting to let me see what sex feels like. I lost my virginity to him I n a triumphany victory because I though after we made love that he would be all mine, what a sick thought in reflection, although the most intense sex ive ever had. We are highly sexual with each other still. I even cater to his extreme foot fetish and bdsm although afterwards every time I feel so dirty and putrid. what a paradox, pain mixed with pleasure, so confusing. its to the point now where other guys don’t turn me on anymore. I only want to have sex with him and to make it worse, I get jealous when he even mentions other girls. How do I stop doing this?                                                                                                                                                                                                                                                                                                                                                                                                               \n",
       "4  From a young woman in the U.S.: I have had enough of the constant drama in my house, should I move out? I wish I had a larger word limit, lots of history behind this. To keep it short, I live with my mother and her alcoholic boyfriend, which has made the last 7 years of my life that much harder and I need out.                                                                                                                                                                                                                                                                                                                                                                                                                                                                                                                                                                                                                                                                                                                                                                                                                                                                                                                                                                                                                                                                                                                                                                                                                                                                                                                                                                                                                                                                                                                   \n",
       "\n",
       "   Therapist        time  \n",
       "0  7          2019-09-14  \n",
       "1  2          2019-09-16  \n",
       "2  0          2019-09-6   \n",
       "3  7          2019-09-19  \n",
       "4  2          2019-09-11  "
      ]
     },
     "execution_count": 329,
     "metadata": {},
     "output_type": "execute_result"
    }
   ],
   "source": [
    "question_df.head()"
   ]
  },
  {
   "cell_type": "code",
   "execution_count": 330,
   "metadata": {
    "ExecuteTime": {
     "end_time": "2020-05-15T07:21:16.969857Z",
     "start_time": "2020-05-15T07:21:16.839847Z"
    }
   },
   "outputs": [],
   "source": [
    "question_df.Question = question_df.Question.apply(string_processing)"
   ]
  },
  {
   "cell_type": "code",
   "execution_count": 331,
   "metadata": {
    "ExecuteTime": {
     "end_time": "2020-05-15T07:21:17.609414Z",
     "start_time": "2020-05-15T07:21:17.606335Z"
    }
   },
   "outputs": [
    {
     "data": {
      "text/plain": [
       "(1530, 4)"
      ]
     },
     "execution_count": 331,
     "metadata": {},
     "output_type": "execute_result"
    }
   ],
   "source": [
    "question_df.shape"
   ]
  },
  {
   "cell_type": "code",
   "execution_count": 332,
   "metadata": {
    "ExecuteTime": {
     "end_time": "2020-05-15T07:21:18.013654Z",
     "start_time": "2020-05-15T07:21:18.010019Z"
    }
   },
   "outputs": [],
   "source": [
    "question_df.rename(columns={'Question': 'questionText','Answer':'answerText'}, inplace=True)"
   ]
  },
  {
   "cell_type": "code",
   "execution_count": 333,
   "metadata": {
    "ExecuteTime": {
     "end_time": "2020-05-15T07:21:18.476005Z",
     "start_time": "2020-05-15T07:21:18.472380Z"
    }
   },
   "outputs": [],
   "source": [
    "def findLastIndex(strn): \n",
    "    li_strn = strn.split()\n",
    "    index = -1\n",
    "    for i in range(0, len(li_strn)): \n",
    "        if li_strn[i] == '?': \n",
    "            index = i \n",
    "    return index, li_strn, len(li_strn)"
   ]
  },
  {
   "cell_type": "code",
   "execution_count": 334,
   "metadata": {
    "ExecuteTime": {
     "end_time": "2020-05-15T07:21:18.849212Z",
     "start_time": "2020-05-15T07:21:18.846623Z"
    }
   },
   "outputs": [],
   "source": [
    "question_df.questionTitle = \"\""
   ]
  },
  {
   "cell_type": "code",
   "execution_count": 335,
   "metadata": {
    "ExecuteTime": {
     "end_time": "2020-05-15T07:21:21.929207Z",
     "start_time": "2020-05-15T07:21:19.499575Z"
    },
    "scrolled": false
   },
   "outputs": [],
   "source": [
    "for i in range(question_df.shape[0]):\n",
    "    #if i == 834:\n",
    "    \n",
    "    question_df.loc[i,\"questionText\"] = re.sub('\\?\\?+','?',question_df.loc[i,\"questionText\"])\n",
    "\n",
    "    li = re.findall('(?<=\\.|\\?)[^\\.]+?\\?', question_df.loc[i,\"questionText\"])\n",
    "\n",
    "    if li == []:\n",
    "        li1 = re.findall('.*\\?', question_df.loc[i,\"questionText\"])\n",
    "        li1.sort(key = lambda x:len(x))\n",
    "        ques = li1[-1]\n",
    "    else:\n",
    "        li.sort(key = lambda x:len(x))\n",
    "        ques = li[-1]\n",
    "    question_df.loc[i,\"questionTitle\"] = ques.strip()\n",
    "    #print (\"questionTitle\" ,ques)\n",
    "    index, li_qt, context_len = findLastIndex(question_df.loc[i,\"questionText\"])\n",
    "\n",
    "    pre_ques_len =  index \n",
    "    post_ques_len = context_len - index \n",
    "    #print (\"pre: \", pre_ques_len)\n",
    "    #print (\"post: \", post_ques_len)\n",
    "\n",
    "    if pre_ques_len > 300 and post_ques_len > 200:\n",
    "        qt = ' '.join(li_qt[index-300:index] + li_qt[index:index+200])\n",
    "    elif pre_ques_len > 300:\n",
    "        if index-300-200+post_ques_len < 0:\n",
    "            indx = 0\n",
    "        else:\n",
    "            indx = index-300-200+post_ques_len\n",
    "        qt = ' '.join(li_qt[indx:index] + li_qt[index:index+post_ques_len])\n",
    "    elif post_ques_len > 200:\n",
    "        qt = ' '.join(li_qt[index-pre_ques_len:index] + li_qt[index:index+200+300-pre_ques_len])\n",
    "    else:\n",
    "        qt = ' '.join(li_qt)\n",
    "    #print (\"question text: \", qt)\n",
    "    question_df.loc[i,\"questionText\"] = qt\n",
    "    "
   ]
  },
  {
   "cell_type": "code",
   "execution_count": 336,
   "metadata": {
    "ExecuteTime": {
     "end_time": "2020-05-15T07:21:21.939931Z",
     "start_time": "2020-05-15T07:21:21.931098Z"
    },
    "scrolled": false
   },
   "outputs": [
    {
     "data": {
      "text/html": [
       "<div>\n",
       "<style scoped>\n",
       "    .dataframe tbody tr th:only-of-type {\n",
       "        vertical-align: middle;\n",
       "    }\n",
       "\n",
       "    .dataframe tbody tr th {\n",
       "        vertical-align: top;\n",
       "    }\n",
       "\n",
       "    .dataframe thead th {\n",
       "        text-align: right;\n",
       "    }\n",
       "</style>\n",
       "<table border=\"1\" class=\"dataframe\">\n",
       "  <thead>\n",
       "    <tr style=\"text-align: right;\">\n",
       "      <th></th>\n",
       "      <th>answerText</th>\n",
       "      <th>questionText</th>\n",
       "      <th>Therapist</th>\n",
       "      <th>time</th>\n",
       "      <th>questionTitle</th>\n",
       "    </tr>\n",
       "  </thead>\n",
       "  <tbody>\n",
       "    <tr>\n",
       "      <th>989</th>\n",
       "      <td>I deeply appreciate your situation. It sounds like you have done all you can for your wife — now it is time to do something for you. I would highly recommend Al-Anon. While it might seem odd to recommend a 12-step program for family and friends of alcoholics, your wife’s behavior sounds like it is an outgrowth of being in an alcoholic family — and as such makes you affected by it. This 12-step program will offer support, culled wisdom, fresh thoughts and inspiration. You may also want to supplement this with your own therapy. Turn your attention away from her and toward yourself.Wishing you patience and peace,</td>\n",
       "      <td>My wife suffers from depression but doesn’t acknowledge the symptoms . What should I do ? ? . She’s been in therapy 20 + years , has a family history of mental illness and addiction on both sides of her family . A few years back , she hit a rough patch in life where she lost her grandmother ( who raised her ) and her job in the span of a few months . She was in a bad place with her family dealing with a lot of anxiety , depression and emotional issues . Together we got her the help she needed . Found her a new doctor and therapist . She’s been taking Wellbutrin for about 2 years now and it seems she’s leveled out . However , this past Nov/ Dec . she stopped taking it for about 2 - 3 months . The only reason she gave me was that she couldn’t get to see her doctor to get a new prescription . ( Background : we relocated to a new city this past year , new jobs , new routines , new doctors , etc… ) . She finally started up the PX again a few weeks ago . She’s about 3 weeks back on the meds but her old symptoms have popped up . ( I don’t know the psychological terms , but she thinks that certain people are constantly talking about her and plotting against her . So she lashes out at them , mostly through emails and texts , admonishing them for their actions . None of them are actually doing anything so it creates a lot of family tension and anger . She tries to hide most of this behavior from me . And when I challenge her on the validity of her accusations , she tries to change the subject , gets really angry , or accuses me of being in on whatever conspiracy is at hand . The things she believes these people are saying about her , are very close to the stresses that she currently has in her life . Besides this , she seems visibly agitated , upset and has trouble focusing .</td>\n",
       "      <td>0</td>\n",
       "      <td>2018-05-8</td>\n",
       "      <td>What should I do ?</td>\n",
       "    </tr>\n",
       "  </tbody>\n",
       "</table>\n",
       "</div>"
      ],
      "text/plain": [
       "                                                                                                                                                                                                                                                                                                                                                                                                                                                                                                                                                                                                                                      answerText  \\\n",
       "989   I deeply appreciate your situation. It sounds like you have done all you can for your wife — now it is time to do something for you. I would highly recommend Al-Anon. While it might seem odd to recommend a 12-step program for family and friends of alcoholics, your wife’s behavior sounds like it is an outgrowth of being in an alcoholic family — and as such makes you affected by it. This 12-step program will offer support, culled wisdom, fresh thoughts and inspiration. You may also want to supplement this with your own therapy. Turn your attention away from her and toward yourself.Wishing you patience and peace,    \n",
       "\n",
       "                                                                                                                                                                                                                                                                                                                                                                                                                                                                                                                                                                                                                                                                                                                                                                                                                                                                                                                                                                                                                                                                                                                                                                                                                                                                                                                                                                                                                                                                                                                                                                                                                                                                                                                                                                                                                                                             questionText  \\\n",
       "989  My wife suffers from depression but doesn’t acknowledge the symptoms . What should I do ? ? . She’s been in therapy 20 + years , has a family history of mental illness and addiction on both sides of her family . A few years back , she hit a rough patch in life where she lost her grandmother ( who raised her ) and her job in the span of a few months . She was in a bad place with her family dealing with a lot of anxiety , depression and emotional issues . Together we got her the help she needed . Found her a new doctor and therapist . She’s been taking Wellbutrin for about 2 years now and it seems she’s leveled out . However , this past Nov/ Dec . she stopped taking it for about 2 - 3 months . The only reason she gave me was that she couldn’t get to see her doctor to get a new prescription . ( Background : we relocated to a new city this past year , new jobs , new routines , new doctors , etc… ) . She finally started up the PX again a few weeks ago . She’s about 3 weeks back on the meds but her old symptoms have popped up . ( I don’t know the psychological terms , but she thinks that certain people are constantly talking about her and plotting against her . So she lashes out at them , mostly through emails and texts , admonishing them for their actions . None of them are actually doing anything so it creates a lot of family tension and anger . She tries to hide most of this behavior from me . And when I challenge her on the validity of her accusations , she tries to change the subject , gets really angry , or accuses me of being in on whatever conspiracy is at hand . The things she believes these people are saying about her , are very close to the stresses that she currently has in her life . Besides this , she seems visibly agitated , upset and has trouble focusing .   \n",
       "\n",
       "     Therapist       time       questionTitle  \n",
       "989  0          2018-05-8  What should I do ?  "
      ]
     },
     "execution_count": 336,
     "metadata": {},
     "output_type": "execute_result"
    }
   ],
   "source": [
    "question_df.sample()"
   ]
  },
  {
   "cell_type": "markdown",
   "metadata": {},
   "source": [
    "## Combining Two Dataframes from CounsilChat"
   ]
  },
  {
   "cell_type": "code",
   "execution_count": 337,
   "metadata": {
    "ExecuteTime": {
     "end_time": "2020-05-15T07:21:36.850996Z",
     "start_time": "2020-05-15T07:21:36.840858Z"
    }
   },
   "outputs": [],
   "source": [
    "df = pd.concat([ df_old[[\"questionTitle\",\"questionText\",\"questionLink\",\"topic\",\"answerText\",\"upvotes\",\"views\"]],df_crawled[[\"questionTitle\",\"questionText\",\"questionLink\",\"topic\",\"answerText\",\"upvotes\",\"views\"]]])"
   ]
  },
  {
   "cell_type": "code",
   "execution_count": 338,
   "metadata": {
    "ExecuteTime": {
     "end_time": "2020-05-15T07:21:37.356743Z",
     "start_time": "2020-05-15T07:21:37.348066Z"
    }
   },
   "outputs": [],
   "source": [
    "df = df.reset_index()\n",
    "df = df.drop(\"index\", axis = 1)"
   ]
  },
  {
   "cell_type": "code",
   "execution_count": 339,
   "metadata": {
    "ExecuteTime": {
     "end_time": "2020-05-15T07:21:37.743830Z",
     "start_time": "2020-05-15T07:21:37.740107Z"
    }
   },
   "outputs": [
    {
     "data": {
      "text/plain": [
       "(14268, 7)"
      ]
     },
     "execution_count": 339,
     "metadata": {},
     "output_type": "execute_result"
    }
   ],
   "source": [
    "df.shape"
   ]
  },
  {
   "cell_type": "code",
   "execution_count": 340,
   "metadata": {
    "ExecuteTime": {
     "end_time": "2020-05-15T07:21:37.994537Z",
     "start_time": "2020-05-15T07:21:37.988949Z"
    }
   },
   "outputs": [
    {
     "data": {
      "text/plain": [
       "831"
      ]
     },
     "execution_count": 340,
     "metadata": {},
     "output_type": "execute_result"
    }
   ],
   "source": [
    "df.questionTitle.nunique()"
   ]
  },
  {
   "cell_type": "code",
   "execution_count": 341,
   "metadata": {
    "ExecuteTime": {
     "end_time": "2020-05-15T07:21:38.313893Z",
     "start_time": "2020-05-15T07:21:38.304309Z"
    },
    "scrolled": true
   },
   "outputs": [
    {
     "data": {
      "text/html": [
       "<div>\n",
       "<style scoped>\n",
       "    .dataframe tbody tr th:only-of-type {\n",
       "        vertical-align: middle;\n",
       "    }\n",
       "\n",
       "    .dataframe tbody tr th {\n",
       "        vertical-align: top;\n",
       "    }\n",
       "\n",
       "    .dataframe thead th {\n",
       "        text-align: right;\n",
       "    }\n",
       "</style>\n",
       "<table border=\"1\" class=\"dataframe\">\n",
       "  <thead>\n",
       "    <tr style=\"text-align: right;\">\n",
       "      <th></th>\n",
       "      <th>questionTitle</th>\n",
       "      <th>questionText</th>\n",
       "      <th>questionLink</th>\n",
       "      <th>topic</th>\n",
       "      <th>answerText</th>\n",
       "      <th>upvotes</th>\n",
       "      <th>views</th>\n",
       "    </tr>\n",
       "  </thead>\n",
       "  <tbody>\n",
       "    <tr>\n",
       "      <th>595</th>\n",
       "      <td>I think my daughter is stressing too much</td>\n",
       "      <td>When my daughter is stressed about a silly thing from school, she starts crying and freaking out. She is a bright student, always has a 4.0, but I am afraid she is stressing too much. I’m afraid it’s going to break her. I don't know if I should get her to a doctor or someone because this is not normal.</td>\n",
       "      <td>https://counselchat.com/questions/i-think-my-daughter-is-stressing-too-much</td>\n",
       "      <td>parenting</td>\n",
       "      <td>Hello! First of all, thank you for paying attention to your daughter and noticing that she is concerned! It sounds like you have been a positive influence on her for her to be so focused on achievement and for her to care so deeply about her performance! Based on what you've said here, I understand that you are concerned that she is overly stressed, though. I share your concern. People of all ages have meltdowns when they become overwhelmed with stress, and the negative consequences of those meltdowns can definitely have a ripple-effect into other areas of our lives.For your daughter, the thing I would want to know FIRST is this: does she feel she has adequate healthy coping skills to manage the stress she is experiencing? Because, it doesn't really matter WHAT she is stressing on...what matters is how she deals with her stress when it threatens to overwhelm her. I'd like to know what, exactly, that she does when she is feeling stressed that helps her to feel better. If she has only unhealthy coping skills (for example, sleeping, shutting-down, raging, self-attack with critical self-talk, etc.), or only one or two healthy skills, we would want to teach her some additional healthy strategies to help her KNOW that she can cope. Just one risk of not addressing this issue now could be that she may come to \"learn\" that stress is 'unbearable' which may cause her to turn to destructive or escapist strategies to avoid the discomfort, the pain of feeling hopeless, and/or the negative belief that she \"cannot help herself.\"  I definitely think it would be worth both your whiles to have her evaluated by her family doctor and/or a professional counselor. With a counselor specifically, she could learn the needed skills as well as be evaluated for other issues that may be contributing to the issue (for example, a learned belief that she \"must be perfect or she is not worthy.\") Plus, having a neutral support person to help her meet her personal goals is always a good thing. Good luck, mom and daughter!Learn more about me and my practice at www.EMDRheals.com</td>\n",
       "      <td>0</td>\n",
       "      <td>45</td>\n",
       "    </tr>\n",
       "  </tbody>\n",
       "</table>\n",
       "</div>"
      ],
      "text/plain": [
       "                                 questionTitle  \\\n",
       "595  I think my daughter is stressing too much   \n",
       "\n",
       "                                                                                                                                                                                                                                                                                                        questionText  \\\n",
       "595  When my daughter is stressed about a silly thing from school, she starts crying and freaking out. She is a bright student, always has a 4.0, but I am afraid she is stressing too much. I’m afraid it’s going to break her. I don't know if I should get her to a doctor or someone because this is not normal.   \n",
       "\n",
       "                                                                    questionLink  \\\n",
       "595  https://counselchat.com/questions/i-think-my-daughter-is-stressing-too-much   \n",
       "\n",
       "         topic  \\\n",
       "595  parenting   \n",
       "\n",
       "                                                                                                                                                                                                                                                                                                                                                                                                                                                                                                                                                                                                                                                                                                                                                                                                                                                                                                                                                                                                                                                                                                                                                                                                                                                                                                                                                                                                                                                                                                                                                                                                                                                                                                                                                                                                                                                                                                                                                                                                                                                                                                                                                        answerText  \\\n",
       "595  Hello! First of all, thank you for paying attention to your daughter and noticing that she is concerned! It sounds like you have been a positive influence on her for her to be so focused on achievement and for her to care so deeply about her performance! Based on what you've said here, I understand that you are concerned that she is overly stressed, though. I share your concern. People of all ages have meltdowns when they become overwhelmed with stress, and the negative consequences of those meltdowns can definitely have a ripple-effect into other areas of our lives.For your daughter, the thing I would want to know FIRST is this: does she feel she has adequate healthy coping skills to manage the stress she is experiencing? Because, it doesn't really matter WHAT she is stressing on...what matters is how she deals with her stress when it threatens to overwhelm her. I'd like to know what, exactly, that she does when she is feeling stressed that helps her to feel better. If she has only unhealthy coping skills (for example, sleeping, shutting-down, raging, self-attack with critical self-talk, etc.), or only one or two healthy skills, we would want to teach her some additional healthy strategies to help her KNOW that she can cope. Just one risk of not addressing this issue now could be that she may come to \"learn\" that stress is 'unbearable' which may cause her to turn to destructive or escapist strategies to avoid the discomfort, the pain of feeling hopeless, and/or the negative belief that she \"cannot help herself.\"  I definitely think it would be worth both your whiles to have her evaluated by her family doctor and/or a professional counselor. With a counselor specifically, she could learn the needed skills as well as be evaluated for other issues that may be contributing to the issue (for example, a learned belief that she \"must be perfect or she is not worthy.\") Plus, having a neutral support person to help her meet her personal goals is always a good thing. Good luck, mom and daughter!Learn more about me and my practice at www.EMDRheals.com   \n",
       "\n",
       "     upvotes  views  \n",
       "595  0        45     "
      ]
     },
     "execution_count": 341,
     "metadata": {},
     "output_type": "execute_result"
    }
   ],
   "source": [
    "df.sample()"
   ]
  },
  {
   "cell_type": "code",
   "execution_count": 342,
   "metadata": {
    "ExecuteTime": {
     "end_time": "2020-05-15T07:21:38.719844Z",
     "start_time": "2020-05-15T07:21:38.707938Z"
    }
   },
   "outputs": [],
   "source": [
    "df[\"questionText\"] = df[\"questionTitle\"] + \" \" + df[\"questionText\"]"
   ]
  },
  {
   "cell_type": "markdown",
   "metadata": {},
   "source": [
    "## Generating Root Topics, Multilabels for Questions"
   ]
  },
  {
   "cell_type": "code",
   "execution_count": 343,
   "metadata": {
    "ExecuteTime": {
     "end_time": "2020-05-15T07:21:58.896719Z",
     "start_time": "2020-05-15T07:21:39.799911Z"
    }
   },
   "outputs": [],
   "source": [
    "di = defaultdict(set)\n",
    "\n",
    "for i in range(df.shape[0]):\n",
    "    if str(df.loc[i,\"topic\"]) in [\"relationships\",\"intimacy\",\"family-conflict\",\"parenting\",\"relationship-dissolution\",\"marriage\",\"domestic-violence\"]:\n",
    "        df.loc[i,\"root_topic\"] = \"family_conflicts\"\n",
    "    elif df.loc[i,\"topic\"] in [\"depression\",\"anxiety\",\"stress\",\"anger-management\",\"trauma\"]:\n",
    "        df.loc[i,\"root_topic\"] = \"emotional_conflicts\"\n",
    "    else:\n",
    "        df.loc[i,\"root_topic\"] = \"others\"\n",
    "    \n",
    "    di[df.loc[i,\"questionTitle\"]].add(df.loc[i,\"root_topic\"])\n"
   ]
  },
  {
   "cell_type": "code",
   "execution_count": 344,
   "metadata": {
    "ExecuteTime": {
     "end_time": "2020-05-15T07:21:58.906989Z",
     "start_time": "2020-05-15T07:21:58.898610Z"
    }
   },
   "outputs": [],
   "source": [
    "df.sort_values(by=['upvotes','views'], ascending=False, inplace = True)"
   ]
  },
  {
   "cell_type": "code",
   "execution_count": 345,
   "metadata": {
    "ExecuteTime": {
     "end_time": "2020-05-15T07:21:58.922841Z",
     "start_time": "2020-05-15T07:21:58.909875Z"
    }
   },
   "outputs": [],
   "source": [
    "df.drop_duplicates(subset=['questionTitle','topic'], keep=\"first\",inplace = True)\n",
    "df = df.reset_index()\n",
    "df = df.drop(\"index\", axis = 1)"
   ]
  },
  {
   "cell_type": "code",
   "execution_count": 346,
   "metadata": {
    "ExecuteTime": {
     "end_time": "2020-05-15T07:21:58.928390Z",
     "start_time": "2020-05-15T07:21:58.925123Z"
    }
   },
   "outputs": [
    {
     "data": {
      "text/plain": [
       "(1449, 8)"
      ]
     },
     "execution_count": 346,
     "metadata": {},
     "output_type": "execute_result"
    }
   ],
   "source": [
    "df.shape"
   ]
  },
  {
   "cell_type": "code",
   "execution_count": 347,
   "metadata": {
    "ExecuteTime": {
     "end_time": "2020-05-15T07:21:59.266946Z",
     "start_time": "2020-05-15T07:21:58.930696Z"
    },
    "scrolled": true
   },
   "outputs": [
    {
     "data": {
      "text/plain": [
       "<matplotlib.axes._subplots.AxesSubplot at 0x11eca8780>"
      ]
     },
     "execution_count": 347,
     "metadata": {},
     "output_type": "execute_result"
    },
    {
     "data": {
      "image/png": "[encoded data removed]",
      "text/plain": [
       "<Figure size 432x288 with 1 Axes>"
      ]
     },
     "metadata": {
      "needs_background": "light"
     },
     "output_type": "display_data"
    }
   ],
   "source": [
    "df.topic.value_counts().apply(lambda x:x).plot(kind='bar')"
   ]
  },
  {
   "cell_type": "code",
   "execution_count": 348,
   "metadata": {
    "ExecuteTime": {
     "end_time": "2020-05-15T07:21:59.275839Z",
     "start_time": "2020-05-15T07:21:59.268624Z"
    }
   },
   "outputs": [],
   "source": [
    "df.drop_duplicates(subset=['questionTitle'], keep=\"first\",inplace = True)\n",
    "df = df.reset_index()\n",
    "df = df.drop(\"index\", axis = 1)"
   ]
  },
  {
   "cell_type": "code",
   "execution_count": 349,
   "metadata": {
    "ExecuteTime": {
     "end_time": "2020-05-15T07:21:59.281082Z",
     "start_time": "2020-05-15T07:21:59.277521Z"
    }
   },
   "outputs": [
    {
     "data": {
      "text/plain": [
       "(831, 8)"
      ]
     },
     "execution_count": 349,
     "metadata": {},
     "output_type": "execute_result"
    }
   ],
   "source": [
    "df.shape"
   ]
  },
  {
   "cell_type": "code",
   "execution_count": 350,
   "metadata": {
    "ExecuteTime": {
     "end_time": "2020-05-15T07:21:59.296982Z",
     "start_time": "2020-05-15T07:21:59.284545Z"
    }
   },
   "outputs": [],
   "source": [
    "labels = []\n",
    "for i in range(df.shape[0]):\n",
    "    topics = list(di[df.loc[i,\"questionTitle\"]])\n",
    "    label = [0,0,0]\n",
    "    for topic in topics:\n",
    "        if topic == 'family_conflicts':\n",
    "            label[0] = 1\n",
    "        if topic == 'emotional_conflicts':\n",
    "            label[1] = 1\n",
    "        if topic == 'others':\n",
    "            label[2] = 1\n",
    "    labels.append(label)\n",
    "\n",
    "df[\"root_multi_label\"] = pd.Series(labels, dtype = object)"
   ]
  },
  {
   "cell_type": "markdown",
   "metadata": {},
   "source": [
    "## Combining Kaggle Data with CouncilChat Data"
   ]
  },
  {
   "cell_type": "code",
   "execution_count": 351,
   "metadata": {
    "ExecuteTime": {
     "end_time": "2020-05-15T07:21:59.306755Z",
     "start_time": "2020-05-15T07:21:59.299364Z"
    }
   },
   "outputs": [],
   "source": [
    "final_df = pd.concat([df[[\"questionTitle\",\"questionText\",\"answerText\"]], question_df[[\"questionTitle\",\"questionText\",\"answerText\"]]])"
   ]
  },
  {
   "cell_type": "code",
   "execution_count": 352,
   "metadata": {
    "ExecuteTime": {
     "end_time": "2020-05-15T07:21:59.315124Z",
     "start_time": "2020-05-15T07:21:59.309404Z"
    }
   },
   "outputs": [],
   "source": [
    "final_df = final_df.reset_index()\n",
    "final_df = final_df.drop(\"index\", axis = 1)"
   ]
  },
  {
   "cell_type": "code",
   "execution_count": 353,
   "metadata": {
    "ExecuteTime": {
     "end_time": "2020-05-15T07:21:59.320982Z",
     "start_time": "2020-05-15T07:21:59.317416Z"
    }
   },
   "outputs": [
    {
     "data": {
      "text/plain": [
       "(2361, 3)"
      ]
     },
     "execution_count": 353,
     "metadata": {},
     "output_type": "execute_result"
    }
   ],
   "source": [
    "final_df.shape"
   ]
  },
  {
   "cell_type": "markdown",
   "metadata": {},
   "source": [
    "# Generating Good Reflections from Therapists Answers"
   ]
  },
  {
   "cell_type": "code",
   "execution_count": 354,
   "metadata": {
    "ExecuteTime": {
     "end_time": "2020-05-15T07:21:59.545197Z",
     "start_time": "2020-05-15T07:21:59.323589Z"
    }
   },
   "outputs": [],
   "source": [
    "final_df.answerText = final_df.answerText.apply(string_processing)"
   ]
  },
  {
   "cell_type": "code",
   "execution_count": 355,
   "metadata": {
    "ExecuteTime": {
     "end_time": "2020-05-15T07:22:06.134457Z",
     "start_time": "2020-05-15T07:21:59.547752Z"
    }
   },
   "outputs": [],
   "source": [
    "for i in range(final_df.shape[0]):\n",
    "    # extract if a sentence in answer has sounds like or seems like\n",
    "    if re.findall(r\"([^.]*?(sounds like|seems like)[^.]*\\.)\",final_df.loc[i,\"answerText\"]):\n",
    "        final_df.loc[i,\"reflection\"] = re.findall(r\"([^.]*?(sounds like|seems like)[^.]*\\.)\",final_df.loc[i,\"answerText\"])[0][0] \n",
    "    # check if answer contains atleast 2 senetences, extract the second sentence if the first sentence is shorter (for example if \"hello\" is the first sentence) \n",
    "    # check oif hello or thank you is present in first sentence, then extract second sentence\n",
    "    elif (\n",
    "        (len(final_df.loc[i,\"answerText\"].split(\".\")[0].split()) <= 2 and len(final_df.loc[i,\"answerText\"].split(\".\")) >= 2)\n",
    "        or ((\"hello\" in final_df.loc[i,\"answerText\"].split(\".\")[0].lower() or \"hi\" in final_df.loc[i,\"answerText\"].split(\".\")[0].lower() or \"thank you\" in final_df.loc[i,\"answerText\"].split(\".\")[0].lower()) and len(final_df.loc[i,\"answerText\"].split(\".\")) >= 2)):\n",
    "        final_df.loc[i,\"reflection\"] = final_df.loc[i,\"answerText\"].split(\".\")[1].strip()\n",
    "    # else just extract the first sentence as reflection\n",
    "    else:\n",
    "        final_df.loc[i,\"reflection\"] = final_df.loc[i,\"answerText\"].split(\".\")[0].strip()"
   ]
  },
  {
   "cell_type": "markdown",
   "metadata": {},
   "source": [
    "# Saving the Preprocessed Dataset in the Data Folder"
   ]
  },
  {
   "cell_type": "code",
   "execution_count": 356,
   "metadata": {
    "ExecuteTime": {
     "end_time": "2020-05-15T07:22:06.159269Z",
     "start_time": "2020-05-15T07:22:06.136178Z"
    }
   },
   "outputs": [],
   "source": [
    "final_df.to_pickle(\"../data/preprocessed_dataset\")"
   ]
  }
 ],
 "metadata": {
  "kernelspec": {
   "display_name": "Python 3",
   "language": "python",
   "name": "python3"
  },
  "language_info": {
   "codemirror_mode": {
    "name": "ipython",
    "version": 3
   },
   "file_extension": ".py",
   "mimetype": "text/x-python",
   "name": "python",
   "nbconvert_exporter": "python",
   "pygments_lexer": "ipython3",
   "version": "3.7.3"
  },
  "toc": {
   "base_numbering": 1,
   "nav_menu": {},
   "number_sections": true,
   "sideBar": true,
   "skip_h1_title": false,
   "title_cell": "Table of Contents",
   "title_sidebar": "Contents",
   "toc_cell": false,
   "toc_position": {},
   "toc_section_display": true,
   "toc_window_display": false
  }
 },
 "nbformat": 4,
 "nbformat_minor": 2
}
