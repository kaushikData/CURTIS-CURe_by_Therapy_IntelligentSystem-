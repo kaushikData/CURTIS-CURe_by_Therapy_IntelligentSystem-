{
 "cells": [
  {
   "cell_type": "markdown",
   "metadata": {},
   "source": [
    "# Imporing Libraries"
   ]
  },
  {
   "cell_type": "code",
   "execution_count": 85,
   "metadata": {
    "ExecuteTime": {
     "end_time": "2020-05-15T08:09:12.160801Z",
     "start_time": "2020-05-15T08:09:12.157970Z"
    }
   },
   "outputs": [],
   "source": [
    "# Data Visualization\n",
    "import matplotlib.pyplot as plt\n",
    "\n",
    "# Data Processing\n",
    "import pandas as pd\n",
    "\n",
    "# NLP \n",
    "import re\n",
    "\n",
    "# Others\n",
    "import os\n",
    "from collections import defaultdict"
   ]
  },
  {
   "cell_type": "markdown",
   "metadata": {},
   "source": [
    "# Processing and Preparing Data"
   ]
  },
  {
   "cell_type": "code",
   "execution_count": 86,
   "metadata": {
    "ExecuteTime": {
     "end_time": "2020-05-15T08:09:12.745604Z",
     "start_time": "2020-05-15T08:09:12.742720Z"
    }
   },
   "outputs": [],
   "source": [
    "def string_processing(answer):\n",
    "    pattern = '(?<! )(?=[!\\\"#$%&\\'()\\*\\+,-\\.:;=?@\\[\\]\\\\^_`\\|\\{\\}~])|(?<=[!\\\"#$%&\\'()\\*\\+,-\\.:;=?@\\[\\]\\\\^_`\\|\\{\\}~])(?! )'\n",
    "    answer = re.sub(pattern, r' ',  answer)\n",
    "    return answer"
   ]
  },
  {
   "cell_type": "markdown",
   "metadata": {
    "ExecuteTime": {
     "end_time": "2020-05-03T19:02:24.891505Z",
     "start_time": "2020-05-03T19:02:24.872160Z"
    }
   },
   "source": [
    "## Processing Crawled Data from CounselChat.com"
   ]
  },
  {
   "cell_type": "code",
   "execution_count": 87,
   "metadata": {
    "ExecuteTime": {
     "end_time": "2020-05-15T08:09:15.026252Z",
     "start_time": "2020-05-15T08:09:12.908550Z"
    }
   },
   "outputs": [],
   "source": [
    "path = \"../data/CouncilChat-CrawledData/\"\n",
    "files = os.listdir(path)\n",
    "files_xls = [f for f in files if f[-4:] == 'xlsx']\n",
    "list_df = []\n",
    "temp = []\n",
    "\n",
    "for index, filename in enumerate(files_xls):\n",
    "    try: \n",
    "        list_df.append(pd.read_excel(path+filename))\n",
    "        temp.append(filename.split(\".\")[0])\n",
    "    except:\n",
    "        temp.append()\n",
    "\n",
    "df_crawled = pd.concat(list_df)"
   ]
  },
  {
   "cell_type": "code",
   "execution_count": 88,
   "metadata": {
    "ExecuteTime": {
     "end_time": "2020-05-15T08:09:15.043884Z",
     "start_time": "2020-05-15T08:09:15.028261Z"
    }
   },
   "outputs": [],
   "source": [
    "df_crawled.dropna(inplace = True)"
   ]
  },
  {
   "cell_type": "code",
   "execution_count": 89,
   "metadata": {
    "ExecuteTime": {
     "end_time": "2020-05-15T08:09:15.058992Z",
     "start_time": "2020-05-15T08:09:15.046490Z"
    }
   },
   "outputs": [
    {
     "data": {
      "text/html": [
       "<div>\n",
       "<style scoped>\n",
       "    .dataframe tbody tr th:only-of-type {\n",
       "        vertical-align: middle;\n",
       "    }\n",
       "\n",
       "    .dataframe tbody tr th {\n",
       "        vertical-align: top;\n",
       "    }\n",
       "\n",
       "    .dataframe thead th {\n",
       "        text-align: right;\n",
       "    }\n",
       "</style>\n",
       "<table border=\"1\" class=\"dataframe\">\n",
       "  <thead>\n",
       "    <tr style=\"text-align: right;\">\n",
       "      <th></th>\n",
       "      <th>Unnamed: 0</th>\n",
       "      <th>questionID</th>\n",
       "      <th>questionTitle</th>\n",
       "      <th>questionText</th>\n",
       "      <th>questionLink</th>\n",
       "      <th>topic</th>\n",
       "      <th>therapistName</th>\n",
       "      <th>therapistTitle</th>\n",
       "      <th>therapistURL</th>\n",
       "      <th>answerText</th>\n",
       "      <th>upvotes</th>\n",
       "      <th>views</th>\n",
       "    </tr>\n",
       "  </thead>\n",
       "  <tbody>\n",
       "    <tr>\n",
       "      <th>0</th>\n",
       "      <td>0</td>\n",
       "      <td>1</td>\n",
       "      <td>I just lost my grandpa</td>\n",
       "      <td>I just lost my grandpa and i'm having a rough ...</td>\n",
       "      <td>https://counselchat.com/questions/i-just-lost-...</td>\n",
       "      <td>grief-and-loss</td>\n",
       "      <td>Ian Palombo</td>\n",
       "      <td>#ThoughtMediator &amp; #LifeUntangler</td>\n",
       "      <td>https://counselchat.com/therapists/ian-palombo</td>\n",
       "      <td>Feeling profound sadness after the death of a ...</td>\n",
       "      <td>0</td>\n",
       "      <td>92</td>\n",
       "    </tr>\n",
       "    <tr>\n",
       "      <th>1</th>\n",
       "      <td>1</td>\n",
       "      <td>1</td>\n",
       "      <td>I just lost my grandpa</td>\n",
       "      <td>I just lost my grandpa and i'm having a rough ...</td>\n",
       "      <td>https://counselchat.com/questions/i-just-lost-...</td>\n",
       "      <td>grief-and-loss</td>\n",
       "      <td>Dr. Melissa Valentina</td>\n",
       "      <td>Honor Yourself and Live Your Truth</td>\n",
       "      <td>https://counselchat.com/therapists/dr-melissa-...</td>\n",
       "      <td>If you connect with your therapist and can say...</td>\n",
       "      <td>0</td>\n",
       "      <td>16</td>\n",
       "    </tr>\n",
       "    <tr>\n",
       "      <th>2</th>\n",
       "      <td>2</td>\n",
       "      <td>1</td>\n",
       "      <td>I just lost my grandpa</td>\n",
       "      <td>I just lost my grandpa and i'm having a rough ...</td>\n",
       "      <td>https://counselchat.com/questions/i-just-lost-...</td>\n",
       "      <td>grief-and-loss</td>\n",
       "      <td>Dr. Timothy Paul</td>\n",
       "      <td>'man'; Online - \"Natural Health Consultant and...</td>\n",
       "      <td>https://counselchat.com/therapists/dr-timothy-...</td>\n",
       "      <td>Yknow, to see a man youve loved and care for p...</td>\n",
       "      <td>0</td>\n",
       "      <td>30</td>\n",
       "    </tr>\n",
       "    <tr>\n",
       "      <th>3</th>\n",
       "      <td>3</td>\n",
       "      <td>1</td>\n",
       "      <td>I just lost my grandpa</td>\n",
       "      <td>I just lost my grandpa and i'm having a rough ...</td>\n",
       "      <td>https://counselchat.com/questions/i-just-lost-...</td>\n",
       "      <td>grief-and-loss</td>\n",
       "      <td>Christina McGrath Fair</td>\n",
       "      <td>\"Enlightenment is when a wave realizes it is t...</td>\n",
       "      <td>https://counselchat.com/therapists/christina-m...</td>\n",
       "      <td>I am sorry for your loss. I understand the dif...</td>\n",
       "      <td>0</td>\n",
       "      <td>157</td>\n",
       "    </tr>\n",
       "    <tr>\n",
       "      <th>4</th>\n",
       "      <td>4</td>\n",
       "      <td>1</td>\n",
       "      <td>I just lost my grandpa</td>\n",
       "      <td>I just lost my grandpa and i'm having a rough ...</td>\n",
       "      <td>https://counselchat.com/questions/i-just-lost-...</td>\n",
       "      <td>grief-and-loss</td>\n",
       "      <td>Pamela Suraci</td>\n",
       "      <td>Build on your strengths, grow in your challeng...</td>\n",
       "      <td>https://counselchat.com/therapists/pamela-suraci</td>\n",
       "      <td>Losing someone you love, someone who has been ...</td>\n",
       "      <td>0</td>\n",
       "      <td>231</td>\n",
       "    </tr>\n",
       "  </tbody>\n",
       "</table>\n",
       "</div>"
      ],
      "text/plain": [
       "   Unnamed: 0  questionID           questionTitle  \\\n",
       "0           0           1  I just lost my grandpa   \n",
       "1           1           1  I just lost my grandpa   \n",
       "2           2           1  I just lost my grandpa   \n",
       "3           3           1  I just lost my grandpa   \n",
       "4           4           1  I just lost my grandpa   \n",
       "\n",
       "                                        questionText  \\\n",
       "0  I just lost my grandpa and i'm having a rough ...   \n",
       "1  I just lost my grandpa and i'm having a rough ...   \n",
       "2  I just lost my grandpa and i'm having a rough ...   \n",
       "3  I just lost my grandpa and i'm having a rough ...   \n",
       "4  I just lost my grandpa and i'm having a rough ...   \n",
       "\n",
       "                                        questionLink           topic  \\\n",
       "0  https://counselchat.com/questions/i-just-lost-...  grief-and-loss   \n",
       "1  https://counselchat.com/questions/i-just-lost-...  grief-and-loss   \n",
       "2  https://counselchat.com/questions/i-just-lost-...  grief-and-loss   \n",
       "3  https://counselchat.com/questions/i-just-lost-...  grief-and-loss   \n",
       "4  https://counselchat.com/questions/i-just-lost-...  grief-and-loss   \n",
       "\n",
       "            therapistName                                     therapistTitle  \\\n",
       "0             Ian Palombo                  #ThoughtMediator & #LifeUntangler   \n",
       "1   Dr. Melissa Valentina                 Honor Yourself and Live Your Truth   \n",
       "2        Dr. Timothy Paul  'man'; Online - \"Natural Health Consultant and...   \n",
       "3  Christina McGrath Fair  \"Enlightenment is when a wave realizes it is t...   \n",
       "4           Pamela Suraci  Build on your strengths, grow in your challeng...   \n",
       "\n",
       "                                        therapistURL  \\\n",
       "0     https://counselchat.com/therapists/ian-palombo   \n",
       "1  https://counselchat.com/therapists/dr-melissa-...   \n",
       "2  https://counselchat.com/therapists/dr-timothy-...   \n",
       "3  https://counselchat.com/therapists/christina-m...   \n",
       "4   https://counselchat.com/therapists/pamela-suraci   \n",
       "\n",
       "                                          answerText  upvotes  views  \n",
       "0  Feeling profound sadness after the death of a ...        0     92  \n",
       "1  If you connect with your therapist and can say...        0     16  \n",
       "2  Yknow, to see a man youve loved and care for p...        0     30  \n",
       "3  I am sorry for your loss. I understand the dif...        0    157  \n",
       "4  Losing someone you love, someone who has been ...        0    231  "
      ]
     },
     "execution_count": 89,
     "metadata": {},
     "output_type": "execute_result"
    }
   ],
   "source": [
    "df_crawled.head()"
   ]
  },
  {
   "cell_type": "code",
   "execution_count": 90,
   "metadata": {
    "ExecuteTime": {
     "end_time": "2020-05-15T08:09:15.065943Z",
     "start_time": "2020-05-15T08:09:15.061580Z"
    }
   },
   "outputs": [],
   "source": [
    "df_crawled.drop(\"Unnamed: 0\", axis = 1, inplace = True)"
   ]
  },
  {
   "cell_type": "code",
   "execution_count": 91,
   "metadata": {
    "ExecuteTime": {
     "end_time": "2020-05-15T08:09:15.071706Z",
     "start_time": "2020-05-15T08:09:15.068085Z"
    }
   },
   "outputs": [
    {
     "data": {
      "text/plain": [
       "(12139, 11)"
      ]
     },
     "execution_count": 91,
     "metadata": {},
     "output_type": "execute_result"
    }
   ],
   "source": [
    "df_crawled.shape"
   ]
  },
  {
   "cell_type": "code",
   "execution_count": 92,
   "metadata": {
    "ExecuteTime": {
     "end_time": "2020-05-15T08:09:15.076892Z",
     "start_time": "2020-05-15T08:09:15.073562Z"
    }
   },
   "outputs": [
    {
     "data": {
      "text/plain": [
       "(12139, 11)"
      ]
     },
     "execution_count": 92,
     "metadata": {},
     "output_type": "execute_result"
    }
   ],
   "source": [
    "df_crawled.shape"
   ]
  },
  {
   "cell_type": "code",
   "execution_count": 93,
   "metadata": {
    "ExecuteTime": {
     "end_time": "2020-05-15T08:09:15.082663Z",
     "start_time": "2020-05-15T08:09:15.078688Z"
    }
   },
   "outputs": [
    {
     "data": {
      "text/plain": [
       "33"
      ]
     },
     "execution_count": 93,
     "metadata": {},
     "output_type": "execute_result"
    }
   ],
   "source": [
    "df_crawled.topic.nunique()"
   ]
  },
  {
   "cell_type": "code",
   "execution_count": 94,
   "metadata": {
    "ExecuteTime": {
     "end_time": "2020-05-15T08:09:15.090662Z",
     "start_time": "2020-05-15T08:09:15.085863Z"
    }
   },
   "outputs": [],
   "source": [
    "df_crawled = df_crawled[[\"questionTitle\",\"questionText\",\"questionLink\",\"topic\",\"answerText\",\"upvotes\",\"views\"]]"
   ]
  },
  {
   "cell_type": "code",
   "execution_count": 95,
   "metadata": {
    "ExecuteTime": {
     "end_time": "2020-05-15T08:09:15.148912Z",
     "start_time": "2020-05-15T08:09:15.093197Z"
    }
   },
   "outputs": [],
   "source": [
    "df_crawled[\"questionText\"] = df_crawled[\"questionTitle\"] + \" \" + df_crawled[\"questionText\"]"
   ]
  },
  {
   "cell_type": "code",
   "execution_count": 96,
   "metadata": {
    "ExecuteTime": {
     "end_time": "2020-05-15T08:09:15.160766Z",
     "start_time": "2020-05-15T08:09:15.151326Z"
    }
   },
   "outputs": [],
   "source": [
    "df_crawled = df_crawled.reset_index()\n",
    "df_crawled = df_crawled.drop(['index'], axis = 1)"
   ]
  },
  {
   "cell_type": "markdown",
   "metadata": {},
   "source": [
    "## Preprocessing Kaggle Data"
   ]
  },
  {
   "cell_type": "code",
   "execution_count": 97,
   "metadata": {
    "ExecuteTime": {
     "end_time": "2020-05-15T08:09:15.296592Z",
     "start_time": "2020-05-15T08:09:15.162681Z"
    }
   },
   "outputs": [],
   "source": [
    "df_kaggle = pd.read_csv('/Users/kaushik-shakkari/Downloads/Psych_data.csv')"
   ]
  },
  {
   "cell_type": "code",
   "execution_count": 98,
   "metadata": {
    "ExecuteTime": {
     "end_time": "2020-05-15T08:09:15.304841Z",
     "start_time": "2020-05-15T08:09:15.298458Z"
    }
   },
   "outputs": [],
   "source": [
    "df_kaggle.Answer = df_kaggle.Answer.astype(str)\n",
    "df_kaggle.Question = df_kaggle.Question.astype(str)"
   ]
  },
  {
   "cell_type": "code",
   "execution_count": 99,
   "metadata": {
    "ExecuteTime": {
     "end_time": "2020-05-15T08:09:15.311532Z",
     "start_time": "2020-05-15T08:09:15.306967Z"
    }
   },
   "outputs": [],
   "source": [
    "if 'Unnamed: 0' in df_kaggle.columns:\n",
    "    df_kaggle.drop(['Unnamed: 0'], inplace = True, axis = 1)"
   ]
  },
  {
   "cell_type": "code",
   "execution_count": 100,
   "metadata": {
    "ExecuteTime": {
     "end_time": "2020-05-15T08:09:15.324077Z",
     "start_time": "2020-05-15T08:09:15.313573Z"
    }
   },
   "outputs": [
    {
     "data": {
      "text/plain": [
       "False    3788\n",
       "True     1530\n",
       "Name: Question, dtype: int64"
      ]
     },
     "execution_count": 100,
     "metadata": {},
     "output_type": "execute_result"
    }
   ],
   "source": [
    "(df_kaggle.Question.str.find(\"?\") != -1).value_counts()"
   ]
  },
  {
   "cell_type": "code",
   "execution_count": 101,
   "metadata": {
    "ExecuteTime": {
     "end_time": "2020-05-15T08:09:15.334373Z",
     "start_time": "2020-05-15T08:09:15.326058Z"
    }
   },
   "outputs": [],
   "source": [
    "question_df = df_kaggle[df_kaggle.Question.str.find(\"?\") != -1]"
   ]
  },
  {
   "cell_type": "code",
   "execution_count": 102,
   "metadata": {
    "ExecuteTime": {
     "end_time": "2020-05-15T08:09:15.342097Z",
     "start_time": "2020-05-15T08:09:15.336480Z"
    }
   },
   "outputs": [],
   "source": [
    "question_df = question_df.reset_index()\n",
    "question_df.drop(['index'], axis = 1, inplace = True)"
   ]
  },
  {
   "cell_type": "code",
   "execution_count": 103,
   "metadata": {
    "ExecuteTime": {
     "end_time": "2020-05-15T08:09:15.352986Z",
     "start_time": "2020-05-15T08:09:15.344208Z"
    },
    "scrolled": true
   },
   "outputs": [
    {
     "data": {
      "text/html": [
       "<div>\n",
       "<style scoped>\n",
       "    .dataframe tbody tr th:only-of-type {\n",
       "        vertical-align: middle;\n",
       "    }\n",
       "\n",
       "    .dataframe tbody tr th {\n",
       "        vertical-align: top;\n",
       "    }\n",
       "\n",
       "    .dataframe thead th {\n",
       "        text-align: right;\n",
       "    }\n",
       "</style>\n",
       "<table border=\"1\" class=\"dataframe\">\n",
       "  <thead>\n",
       "    <tr style=\"text-align: right;\">\n",
       "      <th></th>\n",
       "      <th>Answer</th>\n",
       "      <th>Question</th>\n",
       "      <th>Therapist</th>\n",
       "      <th>time</th>\n",
       "    </tr>\n",
       "  </thead>\n",
       "  <tbody>\n",
       "    <tr>\n",
       "      <th>0</th>\n",
       "      <td>It’s impossible to give a diagnosis over the i...</td>\n",
       "      <td>I don’t even really know where to start. For t...</td>\n",
       "      <td>7</td>\n",
       "      <td>2019-09-14</td>\n",
       "    </tr>\n",
       "    <tr>\n",
       "      <th>1</th>\n",
       "      <td>Congratulations on bringing your new baby into...</td>\n",
       "      <td>From a woman in the UK: Hi, I have a 4 month o...</td>\n",
       "      <td>2</td>\n",
       "      <td>2019-09-16</td>\n",
       "    </tr>\n",
       "    <tr>\n",
       "      <th>2</th>\n",
       "      <td>Just by writing to us you have begun to make t...</td>\n",
       "      <td>Hello! I would like to know some exercises or ...</td>\n",
       "      <td>0</td>\n",
       "      <td>2019-09-6</td>\n",
       "    </tr>\n",
       "    <tr>\n",
       "      <th>3</th>\n",
       "      <td>Incest involves sexual relationships between p...</td>\n",
       "      <td>Me and my older brother have always been close...</td>\n",
       "      <td>7</td>\n",
       "      <td>2019-09-19</td>\n",
       "    </tr>\n",
       "    <tr>\n",
       "      <th>4</th>\n",
       "      <td>Thank you for writing. In my opinion, this is ...</td>\n",
       "      <td>From a young woman in the U.S.: I have had eno...</td>\n",
       "      <td>2</td>\n",
       "      <td>2019-09-11</td>\n",
       "    </tr>\n",
       "  </tbody>\n",
       "</table>\n",
       "</div>"
      ],
      "text/plain": [
       "                                              Answer  \\\n",
       "0  It’s impossible to give a diagnosis over the i...   \n",
       "1  Congratulations on bringing your new baby into...   \n",
       "2  Just by writing to us you have begun to make t...   \n",
       "3  Incest involves sexual relationships between p...   \n",
       "4  Thank you for writing. In my opinion, this is ...   \n",
       "\n",
       "                                            Question  Therapist        time  \n",
       "0  I don’t even really know where to start. For t...          7  2019-09-14  \n",
       "1  From a woman in the UK: Hi, I have a 4 month o...          2  2019-09-16  \n",
       "2  Hello! I would like to know some exercises or ...          0   2019-09-6  \n",
       "3  Me and my older brother have always been close...          7  2019-09-19  \n",
       "4  From a young woman in the U.S.: I have had eno...          2  2019-09-11  "
      ]
     },
     "execution_count": 103,
     "metadata": {},
     "output_type": "execute_result"
    }
   ],
   "source": [
    "question_df.head()"
   ]
  },
  {
   "cell_type": "code",
   "execution_count": 104,
   "metadata": {
    "ExecuteTime": {
     "end_time": "2020-05-15T08:09:15.490396Z",
     "start_time": "2020-05-15T08:09:15.355281Z"
    }
   },
   "outputs": [],
   "source": [
    "question_df.Question = question_df.Question.apply(string_processing)"
   ]
  },
  {
   "cell_type": "code",
   "execution_count": 105,
   "metadata": {
    "ExecuteTime": {
     "end_time": "2020-05-15T08:09:15.496842Z",
     "start_time": "2020-05-15T08:09:15.493287Z"
    }
   },
   "outputs": [
    {
     "data": {
      "text/plain": [
       "(1530, 4)"
      ]
     },
     "execution_count": 105,
     "metadata": {},
     "output_type": "execute_result"
    }
   ],
   "source": [
    "question_df.shape"
   ]
  },
  {
   "cell_type": "code",
   "execution_count": 106,
   "metadata": {
    "ExecuteTime": {
     "end_time": "2020-05-15T08:09:15.619770Z",
     "start_time": "2020-05-15T08:09:15.615768Z"
    }
   },
   "outputs": [],
   "source": [
    "question_df.rename(columns={'Question': 'questionText','Answer':'answerText'}, inplace=True)"
   ]
  },
  {
   "cell_type": "code",
   "execution_count": 107,
   "metadata": {
    "ExecuteTime": {
     "end_time": "2020-05-15T08:09:16.142588Z",
     "start_time": "2020-05-15T08:09:16.138884Z"
    }
   },
   "outputs": [],
   "source": [
    "def findLastIndex(strn): \n",
    "    li_strn = strn.split()\n",
    "    index = -1\n",
    "    for i in range(0, len(li_strn)): \n",
    "        if li_strn[i] == '?': \n",
    "            index = i \n",
    "    return index, li_strn, len(li_strn)"
   ]
  },
  {
   "cell_type": "code",
   "execution_count": 108,
   "metadata": {
    "ExecuteTime": {
     "end_time": "2020-05-15T08:09:16.463218Z",
     "start_time": "2020-05-15T08:09:16.460828Z"
    }
   },
   "outputs": [],
   "source": [
    "question_df.questionTitle = \"\""
   ]
  },
  {
   "cell_type": "code",
   "execution_count": 109,
   "metadata": {
    "ExecuteTime": {
     "end_time": "2020-05-15T08:09:19.144741Z",
     "start_time": "2020-05-15T08:09:16.677788Z"
    },
    "scrolled": false
   },
   "outputs": [],
   "source": [
    "for i in range(question_df.shape[0]):\n",
    "    #if i == 834:\n",
    "    \n",
    "    question_df.loc[i,\"questionText\"] = re.sub('\\?\\?+','?',question_df.loc[i,\"questionText\"])\n",
    "\n",
    "    li = re.findall('(?<=\\.|\\?)[^\\.]+?\\?', question_df.loc[i,\"questionText\"])\n",
    "\n",
    "    if li == []:\n",
    "        li1 = re.findall('.*\\?', question_df.loc[i,\"questionText\"])\n",
    "        li1.sort(key = lambda x:len(x))\n",
    "        ques = li1[-1]\n",
    "    else:\n",
    "        li.sort(key = lambda x:len(x))\n",
    "        ques = li[-1]\n",
    "    question_df.loc[i,\"questionTitle\"] = ques.strip()\n",
    "    #print (\"questionTitle\" ,ques)\n",
    "    index, li_qt, context_len = findLastIndex(question_df.loc[i,\"questionText\"])\n",
    "\n",
    "    pre_ques_len =  index \n",
    "    post_ques_len = context_len - index \n",
    "    #print (\"pre: \", pre_ques_len)\n",
    "    #print (\"post: \", post_ques_len)\n",
    "\n",
    "    if pre_ques_len > 300 and post_ques_len > 200:\n",
    "        qt = ' '.join(li_qt[index-300:index] + li_qt[index:index+200])\n",
    "    elif pre_ques_len > 300:\n",
    "        if index-300-200+post_ques_len < 0:\n",
    "            indx = 0\n",
    "        else:\n",
    "            indx = index-300-200+post_ques_len\n",
    "        qt = ' '.join(li_qt[indx:index] + li_qt[index:index+post_ques_len])\n",
    "    elif post_ques_len > 200:\n",
    "        qt = ' '.join(li_qt[index-pre_ques_len:index] + li_qt[index:index+200+300-pre_ques_len])\n",
    "    else:\n",
    "        qt = ' '.join(li_qt)\n",
    "    #print (\"question text: \", qt)\n",
    "    question_df.loc[i,\"questionText\"] = qt\n",
    "    "
   ]
  },
  {
   "cell_type": "code",
   "execution_count": 110,
   "metadata": {
    "ExecuteTime": {
     "end_time": "2020-05-15T08:09:19.155600Z",
     "start_time": "2020-05-15T08:09:19.146802Z"
    },
    "scrolled": false
   },
   "outputs": [
    {
     "data": {
      "text/html": [
       "<div>\n",
       "<style scoped>\n",
       "    .dataframe tbody tr th:only-of-type {\n",
       "        vertical-align: middle;\n",
       "    }\n",
       "\n",
       "    .dataframe tbody tr th {\n",
       "        vertical-align: top;\n",
       "    }\n",
       "\n",
       "    .dataframe thead th {\n",
       "        text-align: right;\n",
       "    }\n",
       "</style>\n",
       "<table border=\"1\" class=\"dataframe\">\n",
       "  <thead>\n",
       "    <tr style=\"text-align: right;\">\n",
       "      <th></th>\n",
       "      <th>answerText</th>\n",
       "      <th>questionText</th>\n",
       "      <th>Therapist</th>\n",
       "      <th>time</th>\n",
       "      <th>questionTitle</th>\n",
       "    </tr>\n",
       "  </thead>\n",
       "  <tbody>\n",
       "    <tr>\n",
       "      <th>612</th>\n",
       "      <td>I’m sorry that you have had such difficulties...</td>\n",
       "      <td>Our son is 27 years old . He has had a rocky c...</td>\n",
       "      <td>5</td>\n",
       "      <td>2018-05-8</td>\n",
       "      <td>Any suggestions ?</td>\n",
       "    </tr>\n",
       "  </tbody>\n",
       "</table>\n",
       "</div>"
      ],
      "text/plain": [
       "                                            answerText  \\\n",
       "612   I’m sorry that you have had such difficulties...   \n",
       "\n",
       "                                          questionText  Therapist       time  \\\n",
       "612  Our son is 27 years old . He has had a rocky c...          5  2018-05-8   \n",
       "\n",
       "         questionTitle  \n",
       "612  Any suggestions ?  "
      ]
     },
     "execution_count": 110,
     "metadata": {},
     "output_type": "execute_result"
    }
   ],
   "source": [
    "question_df.sample()"
   ]
  },
  {
   "cell_type": "markdown",
   "metadata": {},
   "source": [
    "## Generating Root Topics, Multilabels for Questions"
   ]
  },
  {
   "cell_type": "code",
   "execution_count": 111,
   "metadata": {
    "ExecuteTime": {
     "end_time": "2020-05-15T08:09:34.035977Z",
     "start_time": "2020-05-15T08:09:19.158564Z"
    }
   },
   "outputs": [],
   "source": [
    "di = defaultdict(set)\n",
    "\n",
    "for i in range(df_crawled.shape[0]):\n",
    "    if str(df_crawled.loc[i,\"topic\"]) in [\"relationships\",\"intimacy\",\"family-conflict\",\"parenting\",\"relationship-dissolution\",\"marriage\",\"domestic-violence\"]:\n",
    "        df_crawled.loc[i,\"root_topic\"] = \"family_conflicts\"\n",
    "    elif df_crawled.loc[i,\"topic\"] in [\"depression\",\"anxiety\",\"stress\",\"anger-management\",\"trauma\"]:\n",
    "        df_crawled.loc[i,\"root_topic\"] = \"emotional_conflicts\"\n",
    "    else:\n",
    "        df_crawled.loc[i,\"root_topic\"] = \"others\"\n",
    "    \n",
    "    di[df_crawled.loc[i,\"questionTitle\"]].add(df_crawled.loc[i,\"root_topic\"])\n"
   ]
  },
  {
   "cell_type": "code",
   "execution_count": 112,
   "metadata": {
    "ExecuteTime": {
     "end_time": "2020-05-15T08:09:34.047763Z",
     "start_time": "2020-05-15T08:09:34.038125Z"
    }
   },
   "outputs": [],
   "source": [
    "df_crawled.sort_values(by=['upvotes','views'], ascending=False, inplace = True)"
   ]
  },
  {
   "cell_type": "code",
   "execution_count": 113,
   "metadata": {
    "ExecuteTime": {
     "end_time": "2020-05-15T08:09:34.062439Z",
     "start_time": "2020-05-15T08:09:34.050134Z"
    }
   },
   "outputs": [],
   "source": [
    "df_crawled.drop_duplicates(subset=['questionTitle','topic'], keep=\"first\",inplace = True)\n",
    "df_crawled = df_crawled.reset_index()\n",
    "df_crawled = df_crawled.drop(\"index\", axis = 1)"
   ]
  },
  {
   "cell_type": "code",
   "execution_count": 114,
   "metadata": {
    "ExecuteTime": {
     "end_time": "2020-05-15T08:09:34.067883Z",
     "start_time": "2020-05-15T08:09:34.064537Z"
    }
   },
   "outputs": [
    {
     "data": {
      "text/plain": [
       "(1425, 8)"
      ]
     },
     "execution_count": 114,
     "metadata": {},
     "output_type": "execute_result"
    }
   ],
   "source": [
    "df_crawled.shape"
   ]
  },
  {
   "cell_type": "code",
   "execution_count": 115,
   "metadata": {
    "ExecuteTime": {
     "end_time": "2020-05-15T08:09:34.407697Z",
     "start_time": "2020-05-15T08:09:34.070374Z"
    },
    "scrolled": true
   },
   "outputs": [
    {
     "data": {
      "text/plain": [
       "<matplotlib.axes._subplots.AxesSubplot at 0x115b130f0>"
      ]
     },
     "execution_count": 115,
     "metadata": {},
     "output_type": "execute_result"
    },
    {
     "data": {
      "image/png": "[encoded data removed]",
      "text/plain": [
       "<Figure size 432x288 with 1 Axes>"
      ]
     },
     "metadata": {
      "needs_background": "light"
     },
     "output_type": "display_data"
    }
   ],
   "source": [
    "df_crawled.topic.value_counts().apply(lambda x:x).plot(kind='bar')"
   ]
  },
  {
   "cell_type": "code",
   "execution_count": 118,
   "metadata": {
    "ExecuteTime": {
     "end_time": "2020-05-15T08:09:34.438883Z",
     "start_time": "2020-05-15T08:09:34.426420Z"
    }
   },
   "outputs": [],
   "source": [
    "labels = []\n",
    "for i in range(df_crawled.shape[0]):\n",
    "    topics = list(di[df_crawled.loc[i,\"questionTitle\"]])\n",
    "    label = [0,0,0]\n",
    "    for topic in topics:\n",
    "        if topic == 'family_conflicts':\n",
    "            label[0] = 1\n",
    "        if topic == 'emotional_conflicts':\n",
    "            label[1] = 1\n",
    "        if topic == 'others':\n",
    "            label[2] = 1\n",
    "    labels.append(label)\n",
    "\n",
    "df_crawled[\"root_multi_label\"] = pd.Series(labels, dtype = object)"
   ]
  },
  {
   "cell_type": "markdown",
   "metadata": {},
   "source": [
    "## Combining Kaggle Data with CouncilChat Data"
   ]
  },
  {
   "cell_type": "code",
   "execution_count": 119,
   "metadata": {
    "ExecuteTime": {
     "end_time": "2020-05-15T08:09:34.451569Z",
     "start_time": "2020-05-15T08:09:34.440905Z"
    }
   },
   "outputs": [],
   "source": [
    "final_df = pd.concat([df_crawled[[\"questionTitle\",\"questionText\",\"answerText\"]], question_df[[\"questionTitle\",\"questionText\",\"answerText\"]]])"
   ]
  },
  {
   "cell_type": "code",
   "execution_count": 120,
   "metadata": {
    "ExecuteTime": {
     "end_time": "2020-05-15T08:09:34.459441Z",
     "start_time": "2020-05-15T08:09:34.453637Z"
    }
   },
   "outputs": [],
   "source": [
    "final_df = final_df.reset_index()\n",
    "final_df = final_df.drop(\"index\", axis = 1)"
   ]
  },
  {
   "cell_type": "code",
   "execution_count": 121,
   "metadata": {
    "ExecuteTime": {
     "end_time": "2020-05-15T08:09:34.464886Z",
     "start_time": "2020-05-15T08:09:34.461494Z"
    }
   },
   "outputs": [
    {
     "data": {
      "text/plain": [
       "(2337, 3)"
      ]
     },
     "execution_count": 121,
     "metadata": {},
     "output_type": "execute_result"
    }
   ],
   "source": [
    "final_df.shape"
   ]
  },
  {
   "cell_type": "markdown",
   "metadata": {},
   "source": [
    "# Generating Good Reflections from Therapists Answers"
   ]
  },
  {
   "cell_type": "code",
   "execution_count": 122,
   "metadata": {
    "ExecuteTime": {
     "end_time": "2020-05-15T08:09:34.668265Z",
     "start_time": "2020-05-15T08:09:34.466855Z"
    }
   },
   "outputs": [],
   "source": [
    "final_df.answerText = final_df.answerText.apply(string_processing)"
   ]
  },
  {
   "cell_type": "code",
   "execution_count": 123,
   "metadata": {
    "ExecuteTime": {
     "end_time": "2020-05-15T08:09:40.008658Z",
     "start_time": "2020-05-15T08:09:34.670682Z"
    }
   },
   "outputs": [],
   "source": [
    "for i in range(final_df.shape[0]):\n",
    "    # extract if a sentence in answer has sounds like or seems like\n",
    "    if re.findall(r\"([^.]*?(sounds like|seems like)[^.]*\\.)\",final_df.loc[i,\"answerText\"]):\n",
    "        final_df.loc[i,\"reflection\"] = re.findall(r\"([^.]*?(sounds like|seems like)[^.]*\\.)\",final_df.loc[i,\"answerText\"])[0][0] \n",
    "    # check if answer contains atleast 2 senetences, extract the second sentence if the first sentence is shorter (for example if \"hello\" is the first sentence) \n",
    "    # check oif hello or thank you is present in first sentence, then extract second sentence\n",
    "    elif (\n",
    "        (len(final_df.loc[i,\"answerText\"].split(\".\")[0].split()) <= 2 and len(final_df.loc[i,\"answerText\"].split(\".\")) >= 2)\n",
    "        or ((\"hello\" in final_df.loc[i,\"answerText\"].split(\".\")[0].lower() or \"hi\" in final_df.loc[i,\"answerText\"].split(\".\")[0].lower() or \"thank you\" in final_df.loc[i,\"answerText\"].split(\".\")[0].lower()) and len(final_df.loc[i,\"answerText\"].split(\".\")) >= 2)):\n",
    "        final_df.loc[i,\"reflection\"] = final_df.loc[i,\"answerText\"].split(\".\")[1].strip()\n",
    "    # else just extract the first sentence as reflection\n",
    "    else:\n",
    "        final_df.loc[i,\"reflection\"] = final_df.loc[i,\"answerText\"].split(\".\")[0].strip()"
   ]
  },
  {
   "cell_type": "markdown",
   "metadata": {},
   "source": [
    "# Saving the Preprocessed Dataset in the Data Folder"
   ]
  },
  {
   "cell_type": "code",
   "execution_count": 124,
   "metadata": {
    "ExecuteTime": {
     "end_time": "2020-05-15T08:09:40.028966Z",
     "start_time": "2020-05-15T08:09:40.010183Z"
    }
   },
   "outputs": [],
   "source": [
    "final_df.to_pickle(\"../data/preprocessed_dataset\")"
   ]
  }
 ],
 "metadata": {
  "kernelspec": {
   "display_name": "Python 3",
   "language": "python",
   "name": "python3"
  },
  "language_info": {
   "codemirror_mode": {
    "name": "ipython",
    "version": 3
   },
   "file_extension": ".py",
   "mimetype": "text/x-python",
   "name": "python",
   "nbconvert_exporter": "python",
   "pygments_lexer": "ipython3",
   "version": "3.7.3"
  },
  "toc": {
   "base_numbering": 1,
   "nav_menu": {},
   "number_sections": true,
   "sideBar": true,
   "skip_h1_title": false,
   "title_cell": "Table of Contents",
   "title_sidebar": "Contents",
   "toc_cell": false,
   "toc_position": {},
   "toc_section_display": true,
   "toc_window_display": false
  }
 },
 "nbformat": 4,
 "nbformat_minor": 2
}
